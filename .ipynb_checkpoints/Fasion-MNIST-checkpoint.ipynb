{
 "cells": [
  {
   "cell_type": "code",
   "execution_count": 1,
   "metadata": {},
   "outputs": [
    {
     "name": "stdout",
     "output_type": "stream",
     "text": [
      "gpu PhysicalDevice(name='/physical_device:GPU:0', device_type='GPU')\n",
      "memory growth: True\n"
     ]
    }
   ],
   "source": [
    "import tensorflow as tf\n",
    "gpus = tf.config.experimental.list_physical_devices('GPU')\n",
    "for gpu in gpus:\n",
    "    print('gpu', gpu)\n",
    "    tf.config.experimental.set_memory_growth(gpu, True)\n",
    "    print('memory growth:' , tf.config.experimental.get_memory_growth(gpu))"
   ]
  },
  {
   "cell_type": "code",
   "execution_count": 2,
   "metadata": {},
   "outputs": [],
   "source": [
    "import time\n",
    "import numpy as np\n",
    "import matplotlib.pyplot as plt\n",
    "import pandas as pd\n",
    "import tensorflow_datasets as tfds"
   ]
  },
  {
   "cell_type": "code",
   "execution_count": 3,
   "metadata": {},
   "outputs": [],
   "source": [
    "train_data = pd.read_csv('/home/dawidkubicki/Datasets/fashion-MNIST/train.csv')"
   ]
  },
  {
   "cell_type": "code",
   "execution_count": 4,
   "metadata": {},
   "outputs": [],
   "source": [
    "y_train = train_data[\"label\"]\n",
    "X_train = train_data.drop(columns=[\"label\"])"
   ]
  },
  {
   "cell_type": "code",
   "execution_count": 5,
   "metadata": {},
   "outputs": [],
   "source": [
    "X_train = X_train.to_numpy().reshape(-1, 28, 28)"
   ]
  },
  {
   "cell_type": "code",
   "execution_count": 6,
   "metadata": {},
   "outputs": [],
   "source": [
    "y_train = y_train.to_numpy()"
   ]
  },
  {
   "cell_type": "code",
   "execution_count": 7,
   "metadata": {},
   "outputs": [
    {
     "data": {
      "text/plain": [
       "(60000, 28, 28)"
      ]
     },
     "execution_count": 7,
     "metadata": {},
     "output_type": "execute_result"
    }
   ],
   "source": [
    "X_train.shape"
   ]
  },
  {
   "cell_type": "code",
   "execution_count": 8,
   "metadata": {},
   "outputs": [],
   "source": [
    "y_train = y_train.reshape(-1,1)"
   ]
  },
  {
   "cell_type": "code",
   "execution_count": 9,
   "metadata": {},
   "outputs": [
    {
     "data": {
      "text/plain": [
       "(60000, 1)"
      ]
     },
     "execution_count": 9,
     "metadata": {},
     "output_type": "execute_result"
    }
   ],
   "source": [
    "y_train.shape"
   ]
  },
  {
   "cell_type": "code",
   "execution_count": 10,
   "metadata": {},
   "outputs": [],
   "source": [
    "X_train = X_train / 255"
   ]
  },
  {
   "cell_type": "code",
   "execution_count": 11,
   "metadata": {},
   "outputs": [],
   "source": [
    "X_train = X_train[..., tf.newaxis].astype(\"float32\")"
   ]
  },
  {
   "cell_type": "code",
   "execution_count": 12,
   "metadata": {},
   "outputs": [],
   "source": [
    "#turn those numpy arrays to tensorflow tensors\n",
    "train_ds = tf.data.Dataset.from_tensor_slices((X_train, y_train)).batch(32)"
   ]
  },
  {
   "cell_type": "code",
   "execution_count": 13,
   "metadata": {
    "scrolled": true
   },
   "outputs": [
    {
     "data": {
      "text/plain": [
       "<BatchDataset shapes: ((None, 28, 28, 1), (None, 1)), types: (tf.float32, tf.int64)>"
      ]
     },
     "execution_count": 13,
     "metadata": {},
     "output_type": "execute_result"
    }
   ],
   "source": [
    "train_ds"
   ]
  },
  {
   "cell_type": "code",
   "execution_count": 14,
   "metadata": {},
   "outputs": [],
   "source": [
    "# tfds.list_tbuilders()\n"
   ]
  },
  {
   "cell_type": "code",
   "execution_count": 15,
   "metadata": {},
   "outputs": [],
   "source": [
    "# train_data = tfds.load('fashion_mnist', split='train', as_supervised=True, shuffle_files=True).batch(32)\n",
    "# test_data = tfds.load('fashion_mnist', split='test',as_supervised=True, shuffle_files=False).batch(32)\n",
    "# assert isinstance(train_data, tf.data.Dataset)\n",
    "# assert isinstance(test_data, tf.data.Dataset)"
   ]
  },
  {
   "cell_type": "code",
   "execution_count": 16,
   "metadata": {},
   "outputs": [],
   "source": [
    "# train_data"
   ]
  },
  {
   "cell_type": "code",
   "execution_count": 17,
   "metadata": {},
   "outputs": [],
   "source": [
    "# ts = train_data.take(1)\n",
    "\n",
    "# for batch, (image, label) in enumerate(ts):\n",
    "#     image.cast(image, dtype=tf.float32)\n",
    "#     plt.imshow(image[batch])\n",
    "#     print(batch)"
   ]
  },
  {
   "cell_type": "code",
   "execution_count": 18,
   "metadata": {},
   "outputs": [],
   "source": [
    "class ConvolutionalModel(tf.keras.Model):\n",
    "    def __init__(self):\n",
    "        super().__init__()\n",
    "        self.conv1 = tf.keras.layers.Conv2D(16, 3, activation='relu')\n",
    "        self.maxp1 = tf.keras.layers.MaxPooling2D()\n",
    "        self.conv2 = tf.keras.layers.Conv2D(32, 3, activation='relu')\n",
    "        self.maxp2 = tf.keras.layers.MaxPooling2D()\n",
    "        self.flt = tf.keras.layers.Flatten()\n",
    "        self.fc1 = tf.keras.layers.Dense(256, activation='relu')\n",
    "        self.fc2 = tf.keras.layers.Dense(450, activation='relu')\n",
    "        self.fc3 = tf.keras.layers.Dense(10)\n",
    "        \n",
    "    def call(self, X):\n",
    "        X = self.conv1(X)\n",
    "        X = self.maxp1(X)\n",
    "        X = self.conv2(X)\n",
    "        X = self.maxp2(X)\n",
    "        X = self.flt(X)\n",
    "        X = self.fc1(X)\n",
    "        X = self.fc2(X)\n",
    "        return self.fc3(X)\n",
    "        \n",
    "model = ConvolutionalModel()"
   ]
  },
  {
   "cell_type": "code",
   "execution_count": 19,
   "metadata": {},
   "outputs": [],
   "source": [
    "criterion = tf.keras.losses.SparseCategoricalCrossentropy(from_logits=True)\n",
    "optimizer = tf.keras.optimizers.Adam(learning_rate=1e-3)"
   ]
  },
  {
   "cell_type": "code",
   "execution_count": 20,
   "metadata": {},
   "outputs": [],
   "source": [
    "train_loss = tf.keras.metrics.Mean(name='train_loss')\n",
    "train_accuracy = tf.keras.metrics.SparseCategoricalAccuracy(name='train_accuracy')\n",
    "\n",
    "losses = []\n",
    "accuracies = []"
   ]
  },
  {
   "cell_type": "code",
   "execution_count": 21,
   "metadata": {},
   "outputs": [],
   "source": [
    "def train_step(images, labels):\n",
    "    \n",
    "    with tf.GradientTape() as tape:\n",
    "        predictions = model(images, training=True)\n",
    "        loss = criterion(labels, predictions)\n",
    "        \n",
    "    gradients = tape.gradient(loss, model.trainable_variables)\n",
    "    optimizer.apply_gradients(zip(gradients, model.trainable_variables))\n",
    "        \n",
    "    train_loss(loss)\n",
    "    train_accuracy(labels, predictions)\n",
    "    \n",
    "    losses.append(loss)\n",
    "    accuracies.append(train_accuracy)"
   ]
  },
  {
   "cell_type": "code",
   "execution_count": 22,
   "metadata": {},
   "outputs": [
    {
     "name": "stdout",
     "output_type": "stream",
     "text": [
      "Epoch 1,Loss 2.3351798057556152, Accuracy 6.25, \n",
      "Epoch 1,Loss 0.8458186388015747, Accuracy 68.26803588867188, \n",
      "Epoch 1,Loss 0.7009326815605164, Accuracy 73.33229064941406, \n",
      "Epoch 1,Loss 0.6304949522018433, Accuracy 76.06593322753906, \n",
      "Epoch 1,Loss 0.5842843055725098, Accuracy 77.87531280517578, \n",
      "Epoch 1,Loss 0.5582619309425354, Accuracy 78.91171264648438, \n",
      "Epoch 1,Loss 0.5314498543739319, Accuracy 80.0556869506836, \n",
      "Epoch 1,Loss 0.5097853541374207, Accuracy 80.91987609863281, \n",
      "Epoch 1,Loss 0.49240946769714355, Accuracy 81.61305236816406, \n",
      "Epoch 1,Loss 0.4789760708808899, Accuracy 82.1227798461914, \n",
      "Epoch 2,Loss 0.47424909472465515, Accuracy 82.2861099243164, \n",
      "Epoch 2,Loss 0.4606587290763855, Accuracy 82.78089141845703, \n",
      "Epoch 2,Loss 0.4502324163913727, Accuracy 83.15850067138672, \n",
      "Epoch 2,Loss 0.4397168755531311, Accuracy 83.54074096679688, \n",
      "Epoch 2,Loss 0.4297039210796356, Accuracy 83.9067153930664, \n",
      "Epoch 2,Loss 0.422471821308136, Accuracy 84.19245147705078, \n",
      "Epoch 2,Loss 0.41507667303085327, Accuracy 84.469482421875, \n",
      "Epoch 2,Loss 0.4078468680381775, Accuracy 84.73939514160156, \n",
      "Epoch 2,Loss 0.4014424681663513, Accuracy 85.01240539550781, \n",
      "Epoch 2,Loss 0.3954344093799591, Accuracy 85.23700714111328, \n",
      "Epoch 3,Loss 0.3934796452522278, Accuracy 85.30225372314453, \n",
      "Epoch 3,Loss 0.3872555196285248, Accuracy 85.54400634765625, \n",
      "Epoch 3,Loss 0.3823945224285126, Accuracy 85.70298767089844, \n",
      "Epoch 3,Loss 0.37711578607559204, Accuracy 85.9055404663086, \n",
      "Epoch 3,Loss 0.37165358662605286, Accuracy 86.10675811767578, \n",
      "Epoch 3,Loss 0.3676600158214569, Accuracy 86.24434661865234, \n",
      "Epoch 3,Loss 0.3631281554698944, Accuracy 86.41751098632812, \n",
      "Epoch 3,Loss 0.35882121324539185, Accuracy 86.58391571044922, \n",
      "Epoch 3,Loss 0.3547326922416687, Accuracy 86.74546813964844, \n",
      "Epoch 3,Loss 0.3507198691368103, Accuracy 86.89537811279297, \n",
      "Epoch 4,Loss 0.34946054220199585, Accuracy 86.9456558227539, \n",
      "Epoch 4,Loss 0.34535419940948486, Accuracy 87.11380004882812, \n",
      "Epoch 4,Loss 0.3421611785888672, Accuracy 87.22618865966797, \n",
      "Epoch 4,Loss 0.33859238028526306, Accuracy 87.36096954345703, \n",
      "Epoch 4,Loss 0.334799200296402, Accuracy 87.49951171875, \n",
      "Epoch 4,Loss 0.3319341540336609, Accuracy 87.60847473144531, \n",
      "Epoch 4,Loss 0.3287551701068878, Accuracy 87.72066497802734, \n",
      "Epoch 4,Loss 0.3258116543292999, Accuracy 87.8304672241211, \n",
      "Epoch 4,Loss 0.3227207362651825, Accuracy 87.94889831542969, \n",
      "Epoch 4,Loss 0.3196946084499359, Accuracy 88.06642150878906, \n",
      "Epoch 5,Loss 0.31860706210136414, Accuracy 88.11241912841797, \n",
      "Epoch 5,Loss 0.31554508209228516, Accuracy 88.22636413574219, \n",
      "Epoch 5,Loss 0.31292712688446045, Accuracy 88.3222885131836, \n",
      "Epoch 5,Loss 0.3101303279399872, Accuracy 88.42697143554688, \n",
      "Epoch 5,Loss 0.3073239326477051, Accuracy 88.53451538085938, \n",
      "Epoch 5,Loss 0.30508002638816833, Accuracy 88.61972045898438, \n",
      "Epoch 5,Loss 0.3025037348270416, Accuracy 88.70712280273438, \n",
      "Epoch 5,Loss 0.3001898229122162, Accuracy 88.79409790039062, \n",
      "Epoch 5,Loss 0.2976553738117218, Accuracy 88.88995361328125, \n",
      "Epoch 5,Loss 0.2951888144016266, Accuracy 88.98438262939453, \n",
      "Epoch 6,Loss 0.29428187012672424, Accuracy 89.02450561523438, \n",
      "Epoch 6,Loss 0.2916160523891449, Accuracy 89.13005065917969, \n",
      "Epoch 6,Loss 0.28946590423583984, Accuracy 89.2031478881836, \n",
      "Epoch 6,Loss 0.2870790958404541, Accuracy 89.29556274414062, \n",
      "Epoch 6,Loss 0.2847508192062378, Accuracy 89.38372039794922, \n",
      "Epoch 6,Loss 0.28284892439842224, Accuracy 89.45673370361328, \n",
      "Epoch 6,Loss 0.28056514263153076, Accuracy 89.53970336914062, \n",
      "Epoch 6,Loss 0.27859410643577576, Accuracy 89.6129150390625, \n",
      "Epoch 6,Loss 0.2764613628387451, Accuracy 89.6948471069336, \n",
      "Epoch 6,Loss 0.27441009879112244, Accuracy 89.77217102050781, \n"
     ]
    }
   ],
   "source": [
    "EPOCHS = 6\n",
    "\n",
    "for epoch in range(EPOCHS):\n",
    "    \n",
    "    for batch, (images, labels) in enumerate(train_ds):\n",
    "        train_step(images, labels)\n",
    "        \n",
    "        if batch%200 == 0:\n",
    "        \n",
    "            print(\n",
    "            f'Epoch {epoch+1},'\n",
    "            f'Loss {train_loss.result()}, '\n",
    "            f'Accuracy {train_accuracy.result() * 100}, '\n",
    "    #         f'Test Loss: {test_loss.result()},'\n",
    "    #         f'Test Accuracy: {test_accuracy.result() *100}'\n",
    "        )"
   ]
  },
  {
   "cell_type": "code",
   "execution_count": 24,
   "metadata": {},
   "outputs": [
    {
     "data": {
      "text/plain": [
       "[<matplotlib.lines.Line2D at 0x7f3b7115f1f0>]"
      ]
     },
     "execution_count": 24,
     "metadata": {},
     "output_type": "execute_result"
    },
    {
     "data": {
      "image/png": "[encoded data removed]",
      "text/plain": [
       "<Figure size 432x288 with 1 Axes>"
      ]
     },
     "metadata": {
      "needs_background": "light"
     },
     "output_type": "display_data"
    }
   ],
   "source": [
    "plt.plot(losses)"
   ]
  }
 ],
 "metadata": {
  "kernelspec": {
   "display_name": "Python 3",
   "language": "python",
   "name": "python3"
  },
  "language_info": {
   "codemirror_mode": {
    "name": "ipython",
    "version": 3
   },
   "file_extension": ".py",
   "mimetype": "text/x-python",
   "name": "python",
   "nbconvert_exporter": "python",
   "pygments_lexer": "ipython3",
   "version": "3.8.5"
  }
 },
 "nbformat": 4,
 "nbformat_minor": 4
}
