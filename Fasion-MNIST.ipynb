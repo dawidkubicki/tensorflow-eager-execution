{
 "cells": [
  {
   "cell_type": "code",
   "execution_count": 1,
   "metadata": {},
   "outputs": [
    {
     "name": "stdout",
     "output_type": "stream",
     "text": [
      "gpu PhysicalDevice(name='/physical_device:GPU:0', device_type='GPU')\n",
      "memory growth: True\n"
     ]
    }
   ],
   "source": [
    "import tensorflow as tf\n",
    "gpus = tf.config.experimental.list_physical_devices('GPU')\n",
    "for gpu in gpus:\n",
    "    print('gpu', gpu)\n",
    "    tf.config.experimental.set_memory_growth(gpu, True)\n",
    "    print('memory growth:' , tf.config.experimental.get_memory_growth(gpu))"
   ]
  },
  {
   "cell_type": "code",
   "execution_count": 2,
   "metadata": {},
   "outputs": [],
   "source": [
    "import pandas as pd\n",
    "import numpy as np\n",
    "\n",
    "train_data = pd.read_csv(\"/home/dawidkubicki/Datasets/fashion-MNIST/train.csv\")\n",
    "test_data = pd.read_csv(\"/home/dawidkubicki/Datasets/fashion-MNIST/test.csv\")"
   ]
  },
  {
   "cell_type": "markdown",
   "metadata": {},
   "source": [
    "### Preprocess the data"
   ]
  },
  {
   "cell_type": "code",
   "execution_count": 3,
   "metadata": {},
   "outputs": [],
   "source": [
    "mnist_labels = train_data[\"label\"]\n",
    "mnist_images = train_data.drop(columns=[\"label\"])"
   ]
  },
  {
   "cell_type": "code",
   "execution_count": 4,
   "metadata": {},
   "outputs": [],
   "source": [
    "x_train = mnist_images.to_numpy().reshape((60000, 28, 28))\n",
    "y_train = mnist_labels.to_numpy()\n",
    "x_test = test_data.to_numpy()\n",
    "\n",
    "x_train, x_test = x_train / 255.0, x_test / 255.0\n",
    "\n",
    "x_train = x_train[..., tf.newaxis].astype(\"float32\")\n",
    "x_test = x_test[..., tf.newaxis].astype(\"float32\")"
   ]
  },
  {
   "cell_type": "code",
   "execution_count": 5,
   "metadata": {},
   "outputs": [],
   "source": [
    "from sklearn.model_selection import train_test_split\n",
    "\n",
    "X_train, X_valid, y_train, y_valid = train_test_split(x_train, y_train, test_size=0.2, random_state=0)"
   ]
  },
  {
   "cell_type": "code",
   "execution_count": 6,
   "metadata": {},
   "outputs": [],
   "source": [
    "train_ds = tf.data.Dataset.from_tensor_slices((X_train, y_train)).batch(128)\n",
    "valid_ds = tf.data.Dataset.from_tensor_slices((X_valid, y_valid)).batch(128) #in valid we can increase a batch size\n",
    "\n",
    "test_ds = tf.data.Dataset.from_tensor_slices((x_test)).batch(128)"
   ]
  },
  {
   "cell_type": "markdown",
   "metadata": {},
   "source": [
    "### Model"
   ]
  },
  {
   "cell_type": "code",
   "execution_count": 7,
   "metadata": {},
   "outputs": [],
   "source": [
    "class FashNet(tf.keras.Model):\n",
    "    def __init__(self):\n",
    "        super(FashNet, self).__init__()\n",
    "        self.conv1 = tf.keras.layers.Conv2D(16, 3, activation='relu')\n",
    "        self.maxp1 = tf.keras.layers.MaxPooling2D()\n",
    "        self.conv2 = tf.keras.layers.Conv2D(32, 3, activation='relu')\n",
    "        self.maxp2 = tf.keras.layers.MaxPooling2D()\n",
    "        self.flatten = tf.keras.layers.Flatten()\n",
    "        self.d1 = tf.keras.layers.Dense(256, activation='relu')\n",
    "        self.d2 = tf.keras.layers.Dense(10, activation='sigmoid')\n",
    "        \n",
    "    def call(self, x):\n",
    "        x = self.conv1(x)\n",
    "        x = self.maxp1(x)\n",
    "        x = self.conv2(x)\n",
    "        x = self.maxp2(x)\n",
    "        x = self.flatten(x)\n",
    "        x = self.d1(x)\n",
    "        return self.d2(x)\n",
    "    \n",
    "model = FashNet()"
   ]
  },
  {
   "cell_type": "code",
   "execution_count": 8,
   "metadata": {},
   "outputs": [],
   "source": [
    "#loss and optimizer\n",
    "\n",
    "loss_object = tf.keras.losses.SparseCategoricalCrossentropy(from_logits=True)\n",
    "optimizer = tf.keras.optimizers.RMSprop()"
   ]
  },
  {
   "cell_type": "code",
   "execution_count": 9,
   "metadata": {},
   "outputs": [],
   "source": [
    "train_loss = tf.keras.metrics.Mean(name='train_loss')\n",
    "train_accuracy = tf.keras.metrics.SparseCategoricalAccuracy(name='train_accuracy')\n",
    "\n",
    "valid_loss = tf.keras.metrics.Mean(name='valid_loss')\n",
    "valid_accuracy = tf.keras.metrics.SparseCategoricalAccuracy(name='valid_accuracy')"
   ]
  },
  {
   "cell_type": "code",
   "execution_count": 10,
   "metadata": {},
   "outputs": [],
   "source": [
    "#train step\n",
    "def train_step(images, labels):\n",
    "    with tf.GradientTape() as tape:\n",
    "        pred = model(images, training=True)\n",
    "        loss = loss_object(labels, pred)\n",
    "    gradients = tape.gradient(loss, model.trainable_variables)\n",
    "    optimizer.apply_gradients(zip(gradients, model.trainable_variables))\n",
    "    \n",
    "    train_loss(loss)\n",
    "    train_accuracy(labels, pred)"
   ]
  },
  {
   "cell_type": "code",
   "execution_count": 11,
   "metadata": {},
   "outputs": [],
   "source": [
    "def valid_step(images, labels):\n",
    "    pred = model(images, training=False)\n",
    "    loss = loss_object(labels, pred)\n",
    "    \n",
    "    valid_loss(loss)\n",
    "    valid_accuracy(labels, pred)"
   ]
  },
  {
   "cell_type": "code",
   "execution_count": null,
   "metadata": {},
   "outputs": [
    {
     "name": "stdout",
     "output_type": "stream",
     "text": [
      "Epoch 1,Loss 0.5980353951454163, Accuracy 78.17500305175781, Valid Loss: 0.42636680603027344,Valid Accuracy: 85.28333282470703\n",
      "Epoch 2,Loss 0.39199647307395935, Accuracy 85.94583129882812, Valid Loss: 0.3921319246292114,Valid Accuracy: 86.34166717529297\n",
      "Epoch 3,Loss 0.3353774845600128, Accuracy 87.85832977294922, Valid Loss: 0.36997175216674805,Valid Accuracy: 87.00833129882812\n",
      "Epoch 4,Loss 0.2998488247394562, Accuracy 89.14374542236328, Valid Loss: 0.3542502820491791,Valid Accuracy: 87.51042175292969\n",
      "Epoch 5,Loss 0.27431976795196533, Accuracy 90.02291870117188, Valid Loss: 0.34224721789360046,Valid Accuracy: 87.90333557128906\n",
      "Epoch 6,Loss 0.25265488028526306, Accuracy 90.81041717529297, Valid Loss: 0.3324359357357025,Valid Accuracy: 88.21527862548828\n",
      "Epoch 7,Loss 0.2338699996471405, Accuracy 91.5, Valid Loss: 0.3248130679130554,Valid Accuracy: 88.45357513427734\n",
      "Epoch 8,Loss 0.21688660979270935, Accuracy 92.11458587646484, Valid Loss: 0.31849274039268494,Valid Accuracy: 88.65104675292969\n",
      "Epoch 9,Loss 0.20146843791007996, Accuracy 92.67916870117188, Valid Loss: 0.31366223096847534,Valid Accuracy: 88.8120346069336\n"
     ]
    }
   ],
   "source": [
    "#training\n",
    "\n",
    "EPOCHS = 10 \n",
    "\n",
    "with tf.device('/device:GPU:0'):\n",
    "\n",
    "    for epoch in range(EPOCHS):\n",
    "        train_loss.reset_states()\n",
    "        train_accuracy.reset_states()\n",
    "\n",
    "        for images, labels in train_ds:\n",
    "            train_step(images, labels)\n",
    "\n",
    "        for images, labels in valid_ds:\n",
    "            valid_step(images, labels)\n",
    "\n",
    "        print(\n",
    "            f'Epoch {epoch+1},'\n",
    "            f'Loss {train_loss.result()}, '\n",
    "            f'Accuracy {train_accuracy.result() * 100}, '\n",
    "            f'Valid Loss: {valid_loss.result()},'\n",
    "            f'Valid Accuracy: {valid_accuracy.result() *100}'\n",
    "        )"
   ]
  }
 ],
 "metadata": {
  "kernelspec": {
   "display_name": "Python 3",
   "language": "python",
   "name": "python3"
  },
  "language_info": {
   "codemirror_mode": {
    "name": "ipython",
    "version": 3
   },
   "file_extension": ".py",
   "mimetype": "text/x-python",
   "name": "python",
   "nbconvert_exporter": "python",
   "pygments_lexer": "ipython3",
   "version": "3.8.5"
  }
 },
 "nbformat": 4,
 "nbformat_minor": 4
}
