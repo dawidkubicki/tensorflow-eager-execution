{
 "cells": [
  {
   "cell_type": "markdown",
   "metadata": {
    "id": "s_qNSzzyaCbD"
   },
   "source": [
    "##### Copyright 2019 The TensorFlow Authors."
   ]
  },
  {
   "cell_type": "code",
   "execution_count": 1,
   "metadata": {
    "cellView": "form",
    "execution": {
     "iopub.execute_input": "2021-02-04T02:21:49.269437Z",
     "iopub.status.busy": "2021-02-04T02:21:49.268720Z",
     "iopub.status.idle": "2021-02-04T02:21:49.271473Z",
     "shell.execute_reply": "2021-02-04T02:21:49.270768Z"
    },
    "id": "jmjh290raIky"
   },
   "outputs": [],
   "source": [
    "#@title Licensed under the Apache License, Version 2.0 (the \"License\");\n",
    "# you may not use this file except in compliance with the License.\n",
    "# You may obtain a copy of the License at\n",
    "#\n",
    "# https://www.apache.org/licenses/LICENSE-2.0\n",
    "#\n",
    "# Unless required by applicable law or agreed to in writing, software\n",
    "# distributed under the License is distributed on an \"AS IS\" BASIS,\n",
    "# WITHOUT WARRANTIES OR CONDITIONS OF ANY KIND, either express or implied.\n",
    "# See the License for the specific language governing permissions and\n",
    "# limitations under the License."
   ]
  },
  {
   "cell_type": "markdown",
   "metadata": {
    "id": "J0Qjg6vuaHNt"
   },
   "source": [
    "# Transformer model for language understanding"
   ]
  },
  {
   "cell_type": "markdown",
   "metadata": {
    "id": "AOpGoE2T-YXS"
   },
   "source": [
    "<table class=\"tfo-notebook-buttons\" align=\"left\">\n",
    "  <td>\n",
    "    <a target=\"_blank\" href=\"https://www.tensorflow.org/tutorials/text/transformer\">\n",
    "    <img src=\"https://www.tensorflow.org/images/tf_logo_32px.png\" />\n",
    "    View on TensorFlow.org</a>\n",
    "  </td>\n",
    "  <td>\n",
    "    <a target=\"_blank\" href=\"https://colab.research.google.com/github/tensorflow/docs/blob/master/site/en/tutorials/text/transformer.ipynb\">\n",
    "    <img src=\"https://www.tensorflow.org/images/colab_logo_32px.png\" />\n",
    "    Run in Google Colab</a>\n",
    "  </td>\n",
    "  <td>\n",
    "    <a target=\"_blank\" href=\"https://github.com/tensorflow/docs/blob/master/site/en/tutorials/text/transformer.ipynb\">\n",
    "    <img src=\"https://www.tensorflow.org/images/GitHub-Mark-32px.png\" />\n",
    "    View source on GitHub</a>\n",
    "  </td>\n",
    "  <td>\n",
    "    <a href=\"https://storage.googleapis.com/tensorflow_docs/docs/site/en/tutorials/text/transformer.ipynb\"><img src=\"https://www.tensorflow.org/images/download_logo_32px.png\" />Download notebook</a>\n",
    "  </td>\n",
    "</table>"
   ]
  },
  {
   "cell_type": "markdown",
   "metadata": {
    "id": "M-f8TnGpE_ex"
   },
   "source": [
    "This tutorial trains a <a href=\"https://arxiv.org/abs/1706.03762\" class=\"external\">Transformer model</a> to translate a [Portuguese to English dataset](https://www.tensorflow.org/datasets/catalog/ted_hrlr_translate#ted_hrlr_translatept_to_en). This is an advanced example that assumes knowledge of [text generation](text_generation.ipynb) and [attention](nmt_with_attention.ipynb).\n",
    "\n",
    "The core idea behind the Transformer model is *self-attention*—the ability to attend to different positions of the input sequence to compute a representation of that sequence. Transformer creates stacks of self-attention layers and is explained below in the sections *Scaled dot product attention* and *Multi-head attention*.\n",
    "\n",
    "A transformer model handles variable-sized input using stacks of self-attention layers instead of [RNNs](text_classification_rnn.ipynb) or [CNNs](../images/intro_to_cnns.ipynb). This general architecture has a number of advantages:\n",
    "\n",
    "* It makes no assumptions about the temporal/spatial relationships across the data. This is ideal for processing a set of objects (for example, [StarCraft units](https://deepmind.com/blog/alphastar-mastering-real-time-strategy-game-starcraft-ii/#block-8)).\n",
    "* Layer outputs can be calculated in parallel, instead of a series like an RNN.\n",
    "* Distant items can affect each other's output without passing through many RNN-steps, or convolution layers (see [Scene Memory Transformer](https://arxiv.org/pdf/1903.03878.pdf) for example).\n",
    "* It can learn long-range dependencies. This is a challenge in many sequence tasks.\n",
    "\n",
    "The downsides of this architecture are:\n",
    "\n",
    "* For a time-series, the output for a time-step is calculated from the *entire history* instead of only the inputs and current hidden-state. This _may_ be less efficient.   \n",
    "* If the input *does* have a  temporal/spatial relationship, like text, some positional encoding must be added or the model will effectively see a bag of words. \n",
    "\n",
    "After training the model in this notebook, you will be able to input a Portuguese sentence and return the English translation.\n",
    "\n",
    "<img src=\"https://www.tensorflow.org/images/tutorials/transformer/attention_map_portuguese.png\" width=\"800\" alt=\"Attention heatmap\">"
   ]
  },
  {
   "cell_type": "markdown",
   "metadata": {
    "id": "swymtxpl7W7w"
   },
   "source": [
    "## Setup"
   ]
  },
  {
   "cell_type": "code",
   "execution_count": 1,
   "metadata": {
    "execution": {
     "iopub.execute_input": "2021-02-04T02:21:49.283016Z",
     "iopub.status.busy": "2021-02-04T02:21:49.282180Z",
     "iopub.status.idle": "2021-02-04T02:21:53.349513Z",
     "shell.execute_reply": "2021-02-04T02:21:53.348883Z"
    },
    "id": "XFG0NDRu5mYQ"
   },
   "outputs": [],
   "source": [
    "!pip install -q tensorflow_datasets\n",
    "!pip install -q tensorflow_text"
   ]
  },
  {
   "cell_type": "code",
   "execution_count": 2,
   "metadata": {
    "execution": {
     "iopub.execute_input": "2021-02-04T02:21:53.356196Z",
     "iopub.status.busy": "2021-02-04T02:21:53.354999Z",
     "iopub.status.idle": "2021-02-04T02:22:01.899067Z",
     "shell.execute_reply": "2021-02-04T02:22:01.898318Z"
    },
    "id": "JjJJyJTZYebt"
   },
   "outputs": [],
   "source": [
    "import collections\n",
    "import logging\n",
    "import os\n",
    "import pathlib\n",
    "import re\n",
    "import string\n",
    "import sys\n",
    "import time\n",
    "\n",
    "import numpy as np\n",
    "import matplotlib.pyplot as plt\n",
    "\n",
    "import tensorflow_datasets as tfds\n",
    "import tensorflow_text as text\n",
    "import tensorflow as tf"
   ]
  },
  {
   "cell_type": "code",
   "execution_count": 3,
   "metadata": {
    "execution": {
     "iopub.execute_input": "2021-02-04T02:22:01.904707Z",
     "iopub.status.busy": "2021-02-04T02:22:01.903568Z",
     "iopub.status.idle": "2021-02-04T02:22:01.906365Z",
     "shell.execute_reply": "2021-02-04T02:22:01.905813Z"
    },
    "id": "pXzVhU34zWEU"
   },
   "outputs": [],
   "source": [
    "logging.getLogger('tensorflow').setLevel(logging.ERROR)  # suppress warnings"
   ]
  },
  {
   "cell_type": "markdown",
   "metadata": {
    "id": "-cCvXbPkccV1"
   },
   "source": [
    "## Download the Dataset"
   ]
  },
  {
   "cell_type": "markdown",
   "metadata": {
    "id": "t4_Qt8W1hJE_"
   },
   "source": [
    "Use [TensorFlow datasets](https://www.tensorflow.org/datasets) to load the [Portuguese-English translation dataset](https://github.com/neulab/word-embeddings-for-nmt) from the [TED Talks Open Translation Project](https://www.ted.com/participate/translate).\n",
    "\n",
    "This dataset contains approximately 50000 training examples, 1100 validation examples, and 2000 test examples."
   ]
  },
  {
   "cell_type": "code",
   "execution_count": 4,
   "metadata": {
    "execution": {
     "iopub.execute_input": "2021-02-04T02:22:01.911940Z",
     "iopub.status.busy": "2021-02-04T02:22:01.911191Z",
     "iopub.status.idle": "2021-02-04T02:22:13.997782Z",
     "shell.execute_reply": "2021-02-04T02:22:13.997164Z"
    },
    "id": "8q9t4FmN96eN"
   },
   "outputs": [
    {
     "name": "stdout",
     "output_type": "stream",
     "text": [
      "\u001b[1mDownloading and preparing dataset 124.94 MiB (download: 124.94 MiB, generated: Unknown size, total: 124.94 MiB) to /home/dawidkubicki/tensorflow_datasets/ted_hrlr_translate/pt_to_en/1.0.0...\u001b[0m\n"
     ]
    },
    {
     "data": {
      "application/vnd.jupyter.widget-view+json": {
       "model_id": "81589d6a50be4f0696d034f9660861fc",
       "version_major": 2,
       "version_minor": 0
      },
      "text/plain": [
       "HBox(children=(HTML(value='Dl Completed...'), FloatProgress(value=1.0, bar_style='info', layout=Layout(width='…"
      ]
     },
     "metadata": {},
     "output_type": "display_data"
    },
    {
     "data": {
      "application/vnd.jupyter.widget-view+json": {
       "model_id": "c27ef985902e486ea3f4b1ef20a868b5",
       "version_major": 2,
       "version_minor": 0
      },
      "text/plain": [
       "HBox(children=(HTML(value='Dl Size...'), FloatProgress(value=1.0, bar_style='info', layout=Layout(width='20px'…"
      ]
     },
     "metadata": {},
     "output_type": "display_data"
    },
    {
     "data": {
      "application/vnd.jupyter.widget-view+json": {
       "model_id": "81b1625d68f246b3a21d382033d040f3",
       "version_major": 2,
       "version_minor": 0
      },
      "text/plain": [
       "HBox(children=(HTML(value='Extraction completed...'), FloatProgress(value=1.0, bar_style='info', layout=Layout…"
      ]
     },
     "metadata": {},
     "output_type": "display_data"
    },
    {
     "name": "stdout",
     "output_type": "stream",
     "text": [
      "\n",
      "\n",
      "\n",
      "\n",
      "\n",
      "\n"
     ]
    },
    {
     "data": {
      "application/vnd.jupyter.widget-view+json": {
       "model_id": "",
       "version_major": 2,
       "version_minor": 0
      },
      "text/plain": [
       "HBox(children=(HTML(value='Generating splits...'), FloatProgress(value=0.0, max=3.0), HTML(value='')))"
      ]
     },
     "metadata": {},
     "output_type": "display_data"
    },
    {
     "data": {
      "application/vnd.jupyter.widget-view+json": {
       "model_id": "",
       "version_major": 2,
       "version_minor": 0
      },
      "text/plain": [
       "HBox(children=(HTML(value='Generating train examples...'), FloatProgress(value=0.0, max=51785.0), HTML(value='…"
      ]
     },
     "metadata": {},
     "output_type": "display_data"
    },
    {
     "data": {
      "application/vnd.jupyter.widget-view+json": {
       "model_id": "",
       "version_major": 2,
       "version_minor": 0
      },
      "text/plain": [
       "HBox(children=(HTML(value='Shuffling ted_hrlr_translate-train.tfrecord...'), FloatProgress(value=0.0, max=5178…"
      ]
     },
     "metadata": {},
     "output_type": "display_data"
    },
    {
     "data": {
      "application/vnd.jupyter.widget-view+json": {
       "model_id": "",
       "version_major": 2,
       "version_minor": 0
      },
      "text/plain": [
       "HBox(children=(HTML(value='Generating validation examples...'), FloatProgress(value=0.0, max=1193.0), HTML(val…"
      ]
     },
     "metadata": {},
     "output_type": "display_data"
    },
    {
     "data": {
      "application/vnd.jupyter.widget-view+json": {
       "model_id": "",
       "version_major": 2,
       "version_minor": 0
      },
      "text/plain": [
       "HBox(children=(HTML(value='Shuffling ted_hrlr_translate-validation.tfrecord...'), FloatProgress(value=0.0, max…"
      ]
     },
     "metadata": {},
     "output_type": "display_data"
    },
    {
     "data": {
      "application/vnd.jupyter.widget-view+json": {
       "model_id": "",
       "version_major": 2,
       "version_minor": 0
      },
      "text/plain": [
       "HBox(children=(HTML(value='Generating test examples...'), FloatProgress(value=0.0, max=1803.0), HTML(value='')…"
      ]
     },
     "metadata": {},
     "output_type": "display_data"
    },
    {
     "data": {
      "application/vnd.jupyter.widget-view+json": {
       "model_id": "",
       "version_major": 2,
       "version_minor": 0
      },
      "text/plain": [
       "HBox(children=(HTML(value='Shuffling ted_hrlr_translate-test.tfrecord...'), FloatProgress(value=0.0, max=1803.…"
      ]
     },
     "metadata": {},
     "output_type": "display_data"
    },
    {
     "name": "stdout",
     "output_type": "stream",
     "text": [
      "\u001b[1mDataset ted_hrlr_translate downloaded and prepared to /home/dawidkubicki/tensorflow_datasets/ted_hrlr_translate/pt_to_en/1.0.0. Subsequent calls will reuse this data.\u001b[0m\n"
     ]
    }
   ],
   "source": [
    "examples, metadata = tfds.load('ted_hrlr_translate/pt_to_en', with_info=True,\n",
    "                               as_supervised=True)\n",
    "train_examples, val_examples = examples['train'], examples['validation']  "
   ]
  },
  {
   "cell_type": "markdown",
   "metadata": {
    "id": "1OnwQZ2IpTbl"
   },
   "source": [
    "The `tf.data.Dataset` object returned by TensorFlow datasets yields pairs of text examples:"
   ]
  },
  {
   "cell_type": "code",
   "execution_count": 6,
   "metadata": {
    "execution": {
     "iopub.execute_input": "2021-02-04T02:22:14.003894Z",
     "iopub.status.busy": "2021-02-04T02:22:14.003236Z",
     "iopub.status.idle": "2021-02-04T02:22:15.566165Z",
     "shell.execute_reply": "2021-02-04T02:22:15.566611Z"
    },
    "id": "AtuMLTQGlHZ1",
    "scrolled": true
   },
   "outputs": [
    {
     "name": "stdout",
     "output_type": "stream",
     "text": [
      "e quando melhoramos a procura , tiramos a única vantagem da impressão , que é a serendipidade .\n",
      "mas e se estes fatores fossem ativos ?\n",
      "mas eles não tinham a curiosidade de me testar .\n",
      "\n",
      "and when you improve searchability , you actually take away the one advantage of print , which is serendipity .\n",
      "but what if it were active ?\n",
      "but they did n't test for curiosity .\n"
     ]
    }
   ],
   "source": [
    "for pt_examples, en_examples in train_examples.batch(3).take(1):\n",
    "    for pt in pt_examples.numpy():\n",
    "        print(pt.decode('utf-8'))\n",
    "\n",
    "    print()\n",
    "\n",
    "    for en in en_examples.numpy():\n",
    "        print(en.decode('utf-8'))"
   ]
  },
  {
   "cell_type": "markdown",
   "metadata": {
    "id": "eJxTd6aVnZyh"
   },
   "source": [
    "## Text tokenization & detokenization"
   ]
  },
  {
   "cell_type": "markdown",
   "metadata": {
    "id": "WlHAFNaopq6U"
   },
   "source": [
    "You can't train a model directly on text. The text needs to be converted some numeric representation first. Typically you convert the text to sequences of token IDs, which are as indexes into an embedding."
   ]
  },
  {
   "cell_type": "markdown",
   "metadata": {
    "id": "2sPvbCEePzOC"
   },
   "source": [
    "One popular implementation is demonstrated in the [Subword tokenizer tutorial](https://www.tensorflow.org/tutorials/tensorflow_text/subwords_tokenizer) builds subword tokenizers (`text.BertTokenizer`) optimized for this dataset and exports them in a [saved_model](https://www.tensorflow.org/guide/saved_model). \n",
    "\n",
    "Download and unzip and import the `saved_model`:"
   ]
  },
  {
   "cell_type": "code",
   "execution_count": 7,
   "metadata": {
    "execution": {
     "iopub.execute_input": "2021-02-04T02:22:15.573461Z",
     "iopub.status.busy": "2021-02-04T02:22:15.572803Z",
     "iopub.status.idle": "2021-02-04T02:22:15.778685Z",
     "shell.execute_reply": "2021-02-04T02:22:15.779289Z"
    },
    "id": "QToMl0NanZPr"
   },
   "outputs": [
    {
     "name": "stdout",
     "output_type": "stream",
     "text": [
      "Downloading data from https://storage.googleapis.com/download.tensorflow.org/models/ted_hrlr_translate_pt_en_converter.zip\n",
      "188416/184801 [==============================] - 0s 0us/step\n"
     ]
    },
    {
     "data": {
      "text/plain": [
       "'./ted_hrlr_translate_pt_en_converter.zip'"
      ]
     },
     "execution_count": 7,
     "metadata": {},
     "output_type": "execute_result"
    }
   ],
   "source": [
    "model_name = \"ted_hrlr_translate_pt_en_converter\"\n",
    "tf.keras.utils.get_file(\n",
    "    f\"{model_name}.zip\",\n",
    "    f\"https://storage.googleapis.com/download.tensorflow.org/models/{model_name}.zip\",\n",
    "    cache_dir='.', cache_subdir='', extract=True\n",
    ")"
   ]
  },
  {
   "cell_type": "code",
   "execution_count": 8,
   "metadata": {
    "execution": {
     "iopub.execute_input": "2021-02-04T02:22:15.785154Z",
     "iopub.status.busy": "2021-02-04T02:22:15.784392Z",
     "iopub.status.idle": "2021-02-04T02:22:17.109636Z",
     "shell.execute_reply": "2021-02-04T02:22:17.108974Z"
    },
    "id": "h5dbGnPXnuI1"
   },
   "outputs": [],
   "source": [
    "tokenizers = tf.saved_model.load(model_name)"
   ]
  },
  {
   "cell_type": "markdown",
   "metadata": {
    "id": "KQYc0CJTpnvg"
   },
   "source": [
    "The `tf.saved_model` contains two text tokenizers, one for English and one for Portugese. Both have the same methods:"
   ]
  },
  {
   "cell_type": "code",
   "execution_count": 9,
   "metadata": {
    "execution": {
     "iopub.execute_input": "2021-02-04T02:22:17.115120Z",
     "iopub.status.busy": "2021-02-04T02:22:17.114323Z",
     "iopub.status.idle": "2021-02-04T02:22:17.116847Z",
     "shell.execute_reply": "2021-02-04T02:22:17.117288Z"
    },
    "id": "s-PCJijfcZ9_"
   },
   "outputs": [
    {
     "data": {
      "text/plain": [
       "['detokenize',\n",
       " 'get_reserved_tokens',\n",
       " 'get_vocab_path',\n",
       " 'get_vocab_size',\n",
       " 'lookup',\n",
       " 'tokenize',\n",
       " 'tokenizer',\n",
       " 'vocab']"
      ]
     },
     "execution_count": 9,
     "metadata": {},
     "output_type": "execute_result"
    }
   ],
   "source": [
    "[item for item in dir(tokenizers.en) if not item.startswith('_')]"
   ]
  },
  {
   "cell_type": "markdown",
   "metadata": {
    "id": "-pv_nc5lrAiD"
   },
   "source": [
    "The `tokenize` method converts a batch of strings to a padded-batch of token IDs. This method splits punctuation, lowercases and unicode-normalizes the input before tokenizing. That standardization is not visible here because the input data is already standardized."
   ]
  },
  {
   "cell_type": "code",
   "execution_count": 10,
   "metadata": {
    "execution": {
     "iopub.execute_input": "2021-02-04T02:22:17.121754Z",
     "iopub.status.busy": "2021-02-04T02:22:17.121037Z",
     "iopub.status.idle": "2021-02-04T02:22:17.124198Z",
     "shell.execute_reply": "2021-02-04T02:22:17.123650Z"
    },
    "id": "0GV-smAAQJtM"
   },
   "outputs": [
    {
     "name": "stdout",
     "output_type": "stream",
     "text": [
      "and when you improve searchability , you actually take away the one advantage of print , which is serendipity .\n",
      "but what if it were active ?\n",
      "but they did n't test for curiosity .\n"
     ]
    }
   ],
   "source": [
    "for en in en_examples.numpy():\n",
    "    print(en.decode('utf-8'))"
   ]
  },
  {
   "cell_type": "code",
   "execution_count": 11,
   "metadata": {
    "execution": {
     "iopub.execute_input": "2021-02-04T02:22:17.131131Z",
     "iopub.status.busy": "2021-02-04T02:22:17.129279Z",
     "iopub.status.idle": "2021-02-04T02:22:17.441739Z",
     "shell.execute_reply": "2021-02-04T02:22:17.441111Z"
    },
    "id": "2fQJq1xB-tOn"
   },
   "outputs": [
    {
     "name": "stdout",
     "output_type": "stream",
     "text": [
      "[2, 72, 117, 79, 1259, 1491, 2362, 13, 79, 150, 184, 311, 71, 103, 2308, 74, 2679, 13, 148, 80, 55, 4840, 1434, 2423, 540, 15, 3]\n",
      "[2, 87, 90, 107, 76, 129, 1852, 30, 3]\n",
      "[2, 87, 83, 149, 50, 9, 56, 664, 85, 2512, 15, 3]\n"
     ]
    }
   ],
   "source": [
    "encoded = tokenizers.en.tokenize(en_examples)\n",
    "\n",
    "for row in encoded.to_list():\n",
    "    print(row)"
   ]
  },
  {
   "cell_type": "markdown",
   "metadata": {
    "id": "dBRlikwDR2Lu"
   },
   "source": [
    "The `detokenize` method attempts to convert these token IDs back to human readable text: "
   ]
  },
  {
   "cell_type": "code",
   "execution_count": 12,
   "metadata": {
    "execution": {
     "iopub.execute_input": "2021-02-04T02:22:17.448557Z",
     "iopub.status.busy": "2021-02-04T02:22:17.447832Z",
     "iopub.status.idle": "2021-02-04T02:22:17.572580Z",
     "shell.execute_reply": "2021-02-04T02:22:17.572026Z"
    },
    "id": "Tpqx1aug3W31"
   },
   "outputs": [
    {
     "name": "stdout",
     "output_type": "stream",
     "text": [
      "and when you improve searchability , you actually take away the one advantage of print , which is serendipity .\n",
      "but what if it were active ?\n",
      "but they did n ' t test for curiosity .\n"
     ]
    }
   ],
   "source": [
    "round_trip = tokenizers.en.detokenize(encoded)\n",
    "for line in round_trip.numpy():\n",
    "    print(line.decode('utf-8'))"
   ]
  },
  {
   "cell_type": "markdown",
   "metadata": {
    "id": "e5mGvytArL9g"
   },
   "source": [
    "The lower level `lookup` method converts from token-IDs to token text:"
   ]
  },
  {
   "cell_type": "code",
   "execution_count": 13,
   "metadata": {
    "execution": {
     "iopub.execute_input": "2021-02-04T02:22:17.577439Z",
     "iopub.status.busy": "2021-02-04T02:22:17.576109Z",
     "iopub.status.idle": "2021-02-04T02:22:17.595660Z",
     "shell.execute_reply": "2021-02-04T02:22:17.595021Z"
    },
    "id": "RpzRLzvIuN3R"
   },
   "outputs": [
    {
     "data": {
      "text/plain": [
       "<tf.RaggedTensor [[b'[START]', b'and', b'when', b'you', b'improve', b'search', b'##ability', b',', b'you', b'actually', b'take', b'away', b'the', b'one', b'advantage', b'of', b'print', b',', b'which', b'is', b's', b'##ere', b'##nd', b'##ip', b'##ity', b'.', b'[END]'], [b'[START]', b'but', b'what', b'if', b'it', b'were', b'active', b'?', b'[END]'], [b'[START]', b'but', b'they', b'did', b'n', b\"'\", b't', b'test', b'for', b'curiosity', b'.', b'[END]']]>"
      ]
     },
     "execution_count": 13,
     "metadata": {},
     "output_type": "execute_result"
    }
   ],
   "source": [
    "tokens = tokenizers.en.lookup(encoded)\n",
    "tokens"
   ]
  },
  {
   "cell_type": "markdown",
   "metadata": {
    "id": "5V8Ix_PNSfhV"
   },
   "source": [
    "Here you can see the \"subword\" aspect of the tokenizers. The word \"searchability\" is decomposed into \"search ##ability\" and the word \"serindipity\" into \"s ##ere ##nd ##ip ##ity\""
   ]
  },
  {
   "cell_type": "markdown",
   "metadata": {
    "id": "fd1NWMxjfsDd"
   },
   "source": [
    "## Setup input pipeline"
   ]
  },
  {
   "cell_type": "markdown",
   "metadata": {
    "id": "E7JHK7N7tNZy"
   },
   "source": [
    "To build an input pipeline suitable for training you'll apply some transformations to the dataset.\n",
    "\n",
    "This function will be used to encode the batches of raw text:"
   ]
  },
  {
   "cell_type": "code",
   "execution_count": 14,
   "metadata": {
    "execution": {
     "iopub.execute_input": "2021-02-04T02:22:17.601646Z",
     "iopub.status.busy": "2021-02-04T02:22:17.600919Z",
     "iopub.status.idle": "2021-02-04T02:22:17.602825Z",
     "shell.execute_reply": "2021-02-04T02:22:17.603271Z"
    },
    "id": "6shgzEck3FiV"
   },
   "outputs": [],
   "source": [
    "def tokenize_pairs(pt, en):\n",
    "    pt = tokenizers.pt.tokenize(pt)\n",
    "    # Convert from ragged to dense, padding with zeros.\n",
    "    pt = pt.to_tensor()\n",
    "\n",
    "    en = tokenizers.en.tokenize(en)\n",
    "    # Convert from ragged to dense, padding with zeros.\n",
    "    en = en.to_tensor()\n",
    "    return pt, en"
   ]
  },
  {
   "cell_type": "markdown",
   "metadata": {
    "id": "cf2HwC_0wG0v"
   },
   "source": [
    "Here's a simple input pipeline that processes, shuffles and batches the data:"
   ]
  },
  {
   "cell_type": "code",
   "execution_count": 15,
   "metadata": {
    "execution": {
     "iopub.execute_input": "2021-02-04T02:22:17.607717Z",
     "iopub.status.busy": "2021-02-04T02:22:17.607016Z",
     "iopub.status.idle": "2021-02-04T02:22:17.609308Z",
     "shell.execute_reply": "2021-02-04T02:22:17.608765Z"
    },
    "id": "bcRp7VcQ5m6g"
   },
   "outputs": [],
   "source": [
    "BUFFER_SIZE = 20000\n",
    "BATCH_SIZE = 64"
   ]
  },
  {
   "cell_type": "code",
   "execution_count": 16,
   "metadata": {
    "execution": {
     "iopub.execute_input": "2021-02-04T02:22:17.614355Z",
     "iopub.status.busy": "2021-02-04T02:22:17.613679Z",
     "iopub.status.idle": "2021-02-04T02:22:17.838063Z",
     "shell.execute_reply": "2021-02-04T02:22:17.837467Z"
    },
    "id": "BUN_jLBTwNxk"
   },
   "outputs": [],
   "source": [
    "def make_batches(ds):\n",
    "    return (\n",
    "      ds\n",
    "      .cache()\n",
    "      .shuffle(BUFFER_SIZE)\n",
    "      .batch(BATCH_SIZE)\n",
    "      .map(tokenize_pairs, num_parallel_calls=tf.data.AUTOTUNE)\n",
    "      .prefetch(tf.data.AUTOTUNE))\n",
    "\n",
    "train_batches = make_batches(train_examples)\n",
    "val_batches = make_batches(val_examples)"
   ]
  },
  {
   "cell_type": "markdown",
   "metadata": {
    "id": "nBQuibYA4n0n"
   },
   "source": [
    "## Positional encoding\n",
    "\n",
    "Since this model doesn't contain any recurrence or convolution, positional encoding is added to give the model some information about the relative position of the words in the sentence. \n",
    "\n",
    "The positional encoding vector is added to the embedding vector. Embeddings represent a token in a d-dimensional space where tokens with similar meaning will be closer to each other. But the embeddings do not encode the relative position of words in a sentence. So after adding the positional encoding, words will be closer to each other based on the *similarity of their meaning and their position in the sentence*, in the d-dimensional space.\n",
    "\n",
    "See the notebook on [positional encoding](https://github.com/tensorflow/examples/blob/master/community/en/position_encoding.ipynb) to learn more about it. The formula for calculating the positional encoding is as follows:\n",
    "\n",
    "$$\\Large{PE_{(pos, 2i)} = sin(pos / 10000^{2i / d_{model}})} $$\n",
    "$$\\Large{PE_{(pos, 2i+1)} = cos(pos / 10000^{2i / d_{model}})} $$"
   ]
  },
  {
   "cell_type": "code",
   "execution_count": 17,
   "metadata": {
    "execution": {
     "iopub.execute_input": "2021-02-04T02:22:17.843536Z",
     "iopub.status.busy": "2021-02-04T02:22:17.842742Z",
     "iopub.status.idle": "2021-02-04T02:22:17.845150Z",
     "shell.execute_reply": "2021-02-04T02:22:17.844601Z"
    },
    "id": "WhIOZjMNKujn"
   },
   "outputs": [],
   "source": [
    "def get_angles(pos, i, d_model):\n",
    "    angle_rates = 1 / np.power(10000, (2 * (i//2)) / np.float32(d_model))\n",
    "    return pos * angle_rates"
   ]
  },
  {
   "cell_type": "code",
   "execution_count": 18,
   "metadata": {
    "execution": {
     "iopub.execute_input": "2021-02-04T02:22:17.851810Z",
     "iopub.status.busy": "2021-02-04T02:22:17.851073Z",
     "iopub.status.idle": "2021-02-04T02:22:17.853273Z",
     "shell.execute_reply": "2021-02-04T02:22:17.852748Z"
    },
    "id": "1Rz82wEs5biZ"
   },
   "outputs": [],
   "source": [
    "def positional_encoding(position, d_model):\n",
    "    angle_rads = get_angles(np.arange(position)[:, np.newaxis],\n",
    "                          np.arange(d_model)[np.newaxis, :],\n",
    "                          d_model)\n",
    "  \n",
    "    # apply sin to even indices in the array; 2i\n",
    "    angle_rads[:, 0::2] = np.sin(angle_rads[:, 0::2])\n",
    "  \n",
    "    # apply cos to odd indices in the array; 2i+1\n",
    "    angle_rads[:, 1::2] = np.cos(angle_rads[:, 1::2])\n",
    "    \n",
    "    pos_encoding = angle_rads[np.newaxis, ...]\n",
    "    \n",
    "    return tf.cast(pos_encoding, dtype=tf.float32)"
   ]
  },
  {
   "cell_type": "code",
   "execution_count": 19,
   "metadata": {
    "execution": {
     "iopub.execute_input": "2021-02-04T02:22:17.859008Z",
     "iopub.status.busy": "2021-02-04T02:22:17.858322Z",
     "iopub.status.idle": "2021-02-04T02:22:18.642792Z",
     "shell.execute_reply": "2021-02-04T02:22:18.643378Z"
    },
    "id": "1kLCla68EloE"
   },
   "outputs": [
    {
     "name": "stdout",
     "output_type": "stream",
     "text": [
      "(1, 2048, 512)\n"
     ]
    },
    {
     "data": {
      "image/png": "[encoded data removed]",
      "text/plain": [
       "<Figure size 432x288 with 2 Axes>"
      ]
     },
     "metadata": {
      "needs_background": "light"
     },
     "output_type": "display_data"
    }
   ],
   "source": [
    "n, d = 2048, 512\n",
    "pos_encoding = positional_encoding(n, d)\n",
    "print(pos_encoding.shape)\n",
    "pos_encoding = pos_encoding[0]\n",
    "\n",
    "# Juggle the dimensions for the plot\n",
    "pos_encoding = tf.reshape(pos_encoding, (n, d//2, 2))\n",
    "pos_encoding = tf.transpose(pos_encoding, (2,1,0))\n",
    "pos_encoding = tf.reshape(pos_encoding, (d, n))\n",
    "\n",
    "plt.pcolormesh(pos_encoding, cmap='RdBu')\n",
    "plt.ylabel('Depth')\n",
    "plt.xlabel('Position')\n",
    "plt.colorbar()\n",
    "plt.show()"
   ]
  },
  {
   "cell_type": "markdown",
   "metadata": {
    "id": "a_b4ou4TYqUN"
   },
   "source": [
    "## Masking"
   ]
  },
  {
   "cell_type": "markdown",
   "metadata": {
    "id": "s42Uydjkv0hF"
   },
   "source": [
    "Mask all the pad tokens in the batch of sequence. It ensures that the model does not treat padding as the input. The mask indicates where pad value `0` is present: it outputs a `1` at those locations, and a `0` otherwise."
   ]
  },
  {
   "cell_type": "code",
   "execution_count": 20,
   "metadata": {
    "execution": {
     "iopub.execute_input": "2021-02-04T02:22:18.653836Z",
     "iopub.status.busy": "2021-02-04T02:22:18.653089Z",
     "iopub.status.idle": "2021-02-04T02:22:18.655282Z",
     "shell.execute_reply": "2021-02-04T02:22:18.655694Z"
    },
    "id": "U2i8-e1s8ti9"
   },
   "outputs": [],
   "source": [
    "def create_padding_mask(seq):\n",
    "    seq = tf.cast(tf.math.equal(seq, 0), tf.float32)\n",
    "  \n",
    "    # add extra dimensions to add the padding\n",
    "    # to the attention logits.\n",
    "    return seq[:, tf.newaxis, tf.newaxis, :]  # (batch_size, 1, 1, seq_len)"
   ]
  },
  {
   "cell_type": "code",
   "execution_count": 21,
   "metadata": {
    "execution": {
     "iopub.execute_input": "2021-02-04T02:22:18.660735Z",
     "iopub.status.busy": "2021-02-04T02:22:18.660038Z",
     "iopub.status.idle": "2021-02-04T02:22:18.665917Z",
     "shell.execute_reply": "2021-02-04T02:22:18.665427Z"
    },
    "id": "A7BYeBCNvi7n"
   },
   "outputs": [
    {
     "data": {
      "text/plain": [
       "<tf.Tensor: shape=(3, 1, 1, 5), dtype=float32, numpy=\n",
       "array([[[[0., 0., 1., 1., 0.]]],\n",
       "\n",
       "\n",
       "       [[[0., 0., 0., 1., 1.]]],\n",
       "\n",
       "\n",
       "       [[[1., 1., 1., 0., 0.]]]], dtype=float32)>"
      ]
     },
     "execution_count": 21,
     "metadata": {},
     "output_type": "execute_result"
    }
   ],
   "source": [
    "x = tf.constant([[7, 6, 0, 0, 1], [1, 2, 3, 0, 0], [0, 0, 0, 4, 5]])\n",
    "create_padding_mask(x)"
   ]
  },
  {
   "cell_type": "markdown",
   "metadata": {
    "id": "Z0hzukDBgVom"
   },
   "source": [
    "The look-ahead mask is used to mask the future tokens in a sequence. In other words, the mask indicates which entries should not be used.\n",
    "\n",
    "This means that to predict the third word, only the first and second word will be used. Similarly to predict the fourth word, only the first, second and the third word will be used and so on."
   ]
  },
  {
   "cell_type": "code",
   "execution_count": 22,
   "metadata": {
    "execution": {
     "iopub.execute_input": "2021-02-04T02:22:18.670548Z",
     "iopub.status.busy": "2021-02-04T02:22:18.669885Z",
     "iopub.status.idle": "2021-02-04T02:22:18.672332Z",
     "shell.execute_reply": "2021-02-04T02:22:18.671687Z"
    },
    "id": "dVxS8OPI9uI0"
   },
   "outputs": [],
   "source": [
    "def create_look_ahead_mask(size):\n",
    "    mask = 1 - tf.linalg.band_part(tf.ones((size, size)), -1, 0)\n",
    "    return mask  # (seq_len, seq_len)"
   ]
  },
  {
   "cell_type": "code",
   "execution_count": 23,
   "metadata": {
    "execution": {
     "iopub.execute_input": "2021-02-04T02:22:18.676820Z",
     "iopub.status.busy": "2021-02-04T02:22:18.676147Z",
     "iopub.status.idle": "2021-02-04T02:22:18.681548Z",
     "shell.execute_reply": "2021-02-04T02:22:18.681967Z"
    },
    "id": "yxKGuXxaBeeE"
   },
   "outputs": [
    {
     "data": {
      "text/plain": [
       "<tf.Tensor: shape=(3, 3), dtype=float32, numpy=\n",
       "array([[0., 1., 1.],\n",
       "       [0., 0., 1.],\n",
       "       [0., 0., 0.]], dtype=float32)>"
      ]
     },
     "execution_count": 23,
     "metadata": {},
     "output_type": "execute_result"
    }
   ],
   "source": [
    "x = tf.random.uniform((1, 3))\n",
    "temp = create_look_ahead_mask(x.shape[1])\n",
    "temp"
   ]
  },
  {
   "cell_type": "markdown",
   "metadata": {
    "id": "xluDl5cXYy4y"
   },
   "source": [
    "## Scaled dot product attention"
   ]
  },
  {
   "cell_type": "markdown",
   "metadata": {
    "id": "vsxEE_-Wa1gF"
   },
   "source": [
    "<img src=\"https://www.tensorflow.org/images/tutorials/transformer/scaled_attention.png\" width=\"500\" alt=\"scaled_dot_product_attention\">\n",
    "\n",
    "The attention function used by the transformer takes three inputs: Q (query), K (key), V (value). The equation used to calculate the attention weights is:\n",
    "\n",
    "$$\\Large{Attention(Q, K, V) = softmax_k(\\frac{QK^T}{\\sqrt{d_k}}) V} $$\n",
    "\n",
    "The dot-product attention is scaled by a factor of square root of the depth. This is done because for large values of depth, the dot product grows large in magnitude pushing the softmax function where it has small gradients resulting in a very hard softmax. \n",
    "\n",
    "For example, consider that `Q` and `K` have a mean of 0 and variance of 1. Their matrix multiplication will have a mean of 0 and variance of `dk`. So the *square root of `dk`* is used for scaling so you get a consistent variance regardless of the value of `dk`. If the variance is too low the output may be too flat to optimize effectively. If the variance is too high the softmax may saturate at initilization making it dificult to learn. \n",
    "\n",
    "The mask is multiplied with -1e9 (close to negative infinity). This is done because the mask is summed with the scaled matrix multiplication of Q and K and is applied immediately before a softmax. The goal is to zero out these cells, and large negative inputs to softmax are near zero in the output."
   ]
  },
  {
   "cell_type": "code",
   "execution_count": 26,
   "metadata": {
    "execution": {
     "iopub.execute_input": "2021-02-04T02:22:18.689122Z",
     "iopub.status.busy": "2021-02-04T02:22:18.688450Z",
     "iopub.status.idle": "2021-02-04T02:22:18.690870Z",
     "shell.execute_reply": "2021-02-04T02:22:18.690297Z"
    },
    "id": "LazzUq3bJ5SH"
   },
   "outputs": [],
   "source": [
    "def scaled_dot_product_attention(q, k, v, mask):\n",
    "\n",
    "    matmul_qk = tf.matmul(q, k, transpose_b=True)  # (..., seq_len_q, seq_len_k)\n",
    "  \n",
    "  # scale matmul_qk\n",
    "    dk = tf.cast(tf.shape(k)[-1], tf.float32)\n",
    "    scaled_attention_logits = matmul_qk / tf.math.sqrt(dk)\n",
    "\n",
    "  # add the mask to the scaled tensor.\n",
    "    if mask is not None:\n",
    "        scaled_attention_logits += (mask * -1e9)  \n",
    "\n",
    "      # softmax is normalized on the last axis (seq_len_k) so that the scores\n",
    "  # add up to 1.\n",
    "    attention_weights = tf.nn.softmax(scaled_attention_logits, axis=-1)  # (..., seq_len_q, seq_len_k)\n",
    "\n",
    "    output = tf.matmul(attention_weights, v)  # (..., seq_len_q, depth_v)\n",
    "\n",
    "    return output, attention_weights"
   ]
  },
  {
   "cell_type": "markdown",
   "metadata": {
    "id": "FiqETnhCkoXh"
   },
   "source": [
    "As the softmax normalization is done on K, its values decide the amount of importance given to Q.\n",
    "\n",
    "The output represents the multiplication of the attention weights and the V (value) vector. This ensures that the words you want to focus on are kept as-is and the irrelevant words are flushed out."
   ]
  },
  {
   "cell_type": "code",
   "execution_count": 27,
   "metadata": {
    "execution": {
     "iopub.execute_input": "2021-02-04T02:22:18.695523Z",
     "iopub.status.busy": "2021-02-04T02:22:18.694825Z",
     "iopub.status.idle": "2021-02-04T02:22:18.697143Z",
     "shell.execute_reply": "2021-02-04T02:22:18.696653Z"
    },
    "id": "n90YjClyInFy"
   },
   "outputs": [],
   "source": [
    "def print_out(q, k, v):\n",
    "    temp_out, temp_attn = scaled_dot_product_attention(\n",
    "      q, k, v, None)\n",
    "    print ('Attention weights are:')\n",
    "    print (temp_attn)\n",
    "    print ('Output is:')\n",
    "    print (temp_out)"
   ]
  },
  {
   "cell_type": "code",
   "execution_count": 28,
   "metadata": {
    "execution": {
     "iopub.execute_input": "2021-02-04T02:22:18.703207Z",
     "iopub.status.busy": "2021-02-04T02:22:18.702379Z",
     "iopub.status.idle": "2021-02-04T02:22:19.124920Z",
     "shell.execute_reply": "2021-02-04T02:22:19.124356Z"
    },
    "id": "yAzUAf2DPlNt"
   },
   "outputs": [
    {
     "name": "stdout",
     "output_type": "stream",
     "text": [
      "Attention weights are:\n",
      "tf.Tensor([[0. 1. 0. 0.]], shape=(1, 4), dtype=float32)\n",
      "Output is:\n",
      "tf.Tensor([[10.  0.]], shape=(1, 2), dtype=float32)\n"
     ]
    }
   ],
   "source": [
    "np.set_printoptions(suppress=True)\n",
    "\n",
    "temp_k = tf.constant([[10,0,0],\n",
    "                      [0,10,0],\n",
    "                      [0,0,10],\n",
    "                      [0,0,10]], dtype=tf.float32)  # (4, 3)\n",
    "\n",
    "temp_v = tf.constant([[   1,0],\n",
    "                      [  10,0],\n",
    "                      [ 100,5],\n",
    "                      [1000,6]], dtype=tf.float32)  # (4, 2)\n",
    "\n",
    "# This `query` aligns with the second `key`,\n",
    "# so the second `value` is returned.\n",
    "temp_q = tf.constant([[0, 10, 0]], dtype=tf.float32)  # (1, 3)\n",
    "print_out(temp_q, temp_k, temp_v)"
   ]
  },
  {
   "cell_type": "code",
   "execution_count": 29,
   "metadata": {
    "execution": {
     "iopub.execute_input": "2021-02-04T02:22:19.129766Z",
     "iopub.status.busy": "2021-02-04T02:22:19.128988Z",
     "iopub.status.idle": "2021-02-04T02:22:19.134437Z",
     "shell.execute_reply": "2021-02-04T02:22:19.133928Z"
    },
    "id": "zg6k-fGhgXra"
   },
   "outputs": [
    {
     "name": "stdout",
     "output_type": "stream",
     "text": [
      "Attention weights are:\n",
      "tf.Tensor([[0.  0.  0.5 0.5]], shape=(1, 4), dtype=float32)\n",
      "Output is:\n",
      "tf.Tensor([[550.    5.5]], shape=(1, 2), dtype=float32)\n"
     ]
    }
   ],
   "source": [
    "# This query aligns with a repeated key (third and fourth), \n",
    "# so all associated values get averaged.\n",
    "temp_q = tf.constant([[0, 0, 10]], dtype=tf.float32)  # (1, 3)\n",
    "print_out(temp_q, temp_k, temp_v)"
   ]
  },
  {
   "cell_type": "code",
   "execution_count": 30,
   "metadata": {
    "execution": {
     "iopub.execute_input": "2021-02-04T02:22:19.139424Z",
     "iopub.status.busy": "2021-02-04T02:22:19.138614Z",
     "iopub.status.idle": "2021-02-04T02:22:19.143582Z",
     "shell.execute_reply": "2021-02-04T02:22:19.144021Z"
    },
    "id": "UAq3YOzUgXhb"
   },
   "outputs": [
    {
     "name": "stdout",
     "output_type": "stream",
     "text": [
      "Attention weights are:\n",
      "tf.Tensor([[0.5 0.5 0.  0. ]], shape=(1, 4), dtype=float32)\n",
      "Output is:\n",
      "tf.Tensor([[5.5 0. ]], shape=(1, 2), dtype=float32)\n"
     ]
    }
   ],
   "source": [
    "# This query aligns equally with the first and second key, \n",
    "# so their values get averaged.\n",
    "temp_q = tf.constant([[10, 10, 0]], dtype=tf.float32)  # (1, 3)\n",
    "print_out(temp_q, temp_k, temp_v)"
   ]
  },
  {
   "cell_type": "markdown",
   "metadata": {
    "id": "aOz-4_XIhaTP"
   },
   "source": [
    "Pass all the queries together."
   ]
  },
  {
   "cell_type": "code",
   "execution_count": 31,
   "metadata": {
    "execution": {
     "iopub.execute_input": "2021-02-04T02:22:19.149102Z",
     "iopub.status.busy": "2021-02-04T02:22:19.148370Z",
     "iopub.status.idle": "2021-02-04T02:22:19.153775Z",
     "shell.execute_reply": "2021-02-04T02:22:19.153259Z"
    },
    "id": "6dlU8Tm-hYrF",
    "scrolled": true
   },
   "outputs": [
    {
     "name": "stdout",
     "output_type": "stream",
     "text": [
      "Attention weights are:\n",
      "tf.Tensor(\n",
      "[[0.  0.  0.5 0.5]\n",
      " [0.  1.  0.  0. ]\n",
      " [0.5 0.5 0.  0. ]], shape=(3, 4), dtype=float32)\n",
      "Output is:\n",
      "tf.Tensor(\n",
      "[[550.    5.5]\n",
      " [ 10.    0. ]\n",
      " [  5.5   0. ]], shape=(3, 2), dtype=float32)\n"
     ]
    }
   ],
   "source": [
    "temp_q = tf.constant([[0, 0, 10], [0, 10, 0], [10, 10, 0]], dtype=tf.float32)  # (3, 3)\n",
    "print_out(temp_q, temp_k, temp_v)"
   ]
  },
  {
   "cell_type": "markdown",
   "metadata": {
    "id": "kmzGPEy64qmA"
   },
   "source": [
    "## Multi-head attention"
   ]
  },
  {
   "cell_type": "markdown",
   "metadata": {
    "id": "fz5BMC8Kaoqo"
   },
   "source": [
    "<img src=\"https://www.tensorflow.org/images/tutorials/transformer/multi_head_attention.png\" width=\"500\" alt=\"multi-head attention\">\n",
    "\n",
    "\n",
    "Multi-head attention consists of four parts:\n",
    "*    Linear layers and split into heads.\n",
    "*    Scaled dot-product attention.\n",
    "*    Concatenation of heads.\n",
    "*    Final linear layer."
   ]
  },
  {
   "cell_type": "markdown",
   "metadata": {
    "id": "JPmbr6F1C-v_"
   },
   "source": [
    "Each multi-head attention block gets three inputs; Q (query), K (key), V (value). These are put through linear (Dense) layers and split up into multiple heads. \n",
    "\n",
    "The `scaled_dot_product_attention` defined above is applied to each head (broadcasted for efficiency). An appropriate mask must be used in the attention step.  The attention output for each head is then concatenated (using `tf.transpose`, and `tf.reshape`) and put through a final `Dense` layer.\n",
    "\n",
    "Instead of one single attention head, Q, K, and V are split into multiple heads because it allows the model to jointly attend to information at different positions from different representational spaces. After the split each head has a reduced dimensionality, so the total computation cost is the same as a single head attention with full dimensionality."
   ]
  },
  {
   "cell_type": "code",
   "execution_count": 32,
   "metadata": {
    "execution": {
     "iopub.execute_input": "2021-02-04T02:22:19.165473Z",
     "iopub.status.busy": "2021-02-04T02:22:19.164702Z",
     "iopub.status.idle": "2021-02-04T02:22:19.166558Z",
     "shell.execute_reply": "2021-02-04T02:22:19.166997Z"
    },
    "id": "BSV3PPKsYecw"
   },
   "outputs": [],
   "source": [
    "class MultiHeadAttention(tf.keras.layers.Layer):\n",
    "    def __init__(self, d_model, num_heads):\n",
    "        super(MultiHeadAttention, self).__init__()\n",
    "        self.num_heads = num_heads\n",
    "        self.d_model = d_model\n",
    "\n",
    "        assert d_model % self.num_heads == 0\n",
    "\n",
    "        self.depth = d_model // self.num_heads\n",
    "\n",
    "        self.wq = tf.keras.layers.Dense(d_model)\n",
    "        self.wk = tf.keras.layers.Dense(d_model)\n",
    "        self.wv = tf.keras.layers.Dense(d_model)\n",
    "\n",
    "        self.dense = tf.keras.layers.Dense(d_model)\n",
    "        \n",
    "    def split_heads(self, x, batch_size):\n",
    "        \"\"\"Split the last dimension into (num_heads, depth).\n",
    "        Transpose the result such that the shape is (batch_size, num_heads, seq_len, depth)\n",
    "        \"\"\"\n",
    "        x = tf.reshape(x, (batch_size, -1, self.num_heads, self.depth))\n",
    "        return tf.transpose(x, perm=[0, 2, 1, 3])\n",
    "    \n",
    "    def call(self, v, k, q, mask):\n",
    "        batch_size = tf.shape(q)[0]\n",
    "\n",
    "        q = self.wq(q)  # (batch_size, seq_len, d_model)\n",
    "        k = self.wk(k)  # (batch_size, seq_len, d_model)\n",
    "        v = self.wv(v)  # (batch_size, seq_len, d_model)\n",
    "\n",
    "        q = self.split_heads(q, batch_size)  # (batch_size, num_heads, seq_len_q, depth)\n",
    "        k = self.split_heads(k, batch_size)  # (batch_size, num_heads, seq_len_k, depth)\n",
    "        v = self.split_heads(v, batch_size)  # (batch_size, num_heads, seq_len_v, depth)\n",
    "\n",
    "        # scaled_attention.shape == (batch_size, num_heads, seq_len_q, depth)\n",
    "        # attention_weights.shape == (batch_size, num_heads, seq_len_q, seq_len_k)\n",
    "        scaled_attention, attention_weights = scaled_dot_product_attention(\n",
    "            q, k, v, mask)\n",
    "\n",
    "        scaled_attention = tf.transpose(scaled_attention, perm=[0, 2, 1, 3])  # (batch_size, seq_len_q, num_heads, depth)\n",
    "\n",
    "        concat_attention = tf.reshape(scaled_attention, \n",
    "                                      (batch_size, -1, self.d_model))  # (batch_size, seq_len_q, d_model)\n",
    "\n",
    "        output = self.dense(concat_attention)  # (batch_size, seq_len_q, d_model)\n",
    "\n",
    "        return output, attention_weights"
   ]
  },
  {
   "cell_type": "markdown",
   "metadata": {
    "id": "0D8FJue5lDyZ"
   },
   "source": [
    "Create a `MultiHeadAttention` layer to try out. At each location in the sequence, `y`, the `MultiHeadAttention` runs all 8 attention heads across all other locations in the sequence, returning a new vector of the same length at each location."
   ]
  },
  {
   "cell_type": "code",
   "execution_count": 33,
   "metadata": {
    "execution": {
     "iopub.execute_input": "2021-02-04T02:22:19.187962Z",
     "iopub.status.busy": "2021-02-04T02:22:19.171406Z",
     "iopub.status.idle": "2021-02-04T02:22:19.211245Z",
     "shell.execute_reply": "2021-02-04T02:22:19.210618Z"
    },
    "id": "Hu94p-_-2_BX"
   },
   "outputs": [
    {
     "data": {
      "text/plain": [
       "(TensorShape([1, 60, 512]), TensorShape([1, 8, 60, 60]))"
      ]
     },
     "execution_count": 33,
     "metadata": {},
     "output_type": "execute_result"
    }
   ],
   "source": [
    "temp_mha = MultiHeadAttention(d_model=512, num_heads=8)\n",
    "y = tf.random.uniform((1, 60, 512))  # (batch_size, encoder_sequence, d_model)\n",
    "out, attn = temp_mha(y, k=y, q=y, mask=None)\n",
    "out.shape, attn.shape"
   ]
  },
  {
   "cell_type": "markdown",
   "metadata": {
    "id": "RdDqGayx67vv"
   },
   "source": [
    "## Point wise feed forward network"
   ]
  },
  {
   "cell_type": "markdown",
   "metadata": {
    "id": "gBqzJXGfHK3X"
   },
   "source": [
    "Point wise feed forward network consists of two fully-connected layers with a ReLU activation in between."
   ]
  },
  {
   "cell_type": "code",
   "execution_count": 34,
   "metadata": {
    "execution": {
     "iopub.execute_input": "2021-02-04T02:22:19.216866Z",
     "iopub.status.busy": "2021-02-04T02:22:19.216070Z",
     "iopub.status.idle": "2021-02-04T02:22:19.218685Z",
     "shell.execute_reply": "2021-02-04T02:22:19.218173Z"
    },
    "id": "ET7xLt0yCT6Z"
   },
   "outputs": [],
   "source": [
    "def point_wise_feed_forward_network(d_model, dff):\n",
    "    return tf.keras.Sequential([\n",
    "      tf.keras.layers.Dense(dff, activation='relu'),  # (batch_size, seq_len, dff)\n",
    "      tf.keras.layers.Dense(d_model)  # (batch_size, seq_len, d_model)\n",
    "  ])"
   ]
  },
  {
   "cell_type": "code",
   "execution_count": 35,
   "metadata": {
    "execution": {
     "iopub.execute_input": "2021-02-04T02:22:19.227726Z",
     "iopub.status.busy": "2021-02-04T02:22:19.226887Z",
     "iopub.status.idle": "2021-02-04T02:22:19.257532Z",
     "shell.execute_reply": "2021-02-04T02:22:19.256795Z"
    },
    "id": "mytb1lPyOHLB"
   },
   "outputs": [
    {
     "data": {
      "text/plain": [
       "TensorShape([64, 50, 512])"
      ]
     },
     "execution_count": 35,
     "metadata": {},
     "output_type": "execute_result"
    }
   ],
   "source": [
    "sample_ffn = point_wise_feed_forward_network(512, 2048)\n",
    "sample_ffn(tf.random.uniform((64, 50, 512))).shape"
   ]
  },
  {
   "cell_type": "markdown",
   "metadata": {
    "id": "7e7hKcxn6-zd"
   },
   "source": [
    "## Encoder and decoder"
   ]
  },
  {
   "cell_type": "markdown",
   "metadata": {
    "id": "yScbC0MUH8dS"
   },
   "source": [
    "<img src=\"https://www.tensorflow.org/images/tutorials/transformer/transformer.png\" width=\"600\" alt=\"transformer\">"
   ]
  },
  {
   "cell_type": "markdown",
   "metadata": {
    "id": "MfYJG-Kvgwy2"
   },
   "source": [
    "The transformer model follows the same general pattern as a standard [sequence to sequence with attention model](nmt_with_attention.ipynb). \n",
    "\n",
    "* The input sentence is passed through `N` encoder layers that generates an output for each word/token in the sequence.\n",
    "* The decoder attends on the encoder's output and its own input (self-attention) to predict the next word. "
   ]
  },
  {
   "cell_type": "markdown",
   "metadata": {
    "id": "QFv-FNYUmvpn"
   },
   "source": [
    "### Encoder layer\n",
    "\n",
    "Each encoder layer consists of sublayers:\n",
    "\n",
    "1.   Multi-head attention (with padding mask) \n",
    "2.    Point wise feed forward networks. \n",
    "\n",
    "Each of these sublayers has a residual connection around it followed by a layer normalization. Residual connections help in avoiding the vanishing gradient problem in deep networks.\n",
    "\n",
    "The output of each sublayer is `LayerNorm(x + Sublayer(x))`. The normalization is done on the `d_model` (last) axis. There are N encoder layers in the transformer."
   ]
  },
  {
   "cell_type": "code",
   "execution_count": 36,
   "metadata": {
    "execution": {
     "iopub.execute_input": "2021-02-04T02:22:19.266608Z",
     "iopub.status.busy": "2021-02-04T02:22:19.265758Z",
     "iopub.status.idle": "2021-02-04T02:22:19.268529Z",
     "shell.execute_reply": "2021-02-04T02:22:19.268009Z"
    },
    "id": "ncyS-Ms3i2x_"
   },
   "outputs": [],
   "source": [
    "class EncoderLayer(tf.keras.layers.Layer):\n",
    "    def __init__(self, d_model, num_heads, dff, rate=0.1):\n",
    "        super(EncoderLayer, self).__init__()\n",
    "\n",
    "        self.mha = MultiHeadAttention(d_model, num_heads)\n",
    "        self.ffn = point_wise_feed_forward_network(d_model, dff)\n",
    "\n",
    "        self.layernorm1 = tf.keras.layers.LayerNormalization(epsilon=1e-6)\n",
    "        self.layernorm2 = tf.keras.layers.LayerNormalization(epsilon=1e-6)\n",
    "\n",
    "        self.dropout1 = tf.keras.layers.Dropout(rate)\n",
    "        self.dropout2 = tf.keras.layers.Dropout(rate)\n",
    "    \n",
    "    def call(self, x, training, mask):\n",
    "\n",
    "        attn_output, _ = self.mha(x, x, x, mask)  # (batch_size, input_seq_len, d_model)\n",
    "        attn_output = self.dropout1(attn_output, training=training)\n",
    "        out1 = self.layernorm1(x + attn_output)  # (batch_size, input_seq_len, d_model)\n",
    "\n",
    "        ffn_output = self.ffn(out1)  # (batch_size, input_seq_len, d_model)\n",
    "        ffn_output = self.dropout2(ffn_output, training=training)\n",
    "        out2 = self.layernorm2(out1 + ffn_output)  # (batch_size, input_seq_len, d_model)\n",
    "\n",
    "        return out2"
   ]
  },
  {
   "cell_type": "code",
   "execution_count": 37,
   "metadata": {
    "execution": {
     "iopub.execute_input": "2021-02-04T02:22:19.283456Z",
     "iopub.status.busy": "2021-02-04T02:22:19.282549Z",
     "iopub.status.idle": "2021-02-04T02:22:19.342241Z",
     "shell.execute_reply": "2021-02-04T02:22:19.341734Z"
    },
    "id": "AzZRXdO0mI48"
   },
   "outputs": [
    {
     "data": {
      "text/plain": [
       "TensorShape([64, 43, 512])"
      ]
     },
     "execution_count": 37,
     "metadata": {},
     "output_type": "execute_result"
    }
   ],
   "source": [
    "sample_encoder_layer = EncoderLayer(512, 8, 2048)\n",
    "\n",
    "sample_encoder_layer_output = sample_encoder_layer(\n",
    "    tf.random.uniform((64, 43, 512)), False, None)\n",
    "\n",
    "sample_encoder_layer_output.shape  # (batch_size, input_seq_len, d_model)"
   ]
  },
  {
   "cell_type": "markdown",
   "metadata": {
    "id": "6LO_48Owmx_o"
   },
   "source": [
    "### Decoder layer\n",
    "\n",
    "Each decoder layer consists of sublayers:\n",
    "\n",
    "1.   Masked multi-head attention (with look ahead mask and padding mask)\n",
    "2.   Multi-head attention (with padding mask). V (value) and K (key) receive the *encoder output* as inputs. Q (query) receives the *output from the masked multi-head attention sublayer.*\n",
    "3.   Point wise feed forward networks\n",
    "\n",
    "Each of these sublayers has a residual connection around it followed by a layer normalization. The output of each sublayer is `LayerNorm(x + Sublayer(x))`. The normalization is done on the `d_model` (last) axis.\n",
    "\n",
    "There are N decoder layers in the transformer.\n",
    "\n",
    "As Q receives the output from decoder's first attention block, and K receives the encoder output, the attention weights represent the importance given to the decoder's input based on the encoder's output. In other words, the decoder predicts the next word by looking at the encoder output and self-attending to its own output. See the demonstration above in the scaled dot product attention section."
   ]
  },
  {
   "cell_type": "code",
   "execution_count": 38,
   "metadata": {
    "execution": {
     "iopub.execute_input": "2021-02-04T02:22:19.352911Z",
     "iopub.status.busy": "2021-02-04T02:22:19.352110Z",
     "iopub.status.idle": "2021-02-04T02:22:19.354443Z",
     "shell.execute_reply": "2021-02-04T02:22:19.353902Z"
    },
    "id": "9SoX0-vd1hue"
   },
   "outputs": [],
   "source": [
    "class DecoderLayer(tf.keras.layers.Layer):\n",
    "    def __init__(self, d_model, num_heads, dff, rate=0.1):\n",
    "        super(DecoderLayer, self).__init__()\n",
    "\n",
    "        self.mha1 = MultiHeadAttention(d_model, num_heads)\n",
    "        self.mha2 = MultiHeadAttention(d_model, num_heads)\n",
    "\n",
    "        self.ffn = point_wise_feed_forward_network(d_model, dff)\n",
    "\n",
    "        self.layernorm1 = tf.keras.layers.LayerNormalization(epsilon=1e-6)\n",
    "        self.layernorm2 = tf.keras.layers.LayerNormalization(epsilon=1e-6)\n",
    "        self.layernorm3 = tf.keras.layers.LayerNormalization(epsilon=1e-6)\n",
    "\n",
    "        self.dropout1 = tf.keras.layers.Dropout(rate)\n",
    "        self.dropout2 = tf.keras.layers.Dropout(rate)\n",
    "        self.dropout3 = tf.keras.layers.Dropout(rate)\n",
    "\n",
    "    \n",
    "    def call(self, x, enc_output, training, \n",
    "           look_ahead_mask, padding_mask):\n",
    "        # enc_output.shape == (batch_size, input_seq_len, d_model)\n",
    "\n",
    "        attn1, attn_weights_block1 = self.mha1(x, x, x, look_ahead_mask)  # (batch_size, target_seq_len, d_model)\n",
    "        attn1 = self.dropout1(attn1, training=training)\n",
    "        out1 = self.layernorm1(attn1 + x)\n",
    "\n",
    "        attn2, attn_weights_block2 = self.mha2(\n",
    "            enc_output, enc_output, out1, padding_mask)  # (batch_size, target_seq_len, d_model)\n",
    "        attn2 = self.dropout2(attn2, training=training)\n",
    "        out2 = self.layernorm2(attn2 + out1)  # (batch_size, target_seq_len, d_model)\n",
    "\n",
    "        ffn_output = self.ffn(out2)  # (batch_size, target_seq_len, d_model)\n",
    "        ffn_output = self.dropout3(ffn_output, training=training)\n",
    "        out3 = self.layernorm3(ffn_output + out2)  # (batch_size, target_seq_len, d_model)\n",
    "\n",
    "        return out3, attn_weights_block1, attn_weights_block2"
   ]
  },
  {
   "cell_type": "code",
   "execution_count": 39,
   "metadata": {
    "execution": {
     "iopub.execute_input": "2021-02-04T02:22:19.368532Z",
     "iopub.status.busy": "2021-02-04T02:22:19.367849Z",
     "iopub.status.idle": "2021-02-04T02:22:19.423592Z",
     "shell.execute_reply": "2021-02-04T02:22:19.423993Z"
    },
    "id": "Ne2Bqx8k71l0"
   },
   "outputs": [
    {
     "data": {
      "text/plain": [
       "TensorShape([64, 50, 512])"
      ]
     },
     "execution_count": 39,
     "metadata": {},
     "output_type": "execute_result"
    }
   ],
   "source": [
    "sample_decoder_layer = DecoderLayer(512, 8, 2048)\n",
    "\n",
    "sample_decoder_layer_output, _, _ = sample_decoder_layer(\n",
    "    tf.random.uniform((64, 50, 512)), sample_encoder_layer_output, \n",
    "    False, None, None)\n",
    "\n",
    "sample_decoder_layer_output.shape  # (batch_size, target_seq_len, d_model)"
   ]
  },
  {
   "cell_type": "markdown",
   "metadata": {
    "id": "SE1H51Ajm0q1"
   },
   "source": [
    "### Encoder\n",
    "\n",
    "The `Encoder` consists of:\n",
    "1.   Input Embedding\n",
    "2.   Positional Encoding\n",
    "3.   N encoder layers\n",
    "\n",
    "The input is put through an embedding which is summed with the positional encoding. The output of this summation is the input to the encoder layers. The output of the encoder is the input to the decoder."
   ]
  },
  {
   "cell_type": "code",
   "execution_count": 40,
   "metadata": {
    "execution": {
     "iopub.execute_input": "2021-02-04T02:22:19.433437Z",
     "iopub.status.busy": "2021-02-04T02:22:19.432699Z",
     "iopub.status.idle": "2021-02-04T02:22:19.435480Z",
     "shell.execute_reply": "2021-02-04T02:22:19.434814Z"
    },
    "id": "jpEox7gJ8FCI"
   },
   "outputs": [],
   "source": [
    "class Encoder(tf.keras.layers.Layer):\n",
    "    def __init__(self, num_layers, d_model, num_heads, dff, input_vocab_size,\n",
    "               maximum_position_encoding, rate=0.1):\n",
    "        super(Encoder, self).__init__()\n",
    "\n",
    "        self.d_model = d_model\n",
    "        self.num_layers = num_layers\n",
    "\n",
    "        self.embedding = tf.keras.layers.Embedding(input_vocab_size, d_model)\n",
    "        self.pos_encoding = positional_encoding(maximum_position_encoding, \n",
    "                                                self.d_model)\n",
    "\n",
    "\n",
    "        self.enc_layers = [EncoderLayer(d_model, num_heads, dff, rate) \n",
    "                           for _ in range(num_layers)]\n",
    "\n",
    "        self.dropout = tf.keras.layers.Dropout(rate)\n",
    "\n",
    "    def call(self, x, training, mask):\n",
    "\n",
    "        seq_len = tf.shape(x)[1]\n",
    "\n",
    "        # adding embedding and position encoding.\n",
    "        x = self.embedding(x)  # (batch_size, input_seq_len, d_model)\n",
    "        x *= tf.math.sqrt(tf.cast(self.d_model, tf.float32))\n",
    "        x += self.pos_encoding[:, :seq_len, :]\n",
    "\n",
    "        x = self.dropout(x, training=training)\n",
    "\n",
    "        for i in range(self.num_layers):\n",
    "            x = self.enc_layers[i](x, training, mask)\n",
    "\n",
    "        return x  # (batch_size, input_seq_len, d_model)"
   ]
  },
  {
   "cell_type": "code",
   "execution_count": 41,
   "metadata": {
    "execution": {
     "iopub.execute_input": "2021-02-04T02:22:19.448225Z",
     "iopub.status.busy": "2021-02-04T02:22:19.447426Z",
     "iopub.status.idle": "2021-02-04T02:22:19.763723Z",
     "shell.execute_reply": "2021-02-04T02:22:19.764192Z"
    },
    "id": "8QG9nueFQKXx"
   },
   "outputs": [
    {
     "name": "stdout",
     "output_type": "stream",
     "text": [
      "(64, 62, 512)\n"
     ]
    }
   ],
   "source": [
    "sample_encoder = Encoder(num_layers=2, d_model=512, num_heads=8, \n",
    "                         dff=2048, input_vocab_size=8500,\n",
    "                         maximum_position_encoding=10000)\n",
    "temp_input = tf.random.uniform((64, 62), dtype=tf.int64, minval=0, maxval=200)\n",
    "\n",
    "sample_encoder_output = sample_encoder(temp_input, training=False, mask=None)\n",
    "\n",
    "print (sample_encoder_output.shape)  # (batch_size, input_seq_len, d_model)"
   ]
  },
  {
   "cell_type": "markdown",
   "metadata": {
    "id": "p-uO6ls8m2O5"
   },
   "source": [
    "### Decoder"
   ]
  },
  {
   "cell_type": "markdown",
   "metadata": {
    "id": "ZtT7PKzrXkNr"
   },
   "source": [
    " The `Decoder` consists of:\n",
    "1.   Output Embedding\n",
    "2.   Positional Encoding\n",
    "3.   N decoder layers\n",
    "\n",
    "The target is put through an embedding which is summed with the positional encoding. The output of this summation is the input to the decoder layers. The output of the decoder is the input to the final linear layer."
   ]
  },
  {
   "cell_type": "code",
   "execution_count": 42,
   "metadata": {
    "execution": {
     "iopub.execute_input": "2021-02-04T02:22:19.775749Z",
     "iopub.status.busy": "2021-02-04T02:22:19.774605Z",
     "iopub.status.idle": "2021-02-04T02:22:19.777023Z",
     "shell.execute_reply": "2021-02-04T02:22:19.776457Z"
    },
    "id": "d5_d5-PLQXwY"
   },
   "outputs": [],
   "source": [
    "class Decoder(tf.keras.layers.Layer):\n",
    "    def __init__(self, num_layers, d_model, num_heads, dff, target_vocab_size,\n",
    "               maximum_position_encoding, rate=0.1):\n",
    "        super(Decoder, self).__init__()\n",
    "\n",
    "        self.d_model = d_model\n",
    "        self.num_layers = num_layers\n",
    "\n",
    "        self.embedding = tf.keras.layers.Embedding(target_vocab_size, d_model)\n",
    "        self.pos_encoding = positional_encoding(maximum_position_encoding, d_model)\n",
    "\n",
    "        self.dec_layers = [DecoderLayer(d_model, num_heads, dff, rate) \n",
    "                           for _ in range(num_layers)]\n",
    "        self.dropout = tf.keras.layers.Dropout(rate)\n",
    "\n",
    "    def call(self, x, enc_output, training, \n",
    "           look_ahead_mask, padding_mask):\n",
    "\n",
    "        seq_len = tf.shape(x)[1]\n",
    "        attention_weights = {}\n",
    "\n",
    "        x = self.embedding(x)  # (batch_size, target_seq_len, d_model)\n",
    "        x *= tf.math.sqrt(tf.cast(self.d_model, tf.float32))\n",
    "        x += self.pos_encoding[:, :seq_len, :]\n",
    "\n",
    "        x = self.dropout(x, training=training)\n",
    "\n",
    "        for i in range(self.num_layers):\n",
    "            x, block1, block2 = self.dec_layers[i](x, enc_output, training,\n",
    "                                                 look_ahead_mask, padding_mask)\n",
    "\n",
    "            attention_weights['decoder_layer{}_block1'.format(i+1)] = block1\n",
    "            attention_weights['decoder_layer{}_block2'.format(i+1)] = block2\n",
    "\n",
    "        # x.shape == (batch_size, target_seq_len, d_model)\n",
    "        return x, attention_weights"
   ]
  },
  {
   "cell_type": "code",
   "execution_count": 43,
   "metadata": {
    "execution": {
     "iopub.execute_input": "2021-02-04T02:22:19.784017Z",
     "iopub.status.busy": "2021-02-04T02:22:19.783324Z",
     "iopub.status.idle": "2021-02-04T02:22:20.026095Z",
     "shell.execute_reply": "2021-02-04T02:22:20.026543Z"
    },
    "id": "a1jXoAMRZyvu"
   },
   "outputs": [
    {
     "data": {
      "text/plain": [
       "(TensorShape([64, 26, 512]), TensorShape([64, 8, 26, 62]))"
      ]
     },
     "execution_count": 43,
     "metadata": {},
     "output_type": "execute_result"
    }
   ],
   "source": [
    "sample_decoder = Decoder(num_layers=2, d_model=512, num_heads=8, \n",
    "                         dff=2048, target_vocab_size=8000,\n",
    "                         maximum_position_encoding=5000)\n",
    "temp_input = tf.random.uniform((64, 26), dtype=tf.int64, minval=0, maxval=200)\n",
    "\n",
    "output, attn = sample_decoder(temp_input, \n",
    "                              enc_output=sample_encoder_output, \n",
    "                              training=False,\n",
    "                              look_ahead_mask=None, \n",
    "                              padding_mask=None)\n",
    "\n",
    "output.shape, attn['decoder_layer2_block2'].shape"
   ]
  },
  {
   "cell_type": "markdown",
   "metadata": {
    "id": "y54xnJnuYgJ7"
   },
   "source": [
    "## Create the Transformer"
   ]
  },
  {
   "cell_type": "markdown",
   "metadata": {
    "id": "uERO1y54cOKq"
   },
   "source": [
    "Transformer consists of the encoder, decoder and a final linear layer. The output of the decoder is the input to the linear layer and its output is returned."
   ]
  },
  {
   "cell_type": "code",
   "execution_count": 44,
   "metadata": {
    "execution": {
     "iopub.execute_input": "2021-02-04T02:22:20.034857Z",
     "iopub.status.busy": "2021-02-04T02:22:20.034176Z",
     "iopub.status.idle": "2021-02-04T02:22:20.035988Z",
     "shell.execute_reply": "2021-02-04T02:22:20.036396Z"
    },
    "id": "PED3bIpOYkBu"
   },
   "outputs": [],
   "source": [
    "class Transformer(tf.keras.Model):\n",
    "    def __init__(self, num_layers, d_model, num_heads, dff, input_vocab_size, \n",
    "               target_vocab_size, pe_input, pe_target, rate=0.1):\n",
    "        super(Transformer, self).__init__()\n",
    "\n",
    "        self.tokenizer = Encoder(num_layers, d_model, num_heads, dff, \n",
    "                               input_vocab_size, pe_input, rate)\n",
    "\n",
    "        self.decoder = Decoder(num_layers, d_model, num_heads, dff, \n",
    "                               target_vocab_size, pe_target, rate)\n",
    "\n",
    "        self.final_layer = tf.keras.layers.Dense(target_vocab_size)\n",
    "\n",
    "    def call(self, inp, tar, training, enc_padding_mask, \n",
    "           look_ahead_mask, dec_padding_mask):\n",
    "\n",
    "        enc_output = self.tokenizer(inp, training, enc_padding_mask)  # (batch_size, inp_seq_len, d_model)\n",
    "\n",
    "        # dec_output.shape == (batch_size, tar_seq_len, d_model)\n",
    "        dec_output, attention_weights = self.decoder(\n",
    "            tar, enc_output, training, look_ahead_mask, dec_padding_mask)\n",
    "\n",
    "        final_output = self.final_layer(dec_output)  # (batch_size, tar_seq_len, target_vocab_size)\n",
    "\n",
    "        return final_output, attention_weights"
   ]
  },
  {
   "cell_type": "code",
   "execution_count": 45,
   "metadata": {
    "execution": {
     "iopub.execute_input": "2021-02-04T02:22:20.044779Z",
     "iopub.status.busy": "2021-02-04T02:22:20.044011Z",
     "iopub.status.idle": "2021-02-04T02:22:20.611954Z",
     "shell.execute_reply": "2021-02-04T02:22:20.612383Z"
    },
    "id": "tJ4fbQcIkHW1"
   },
   "outputs": [
    {
     "data": {
      "text/plain": [
       "TensorShape([64, 36, 8000])"
      ]
     },
     "execution_count": 45,
     "metadata": {},
     "output_type": "execute_result"
    }
   ],
   "source": [
    "sample_transformer = Transformer(\n",
    "    num_layers=2, d_model=512, num_heads=8, dff=2048, \n",
    "    input_vocab_size=8500, target_vocab_size=8000, \n",
    "    pe_input=10000, pe_target=6000)\n",
    "\n",
    "temp_input = tf.random.uniform((64, 38), dtype=tf.int64, minval=0, maxval=200)\n",
    "temp_target = tf.random.uniform((64, 36), dtype=tf.int64, minval=0, maxval=200)\n",
    "\n",
    "fn_out, _ = sample_transformer(temp_input, temp_target, training=False, \n",
    "                               enc_padding_mask=None, \n",
    "                               look_ahead_mask=None,\n",
    "                               dec_padding_mask=None)\n",
    "\n",
    "fn_out.shape  # (batch_size, tar_seq_len, target_vocab_size)"
   ]
  },
  {
   "cell_type": "markdown",
   "metadata": {
    "id": "wsINyf1VEQLC"
   },
   "source": [
    "## Set hyperparameters"
   ]
  },
  {
   "cell_type": "markdown",
   "metadata": {
    "id": "zVjWCxFNcgbt"
   },
   "source": [
    "To keep this example small and relatively fast, the values for *num_layers, d_model, and dff* have been reduced. \n",
    "\n",
    "The values used in the base model of transformer were; *num_layers=6*, *d_model = 512*, *dff = 2048*. See the [paper](https://arxiv.org/abs/1706.03762) for all the other versions of the transformer.\n",
    "\n",
    "Note: By changing the values below, you can get the model that achieved state of the art on many tasks."
   ]
  },
  {
   "cell_type": "code",
   "execution_count": 46,
   "metadata": {
    "execution": {
     "iopub.execute_input": "2021-02-04T02:22:20.617097Z",
     "iopub.status.busy": "2021-02-04T02:22:20.616437Z",
     "iopub.status.idle": "2021-02-04T02:22:20.618816Z",
     "shell.execute_reply": "2021-02-04T02:22:20.618227Z"
    },
    "id": "lnJn5SLA2ahP"
   },
   "outputs": [],
   "source": [
    "num_layers = 4\n",
    "d_model = 128\n",
    "dff = 512\n",
    "num_heads = 8\n",
    "dropout_rate = 0.1"
   ]
  },
  {
   "cell_type": "markdown",
   "metadata": {
    "id": "xYEGhEOtzn5W"
   },
   "source": [
    "## Optimizer"
   ]
  },
  {
   "cell_type": "markdown",
   "metadata": {
    "id": "GOmWW--yP3zx"
   },
   "source": [
    "Use the Adam optimizer with a custom learning rate scheduler according to the formula in the [paper](https://arxiv.org/abs/1706.03762).\n",
    "\n",
    "$$\\Large{lrate = d_{model}^{-0.5} * min(step{\\_}num^{-0.5}, step{\\_}num * warmup{\\_}steps^{-1.5})}$$\n"
   ]
  },
  {
   "cell_type": "code",
   "execution_count": 47,
   "metadata": {
    "execution": {
     "iopub.execute_input": "2021-02-04T02:22:20.625189Z",
     "iopub.status.busy": "2021-02-04T02:22:20.624533Z",
     "iopub.status.idle": "2021-02-04T02:22:20.626877Z",
     "shell.execute_reply": "2021-02-04T02:22:20.626402Z"
    },
    "id": "iYQdOO1axwEI"
   },
   "outputs": [],
   "source": [
    "class CustomSchedule(tf.keras.optimizers.schedules.LearningRateSchedule):\n",
    "    def __init__(self, d_model, warmup_steps=4000):\n",
    "        super(CustomSchedule, self).__init__()\n",
    "\n",
    "        self.d_model = d_model\n",
    "        self.d_model = tf.cast(self.d_model, tf.float32)\n",
    "\n",
    "        self.warmup_steps = warmup_steps\n",
    "\n",
    "    def __call__(self, step):\n",
    "        arg1 = tf.math.rsqrt(step)\n",
    "        arg2 = step * (self.warmup_steps ** -1.5)\n",
    "\n",
    "        return tf.math.rsqrt(self.d_model) * tf.math.minimum(arg1, arg2)"
   ]
  },
  {
   "cell_type": "code",
   "execution_count": 48,
   "metadata": {
    "execution": {
     "iopub.execute_input": "2021-02-04T02:22:20.631126Z",
     "iopub.status.busy": "2021-02-04T02:22:20.630404Z",
     "iopub.status.idle": "2021-02-04T02:22:20.632992Z",
     "shell.execute_reply": "2021-02-04T02:22:20.633417Z"
    },
    "id": "7r4scdulztRx"
   },
   "outputs": [],
   "source": [
    "learning_rate = CustomSchedule(d_model)\n",
    "\n",
    "optimizer = tf.keras.optimizers.Adam(learning_rate, beta_1=0.9, beta_2=0.98, \n",
    "                                     epsilon=1e-9)"
   ]
  },
  {
   "cell_type": "code",
   "execution_count": 49,
   "metadata": {
    "execution": {
     "iopub.execute_input": "2021-02-04T02:22:20.638792Z",
     "iopub.status.busy": "2021-02-04T02:22:20.638090Z",
     "iopub.status.idle": "2021-02-04T02:22:20.809074Z",
     "shell.execute_reply": "2021-02-04T02:22:20.808459Z"
    },
    "id": "f33ZCgvHpPdG"
   },
   "outputs": [
    {
     "data": {
      "text/plain": [
       "Text(0.5, 0, 'Train Step')"
      ]
     },
     "execution_count": 49,
     "metadata": {},
     "output_type": "execute_result"
    },
    {
     "data": {
      "image/png": "[encoded data removed]",
      "text/plain": [
       "<Figure size 432x288 with 1 Axes>"
      ]
     },
     "metadata": {
      "needs_background": "light"
     },
     "output_type": "display_data"
    }
   ],
   "source": [
    "temp_learning_rate_schedule = CustomSchedule(d_model)\n",
    "\n",
    "plt.plot(temp_learning_rate_schedule(tf.range(40000, dtype=tf.float32)))\n",
    "plt.ylabel(\"Learning Rate\")\n",
    "plt.xlabel(\"Train Step\")"
   ]
  },
  {
   "cell_type": "markdown",
   "metadata": {
    "id": "YgkDE7hzo8r5"
   },
   "source": [
    "## Loss and metrics"
   ]
  },
  {
   "cell_type": "markdown",
   "metadata": {
    "id": "oxGJtoDuYIHL"
   },
   "source": [
    "Since the target sequences are padded, it is important to apply a padding mask when calculating the loss."
   ]
  },
  {
   "cell_type": "code",
   "execution_count": 50,
   "metadata": {
    "execution": {
     "iopub.execute_input": "2021-02-04T02:22:20.814239Z",
     "iopub.status.busy": "2021-02-04T02:22:20.813568Z",
     "iopub.status.idle": "2021-02-04T02:22:20.815862Z",
     "shell.execute_reply": "2021-02-04T02:22:20.815258Z"
    },
    "id": "MlhsJMm0TW_B"
   },
   "outputs": [],
   "source": [
    "loss_object = tf.keras.losses.SparseCategoricalCrossentropy(\n",
    "    from_logits=True, reduction='none')"
   ]
  },
  {
   "cell_type": "code",
   "execution_count": 51,
   "metadata": {
    "execution": {
     "iopub.execute_input": "2021-02-04T02:22:20.822691Z",
     "iopub.status.busy": "2021-02-04T02:22:20.822040Z",
     "iopub.status.idle": "2021-02-04T02:22:20.823913Z",
     "shell.execute_reply": "2021-02-04T02:22:20.824316Z"
    },
    "id": "67oqVHiT0Eiu"
   },
   "outputs": [],
   "source": [
    "def loss_function(real, pred):\n",
    "    mask = tf.math.logical_not(tf.math.equal(real, 0))\n",
    "    loss_ = loss_object(real, pred)\n",
    "\n",
    "    mask = tf.cast(mask, dtype=loss_.dtype)\n",
    "    loss_ *= mask\n",
    "  \n",
    "    return tf.reduce_sum(loss_)/tf.reduce_sum(mask)\n",
    "\n",
    "\n",
    "def accuracy_function(real, pred):\n",
    "    accuracies = tf.equal(real, tf.argmax(pred, axis=2))\n",
    "  \n",
    "    mask = tf.math.logical_not(tf.math.equal(real, 0))\n",
    "    accuracies = tf.math.logical_and(mask, accuracies)\n",
    "\n",
    "    accuracies = tf.cast(accuracies, dtype=tf.float32)\n",
    "    mask = tf.cast(mask, dtype=tf.float32)\n",
    "    return tf.reduce_sum(accuracies)/tf.reduce_sum(mask)"
   ]
  },
  {
   "cell_type": "code",
   "execution_count": 52,
   "metadata": {
    "execution": {
     "iopub.execute_input": "2021-02-04T02:22:20.835541Z",
     "iopub.status.busy": "2021-02-04T02:22:20.834847Z",
     "iopub.status.idle": "2021-02-04T02:22:20.844012Z",
     "shell.execute_reply": "2021-02-04T02:22:20.843498Z"
    },
    "id": "phlyxMnm-Tpx"
   },
   "outputs": [],
   "source": [
    "train_loss = tf.keras.metrics.Mean(name='train_loss')\n",
    "train_accuracy = tf.keras.metrics.Mean(name='train_accuracy')"
   ]
  },
  {
   "cell_type": "markdown",
   "metadata": {
    "id": "aeHumfr7zmMa"
   },
   "source": [
    "## Training and checkpointing"
   ]
  },
  {
   "cell_type": "code",
   "execution_count": 53,
   "metadata": {
    "execution": {
     "iopub.execute_input": "2021-02-04T02:22:20.848653Z",
     "iopub.status.busy": "2021-02-04T02:22:20.848016Z",
     "iopub.status.idle": "2021-02-04T02:22:20.973356Z",
     "shell.execute_reply": "2021-02-04T02:22:20.973821Z"
    },
    "id": "UiysUa--4tOU"
   },
   "outputs": [],
   "source": [
    "transformer = Transformer(\n",
    "    num_layers=num_layers,\n",
    "    d_model=d_model,\n",
    "    num_heads=num_heads,\n",
    "    dff=dff,\n",
    "    input_vocab_size=tokenizers.pt.get_vocab_size(),\n",
    "    target_vocab_size=tokenizers.en.get_vocab_size(), \n",
    "    pe_input=1000, \n",
    "    pe_target=1000,\n",
    "    rate=dropout_rate)"
   ]
  },
  {
   "cell_type": "code",
   "execution_count": 54,
   "metadata": {
    "execution": {
     "iopub.execute_input": "2021-02-04T02:22:20.979269Z",
     "iopub.status.busy": "2021-02-04T02:22:20.978563Z",
     "iopub.status.idle": "2021-02-04T02:22:20.980510Z",
     "shell.execute_reply": "2021-02-04T02:22:20.980907Z"
    },
    "id": "ZOJUSB1T8GjM"
   },
   "outputs": [],
   "source": [
    "def create_masks(inp, tar):\n",
    "  # Encoder padding mask\n",
    "    enc_padding_mask = create_padding_mask(inp)\n",
    "  \n",
    "  # Used in the 2nd attention block in the decoder.\n",
    "  # This padding mask is used to mask the encoder outputs.\n",
    "    dec_padding_mask = create_padding_mask(inp)\n",
    "  \n",
    "  # Used in the 1st attention block in the decoder.\n",
    "  # It is used to pad and mask future tokens in the input received by \n",
    "  # the decoder.\n",
    "    look_ahead_mask = create_look_ahead_mask(tf.shape(tar)[1])\n",
    "    dec_target_padding_mask = create_padding_mask(tar)\n",
    "    combined_mask = tf.maximum(dec_target_padding_mask, look_ahead_mask)\n",
    "  \n",
    "    return enc_padding_mask, combined_mask, dec_padding_mask"
   ]
  },
  {
   "cell_type": "markdown",
   "metadata": {
    "id": "Fzuf06YZp66w"
   },
   "source": [
    "Create the checkpoint path and the checkpoint manager. This will be used to save checkpoints every `n` epochs."
   ]
  },
  {
   "cell_type": "code",
   "execution_count": 55,
   "metadata": {
    "execution": {
     "iopub.execute_input": "2021-02-04T02:22:20.986227Z",
     "iopub.status.busy": "2021-02-04T02:22:20.985579Z",
     "iopub.status.idle": "2021-02-04T02:22:20.987871Z",
     "shell.execute_reply": "2021-02-04T02:22:20.987371Z"
    },
    "id": "hNhuYfllndLZ"
   },
   "outputs": [],
   "source": [
    "checkpoint_path = \"./checkpoints/train\"\n",
    "\n",
    "ckpt = tf.train.Checkpoint(transformer=transformer,\n",
    "                           optimizer=optimizer)\n",
    "\n",
    "ckpt_manager = tf.train.CheckpointManager(ckpt, checkpoint_path, max_to_keep=5)\n",
    "\n",
    "# if a checkpoint exists, restore the latest checkpoint.\n",
    "if ckpt_manager.latest_checkpoint:\n",
    "    ckpt.restore(ckpt_manager.latest_checkpoint)\n",
    "    print ('Latest checkpoint restored!!')"
   ]
  },
  {
   "cell_type": "markdown",
   "metadata": {
    "id": "0Di_Yaa1gf9r"
   },
   "source": [
    "The target is divided into tar_inp and tar_real. tar_inp is passed as an input to the decoder. `tar_real` is that same input shifted by 1: At each location in `tar_input`, `tar_real` contains the  next token that should be predicted.\n",
    "\n",
    "For example, `sentence` = \"SOS A lion in the jungle is sleeping EOS\"\n",
    "\n",
    "`tar_inp` =  \"SOS A lion in the jungle is sleeping\"\n",
    "\n",
    "`tar_real` = \"A lion in the jungle is sleeping EOS\"\n",
    "\n",
    "The transformer is an auto-regressive model: it makes predictions one part at a time, and uses its output so far to decide what to do next. \n",
    "\n",
    "During training this example uses teacher-forcing (like in the [text generation tutorial](./text_generation.ipynb)). Teacher forcing is passing the true output to the next time step regardless of what the model predicts at the current time step.\n",
    "\n",
    "As the transformer predicts each word, *self-attention* allows it to look at the previous words in the input sequence to better predict the next word.\n",
    "\n",
    "To prevent the model from peeking at the expected output the model uses a look-ahead mask."
   ]
  },
  {
   "cell_type": "code",
   "execution_count": 56,
   "metadata": {
    "execution": {
     "iopub.execute_input": "2021-02-04T02:22:20.991763Z",
     "iopub.status.busy": "2021-02-04T02:22:20.991085Z",
     "iopub.status.idle": "2021-02-04T02:22:20.993341Z",
     "shell.execute_reply": "2021-02-04T02:22:20.992802Z"
    },
    "id": "LKpoA6q1sJFj"
   },
   "outputs": [],
   "source": [
    "EPOCHS = 2"
   ]
  },
  {
   "cell_type": "code",
   "execution_count": 57,
   "metadata": {
    "execution": {
     "iopub.execute_input": "2021-02-04T02:22:21.000627Z",
     "iopub.status.busy": "2021-02-04T02:22:20.999956Z",
     "iopub.status.idle": "2021-02-04T02:22:21.002295Z",
     "shell.execute_reply": "2021-02-04T02:22:21.001804Z"
    },
    "id": "iJwmp9OE29oj"
   },
   "outputs": [],
   "source": [
    "# The @tf.function trace-compiles train_step into a TF graph for faster\n",
    "# execution. The function specializes to the precise shape of the argument\n",
    "# tensors. To avoid re-tracing due to the variable sequence lengths or variable\n",
    "# batch sizes (the last batch is smaller), use input_signature to specify\n",
    "# more generic shapes.\n",
    "\n",
    "train_step_signature = [\n",
    "    tf.TensorSpec(shape=(None, None), dtype=tf.int64),\n",
    "    tf.TensorSpec(shape=(None, None), dtype=tf.int64),\n",
    "]\n",
    "\n",
    "@tf.function(input_signature=train_step_signature)\n",
    "def train_step(inp, tar):\n",
    "    tar_inp = tar[:, :-1]\n",
    "    tar_real = tar[:, 1:]\n",
    "  \n",
    "    enc_padding_mask, combined_mask, dec_padding_mask = create_masks(inp, tar_inp)\n",
    "  \n",
    "    with tf.GradientTape() as tape:\n",
    "        predictions, _ = transformer(inp, tar_inp, \n",
    "                                 True, \n",
    "                                 enc_padding_mask, \n",
    "                                 combined_mask, \n",
    "                                 dec_padding_mask)\n",
    "        loss = loss_function(tar_real, predictions)\n",
    "\n",
    "    gradients = tape.gradient(loss, transformer.trainable_variables)    \n",
    "    optimizer.apply_gradients(zip(gradients, transformer.trainable_variables))\n",
    "  \n",
    "    train_loss(loss)\n",
    "    train_accuracy(accuracy_function(tar_real, predictions))"
   ]
  },
  {
   "cell_type": "markdown",
   "metadata": {
    "id": "qM2PDWGDJ_8V"
   },
   "source": [
    "Portuguese is used as the input language and English is the target language."
   ]
  },
  {
   "cell_type": "code",
   "execution_count": 58,
   "metadata": {
    "execution": {
     "iopub.execute_input": "2021-02-04T02:22:21.008607Z",
     "iopub.status.busy": "2021-02-04T02:22:21.007905Z",
     "iopub.status.idle": "2021-02-04T02:39:34.296150Z",
     "shell.execute_reply": "2021-02-04T02:39:34.295520Z"
    },
    "id": "bbvmaKNiznHZ"
   },
   "outputs": [
    {
     "name": "stdout",
     "output_type": "stream",
     "text": [
      "Epoch 1 Batch 0 Loss 8.8650 Accuracy 0.0000\n",
      "Epoch 1 Batch 50 Loss 8.8056 Accuracy 0.0017\n",
      "Epoch 1 Batch 100 Loss 8.7026 Accuracy 0.0261\n",
      "Epoch 1 Batch 150 Loss 8.5898 Accuracy 0.0365\n",
      "Epoch 1 Batch 200 Loss 8.4479 Accuracy 0.0410\n",
      "Epoch 1 Batch 250 Loss 8.2772 Accuracy 0.0433\n",
      "Epoch 1 Batch 300 Loss 8.0850 Accuracy 0.0451\n",
      "Epoch 1 Batch 350 Loss 7.8861 Accuracy 0.0515\n",
      "Epoch 1 Batch 400 Loss 7.7007 Accuracy 0.0591\n",
      "Epoch 1 Batch 450 Loss 7.5336 Accuracy 0.0664\n",
      "Epoch 1 Batch 500 Loss 7.3855 Accuracy 0.0737\n",
      "Epoch 1 Batch 550 Loss 7.2512 Accuracy 0.0818\n",
      "Epoch 1 Batch 600 Loss 7.1263 Accuracy 0.0898\n",
      "Epoch 1 Batch 650 Loss 7.0093 Accuracy 0.0972\n",
      "Epoch 1 Batch 700 Loss 6.9001 Accuracy 0.1040\n",
      "Epoch 1 Batch 750 Loss 6.7982 Accuracy 0.1105\n",
      "Epoch 1 Batch 800 Loss 6.7020 Accuracy 0.1166\n",
      "Epoch 1 Loss 6.6857 Accuracy 0.1177\n",
      "Time taken for 1 epoch: 50.40 secs\n",
      "\n",
      "Epoch 2 Batch 0 Loss 5.1917 Accuracy 0.2053\n",
      "Epoch 2 Batch 50 Loss 5.2240 Accuracy 0.2119\n",
      "Epoch 2 Batch 100 Loss 5.1946 Accuracy 0.2169\n",
      "Epoch 2 Batch 150 Loss 5.1615 Accuracy 0.2200\n",
      "Epoch 2 Batch 200 Loss 5.1349 Accuracy 0.2223\n",
      "Epoch 2 Batch 250 Loss 5.1112 Accuracy 0.2245\n",
      "Epoch 2 Batch 300 Loss 5.0911 Accuracy 0.2268\n",
      "Epoch 2 Batch 350 Loss 5.0677 Accuracy 0.2290\n",
      "Epoch 2 Batch 400 Loss 5.0460 Accuracy 0.2310\n",
      "Epoch 2 Batch 450 Loss 5.0276 Accuracy 0.2328\n",
      "Epoch 2 Batch 500 Loss 5.0046 Accuracy 0.2350\n",
      "Epoch 2 Batch 550 Loss 4.9826 Accuracy 0.2373\n",
      "Epoch 2 Batch 600 Loss 4.9650 Accuracy 0.2390\n",
      "Epoch 2 Batch 650 Loss 4.9467 Accuracy 0.2404\n",
      "Epoch 2 Batch 700 Loss 4.9285 Accuracy 0.2422\n",
      "Epoch 2 Batch 750 Loss 4.9126 Accuracy 0.2434\n",
      "Epoch 2 Batch 800 Loss 4.8957 Accuracy 0.2449\n",
      "Epoch 2 Loss 4.8927 Accuracy 0.2452\n",
      "Time taken for 1 epoch: 41.25 secs\n",
      "\n"
     ]
    }
   ],
   "source": [
    "for epoch in range(EPOCHS):\n",
    "    start = time.time()\n",
    "  \n",
    "    train_loss.reset_states()\n",
    "    train_accuracy.reset_states()\n",
    "  \n",
    "    # inp -> portuguese, tar -> english\n",
    "    for (batch, (inp, tar)) in enumerate(train_batches):\n",
    "        train_step(inp, tar)\n",
    "    \n",
    "        if batch % 50 == 0:\n",
    "            print(f'Epoch {epoch + 1} Batch {batch} Loss {train_loss.result():.4f} Accuracy {train_accuracy.result():.4f}')\n",
    "      \n",
    "    if (epoch + 1) % 5 == 0:\n",
    "        ckpt_save_path = ckpt_manager.save()\n",
    "        print (f'Saving checkpoint for epoch {epoch+1} at {ckpt_save_path}')\n",
    "    \n",
    "    print(f'Epoch {epoch + 1} Loss {train_loss.result():.4f} Accuracy {train_accuracy.result():.4f}')\n",
    "\n",
    "    print(f'Time taken for 1 epoch: {time.time() - start:.2f} secs\\n')"
   ]
  },
  {
   "cell_type": "markdown",
   "metadata": {
    "id": "QfcsSWswSdGV"
   },
   "source": [
    "## Evaluate"
   ]
  },
  {
   "cell_type": "markdown",
   "metadata": {
    "id": "y6APsFrgImLW"
   },
   "source": [
    "The following steps are used for evaluation:\n",
    "\n",
    "* Encode the input sentence using the Portuguese tokenizer (`tokenizers.pt`). This is the encoder input.\n",
    "* The decoder input is initialized to the `[START]` token.\n",
    "* Calculate the padding masks and the look ahead masks.\n",
    "* The `decoder` then outputs the predictions by looking at the `encoder output` and its own output (self-attention).\n",
    "* The model makes predictions of the next word for each word in the output. Most of these are redundant. Use the predictrions from the last word.\n",
    "* Concatentate the predicted word to the decoder input and pass it to the decoder.\n",
    "* In this approach, the decoder predicts the next word based on the previous words it predicted.\n",
    "\n",
    "Note: The model used here has less capacity to keep the example relatively faster so the predictions maybe less right. To reproduce the results in the paper, use the entire dataset and base transformer model or transformer XL, by changing the hyperparameters above."
   ]
  },
  {
   "cell_type": "code",
   "execution_count": null,
   "metadata": {},
   "outputs": [],
   "source": []
  },
  {
   "cell_type": "code",
   "execution_count": null,
   "metadata": {},
   "outputs": [],
   "source": []
  },
  {
   "cell_type": "code",
   "execution_count": null,
   "metadata": {},
   "outputs": [],
   "source": []
  },
  {
   "cell_type": "code",
   "execution_count": null,
   "metadata": {},
   "outputs": [],
   "source": []
  },
  {
   "cell_type": "code",
   "execution_count": null,
   "metadata": {},
   "outputs": [],
   "source": []
  },
  {
   "cell_type": "code",
   "execution_count": 73,
   "metadata": {},
   "outputs": [],
   "source": [
    "def test_evaluate(sentence, max_length=400):\n",
    "    sentence = tf.convert_to_tensor([sentence])\n",
    "    sentence = tokenizers.pt.tokenize(sentence).to_tensor()\n",
    "\n",
    "    encoder_input = sentence\n",
    "    \n",
    "    return encoder_input"
   ]
  },
  {
   "cell_type": "code",
   "execution_count": 77,
   "metadata": {},
   "outputs": [
    {
     "name": "stdout",
     "output_type": "stream",
     "text": [
      "tf.Tensor([[   2   43 4791  124  446  124  446  496   92  496    3]], shape=(1, 11), dtype=int64)\n"
     ]
    }
   ],
   "source": [
    "sentence = \"este é um problema que temos que resolver.\"\n",
    "\n",
    "score = test_evaluate(sentence)\n",
    "print(score)\n",
    "#zwraca na poczatku 2 i 3 na koncu co swiadczy prawdopodbnie o tokenach <START> i <END>"
   ]
  },
  {
   "cell_type": "code",
   "execution_count": 88,
   "metadata": {},
   "outputs": [],
   "source": [
    "def test_evaluate(sentence, max_length=400):\n",
    "    sentence = tf.convert_to_tensor([sentence])\n",
    "    sentence = tokenizers.pt.tokenize(sentence).to_tensor()\n",
    "\n",
    "    encoder_input = sentence\n",
    "    \n",
    "    #co dokladnie robi tokenizers.en.tokenize?\n",
    "    start, end = tokenizers.en.tokenize([''])[0]\n",
    "    output = tf.convert_to_tensor([start])\n",
    "    output = tf.expand_dims(output, 0)\n",
    "    \n",
    "    return start"
   ]
  },
  {
   "cell_type": "code",
   "execution_count": 89,
   "metadata": {},
   "outputs": [
    {
     "name": "stdout",
     "output_type": "stream",
     "text": [
      "tf.Tensor(2, shape=(), dtype=int64)\n"
     ]
    }
   ],
   "source": [
    "sentence = \"este é um problema que temos que resolver.\"\n",
    "\n",
    "score = test_evaluate(sentence)\n",
    "print(score)"
   ]
  },
  {
   "cell_type": "code",
   "execution_count": 90,
   "metadata": {},
   "outputs": [],
   "source": [
    "def test_evaluate(sentence, max_length=400):\n",
    "    sentence = tf.convert_to_tensor([sentence])\n",
    "    sentence = tokenizers.pt.tokenize(sentence).to_tensor()\n",
    "\n",
    "    encoder_input = sentence\n",
    "    \n",
    "    start, end = tokenizers.en.tokenize([''])[0]\n",
    "    output = tf.convert_to_tensor([start])\n",
    "    #this line below just reshape tensor from (1,) => (1,1)\n",
    "    output = tf.expand_dims(output, 0)\n",
    "    \n",
    "    return output"
   ]
  },
  {
   "cell_type": "code",
   "execution_count": 91,
   "metadata": {},
   "outputs": [
    {
     "name": "stdout",
     "output_type": "stream",
     "text": [
      "tf.Tensor([[2]], shape=(1, 1), dtype=int64)\n"
     ]
    }
   ],
   "source": [
    "sentence = \"este é um problema que temos que resolver.\"\n",
    "\n",
    "score = test_evaluate(sentence)\n",
    "print(score)"
   ]
  },
  {
   "cell_type": "code",
   "execution_count": 94,
   "metadata": {},
   "outputs": [],
   "source": [
    "def test_evaluate(sentence, max_length=400):\n",
    "    sentence = tf.convert_to_tensor([sentence])\n",
    "    sentence = tokenizers.pt.tokenize(sentence).to_tensor()\n",
    "\n",
    "    encoder_input = sentence\n",
    "    \n",
    "    start, end = tokenizers.en.tokenize([''])[0]\n",
    "    output = tf.convert_to_tensor([start])\n",
    "    #this line below just reshape tensor from (1,) => (1,1)\n",
    "    output = tf.expand_dims(output, 0)\n",
    "    \n",
    "    for i in range(max_length):\n",
    "        enc_padding_mask, combined_mask, dec_padding_mask = create_masks(\n",
    "        encoder_input, output)\n",
    "    \n",
    "    return enc_padding_mask, combined_mask, dec_padding_mask, enc_padding_mask.shape, combined_mask.shape, dec_padding_mask.shape"
   ]
  },
  {
   "cell_type": "code",
   "execution_count": 95,
   "metadata": {
    "scrolled": true
   },
   "outputs": [
    {
     "name": "stdout",
     "output_type": "stream",
     "text": [
      "(<tf.Tensor: shape=(1, 1, 1, 11), dtype=float32, numpy=array([[[[0., 0., 0., 0., 0., 0., 0., 0., 0., 0., 0.]]]], dtype=float32)>, <tf.Tensor: shape=(1, 1, 1, 1), dtype=float32, numpy=array([[[[0.]]]], dtype=float32)>, <tf.Tensor: shape=(1, 1, 1, 11), dtype=float32, numpy=array([[[[0., 0., 0., 0., 0., 0., 0., 0., 0., 0., 0.]]]], dtype=float32)>, TensorShape([1, 1, 1, 11]), TensorShape([1, 1, 1, 1]), TensorShape([1, 1, 1, 11]))\n"
     ]
    }
   ],
   "source": [
    "sentence = \"este é um problema que temos que resolver.\"\n",
    "\n",
    "score = test_evaluate(sentence)\n",
    "print(score)"
   ]
  },
  {
   "cell_type": "code",
   "execution_count": 96,
   "metadata": {},
   "outputs": [],
   "source": [
    "def test_evaluate(sentence, max_length=400):\n",
    "    sentence = tf.convert_to_tensor([sentence])\n",
    "    sentence = tokenizers.pt.tokenize(sentence).to_tensor()\n",
    "\n",
    "    encoder_input = sentence\n",
    "    \n",
    "    start, end = tokenizers.en.tokenize([''])[0]\n",
    "    output = tf.convert_to_tensor([start])\n",
    "    #this line below just reshape tensor from (1,) => (1,1)\n",
    "    output = tf.expand_dims(output, 0)\n",
    "    \n",
    "    for i in range(max_length):\n",
    "        enc_padding_mask, combined_mask, dec_padding_mask = create_masks(\n",
    "        encoder_input, output)\n",
    "        \n",
    "        #predictions.shape == (batch_size, seq_len, vocab_size)\n",
    "        predictions, attention_weights = transformer(encoder_input, \n",
    "                                                     output,\n",
    "                                                     False,\n",
    "                                                     enc_padding_mask,\n",
    "                                                     combined_mask,\n",
    "                                                     dec_padding_mask)\n",
    "\n",
    "    \n",
    "    return predictions, attention_weights"
   ]
  },
  {
   "cell_type": "code",
   "execution_count": 97,
   "metadata": {},
   "outputs": [
    {
     "name": "stdout",
     "output_type": "stream",
     "text": [
      "(<tf.Tensor: shape=(1, 1, 7010), dtype=float32, numpy=\n",
      "array([[[-14.248196, -14.246702, -14.417333, ..., -14.38656 ,\n",
      "         -14.135096,  -8.067607]]], dtype=float32)>, {'decoder_layer1_block1': <tf.Tensor: shape=(1, 8, 1, 1), dtype=float32, numpy=\n",
      "array([[[[1.]],\n",
      "\n",
      "        [[1.]],\n",
      "\n",
      "        [[1.]],\n",
      "\n",
      "        [[1.]],\n",
      "\n",
      "        [[1.]],\n",
      "\n",
      "        [[1.]],\n",
      "\n",
      "        [[1.]],\n",
      "\n",
      "        [[1.]]]], dtype=float32)>, 'decoder_layer1_block2': <tf.Tensor: shape=(1, 8, 1, 11), dtype=float32, numpy=\n",
      "array([[[[0.10214913, 0.10229923, 0.09218127, 0.09606224, 0.09276238,\n",
      "          0.08291436, 0.08105064, 0.08160438, 0.08053923, 0.10004929,\n",
      "          0.08838785]],\n",
      "\n",
      "        [[0.09051405, 0.09223814, 0.1016672 , 0.09428681, 0.09804828,\n",
      "          0.09682035, 0.09673624, 0.08945118, 0.07733824, 0.07801909,\n",
      "          0.08488045]],\n",
      "\n",
      "        [[0.09360429, 0.09259304, 0.0944142 , 0.09329167, 0.09006203,\n",
      "          0.09072601, 0.09669912, 0.08881158, 0.09032295, 0.08402248,\n",
      "          0.08545263]],\n",
      "\n",
      "        [[0.0920092 , 0.09005215, 0.08763811, 0.0827639 , 0.08432869,\n",
      "          0.08954944, 0.08858919, 0.09400351, 0.09923974, 0.09266741,\n",
      "          0.09915867]],\n",
      "\n",
      "        [[0.08308632, 0.0908584 , 0.09440863, 0.08659648, 0.08832234,\n",
      "          0.0932515 , 0.09913077, 0.09589344, 0.09266676, 0.08358266,\n",
      "          0.09220273]],\n",
      "\n",
      "        [[0.08761867, 0.08856416, 0.08464064, 0.09464906, 0.09009538,\n",
      "          0.08625311, 0.08866905, 0.08731594, 0.09460218, 0.10246181,\n",
      "          0.09513004]],\n",
      "\n",
      "        [[0.08840601, 0.09024963, 0.09950864, 0.08674192, 0.08621123,\n",
      "          0.09066631, 0.09688076, 0.09163416, 0.09495014, 0.08271114,\n",
      "          0.09204   ]],\n",
      "\n",
      "        [[0.09042404, 0.08270139, 0.08674146, 0.0877173 , 0.08974118,\n",
      "          0.09671327, 0.10210881, 0.09401787, 0.09822109, 0.08559261,\n",
      "          0.08602094]]]], dtype=float32)>, 'decoder_layer2_block1': <tf.Tensor: shape=(1, 8, 1, 1), dtype=float32, numpy=\n",
      "array([[[[1.]],\n",
      "\n",
      "        [[1.]],\n",
      "\n",
      "        [[1.]],\n",
      "\n",
      "        [[1.]],\n",
      "\n",
      "        [[1.]],\n",
      "\n",
      "        [[1.]],\n",
      "\n",
      "        [[1.]],\n",
      "\n",
      "        [[1.]]]], dtype=float32)>, 'decoder_layer2_block2': <tf.Tensor: shape=(1, 8, 1, 11), dtype=float32, numpy=\n",
      "array([[[[0.09302773, 0.09380538, 0.08982594, 0.0917677 , 0.09118691,\n",
      "          0.09073587, 0.08746957, 0.08839092, 0.08608685, 0.09513775,\n",
      "          0.09256537]],\n",
      "\n",
      "        [[0.09025736, 0.09240787, 0.0915878 , 0.0934191 , 0.09026132,\n",
      "          0.09075785, 0.09110865, 0.09155337, 0.09367131, 0.08815179,\n",
      "          0.08682363]],\n",
      "\n",
      "        [[0.09849665, 0.08937919, 0.09062774, 0.09213945, 0.08810564,\n",
      "          0.08909705, 0.08801392, 0.0887189 , 0.08878989, 0.09304333,\n",
      "          0.09358829]],\n",
      "\n",
      "        [[0.09493531, 0.08718307, 0.08670013, 0.08782246, 0.09400772,\n",
      "          0.09144208, 0.09238562, 0.090831  , 0.09407339, 0.08802601,\n",
      "          0.09259319]],\n",
      "\n",
      "        [[0.09017652, 0.08858094, 0.08497908, 0.08887803, 0.09044705,\n",
      "          0.09480923, 0.08995887, 0.09482887, 0.09527311, 0.09302703,\n",
      "          0.08904129]],\n",
      "\n",
      "        [[0.09547351, 0.09719987, 0.10159763, 0.08537722, 0.09555766,\n",
      "          0.09244065, 0.10247526, 0.08770417, 0.08011468, 0.07916084,\n",
      "          0.08289849]],\n",
      "\n",
      "        [[0.08925514, 0.08808731, 0.0908873 , 0.0846424 , 0.08470447,\n",
      "          0.09005852, 0.09422366, 0.09534778, 0.09434043, 0.09033798,\n",
      "          0.09811502]],\n",
      "\n",
      "        [[0.09434125, 0.08990908, 0.08781714, 0.08679655, 0.0858041 ,\n",
      "          0.09356073, 0.08826774, 0.09513353, 0.08802477, 0.09590486,\n",
      "          0.09444027]]]], dtype=float32)>, 'decoder_layer3_block1': <tf.Tensor: shape=(1, 8, 1, 1), dtype=float32, numpy=\n",
      "array([[[[1.]],\n",
      "\n",
      "        [[1.]],\n",
      "\n",
      "        [[1.]],\n",
      "\n",
      "        [[1.]],\n",
      "\n",
      "        [[1.]],\n",
      "\n",
      "        [[1.]],\n",
      "\n",
      "        [[1.]],\n",
      "\n",
      "        [[1.]]]], dtype=float32)>, 'decoder_layer3_block2': <tf.Tensor: shape=(1, 8, 1, 11), dtype=float32, numpy=\n",
      "array([[[[0.09410868, 0.09697024, 0.09727091, 0.09172335, 0.09271345,\n",
      "          0.09110874, 0.08425696, 0.08968499, 0.08563065, 0.08857253,\n",
      "          0.08795944]],\n",
      "\n",
      "        [[0.08834735, 0.09357008, 0.09412181, 0.08895668, 0.09240475,\n",
      "          0.09354236, 0.08993848, 0.09517437, 0.0898778 , 0.08549998,\n",
      "          0.08856636]],\n",
      "\n",
      "        [[0.09218121, 0.09131915, 0.09672111, 0.08968565, 0.08729115,\n",
      "          0.09054454, 0.08909707, 0.09090437, 0.09285478, 0.08932877,\n",
      "          0.0900722 ]],\n",
      "\n",
      "        [[0.09185348, 0.09238198, 0.09799238, 0.09283566, 0.09705626,\n",
      "          0.09091835, 0.09679246, 0.0943346 , 0.09057769, 0.07221092,\n",
      "          0.0830462 ]],\n",
      "\n",
      "        [[0.0842154 , 0.10304392, 0.10254364, 0.09562777, 0.09439864,\n",
      "          0.08609095, 0.0833948 , 0.08379097, 0.08062735, 0.09710043,\n",
      "          0.08916607]],\n",
      "\n",
      "        [[0.09263176, 0.09149954, 0.09876681, 0.09767932, 0.09823439,\n",
      "          0.09425301, 0.09098204, 0.087258  , 0.08015073, 0.08604037,\n",
      "          0.08250403]],\n",
      "\n",
      "        [[0.09846959, 0.09769528, 0.10865871, 0.09288487, 0.09666685,\n",
      "          0.09337189, 0.09441567, 0.08919968, 0.08541084, 0.06625264,\n",
      "          0.07697399]],\n",
      "\n",
      "        [[0.0991118 , 0.09169505, 0.09692333, 0.08951503, 0.0921604 ,\n",
      "          0.09449234, 0.09406988, 0.09424026, 0.08615591, 0.07909988,\n",
      "          0.08253609]]]], dtype=float32)>, 'decoder_layer4_block1': <tf.Tensor: shape=(1, 8, 1, 1), dtype=float32, numpy=\n",
      "array([[[[1.]],\n",
      "\n",
      "        [[1.]],\n",
      "\n",
      "        [[1.]],\n",
      "\n",
      "        [[1.]],\n",
      "\n",
      "        [[1.]],\n",
      "\n",
      "        [[1.]],\n",
      "\n",
      "        [[1.]],\n",
      "\n",
      "        [[1.]]]], dtype=float32)>, 'decoder_layer4_block2': <tf.Tensor: shape=(1, 8, 1, 11), dtype=float32, numpy=\n",
      "array([[[[0.09073635, 0.08645461, 0.09628863, 0.09503376, 0.09656114,\n",
      "          0.09184371, 0.09273917, 0.08647638, 0.08721504, 0.09421273,\n",
      "          0.08243839]],\n",
      "\n",
      "        [[0.09441707, 0.09155129, 0.09423126, 0.08995028, 0.09585679,\n",
      "          0.09668356, 0.09033861, 0.09223799, 0.08404574, 0.08647897,\n",
      "          0.08420844]],\n",
      "\n",
      "        [[0.0905821 , 0.09017813, 0.08997235, 0.09870237, 0.09177803,\n",
      "          0.0949196 , 0.09697135, 0.09112946, 0.08285774, 0.08522273,\n",
      "          0.08768611]],\n",
      "\n",
      "        [[0.0881509 , 0.09033627, 0.09858899, 0.08708026, 0.0939431 ,\n",
      "          0.0962841 , 0.09491584, 0.09381193, 0.09205212, 0.08181656,\n",
      "          0.0830199 ]],\n",
      "\n",
      "        [[0.1066765 , 0.08853366, 0.09930062, 0.0913996 , 0.08980431,\n",
      "          0.09850523, 0.09014589, 0.0920762 , 0.0802057 , 0.08432782,\n",
      "          0.07902443]],\n",
      "\n",
      "        [[0.09614144, 0.09238938, 0.09256979, 0.0891675 , 0.09570666,\n",
      "          0.09789198, 0.09391446, 0.09436956, 0.0839635 , 0.08074484,\n",
      "          0.08314092]],\n",
      "\n",
      "        [[0.09758093, 0.09168253, 0.09877601, 0.08686236, 0.0890008 ,\n",
      "          0.09162003, 0.09316333, 0.09195317, 0.08898211, 0.08349258,\n",
      "          0.08688621]],\n",
      "\n",
      "        [[0.09261788, 0.08825795, 0.10247153, 0.09529936, 0.09550305,\n",
      "          0.09693139, 0.0933113 , 0.09166922, 0.08768196, 0.0760487 ,\n",
      "          0.08020769]]]], dtype=float32)>})\n"
     ]
    }
   ],
   "source": [
    "sentence = \"este é um problema que temos que resolver.\"\n",
    "\n",
    "score = test_evaluate(sentence)\n",
    "print(score)"
   ]
  },
  {
   "cell_type": "code",
   "execution_count": 98,
   "metadata": {},
   "outputs": [],
   "source": [
    "def test_evaluate(sentence, max_length=400):\n",
    "    sentence = tf.convert_to_tensor([sentence])\n",
    "    sentence = tokenizers.pt.tokenize(sentence).to_tensor()\n",
    "\n",
    "    encoder_input = sentence\n",
    "    \n",
    "    start, end = tokenizers.en.tokenize([''])[0]\n",
    "    output = tf.convert_to_tensor([start])\n",
    "    #this line below just reshape tensor from (1,) => (1,1)\n",
    "    output = tf.expand_dims(output, 0)\n",
    "    \n",
    "    for i in range(max_length):\n",
    "        enc_padding_mask, combined_mask, dec_padding_mask = create_masks(\n",
    "        encoder_input, output)\n",
    "        \n",
    "        #predictions.shape == (batch_size, seq_len, vocab_size)\n",
    "        predictions, attention_weights = transformer(encoder_input, \n",
    "                                                     output,\n",
    "                                                     False,\n",
    "                                                     enc_padding_mask,\n",
    "                                                     combined_mask,\n",
    "                                                     dec_padding_mask)\n",
    "         # select the last word from the seq_len dimension\n",
    "        predictions = predictions[: ,-1:, :]  # (batch_size, 1, vocab_size)\n",
    "\n",
    "        predicted_id = tf.argmax(predictions, axis=-1)\n",
    "\n",
    "\n",
    "    \n",
    "    return predictions, predicted_id"
   ]
  },
  {
   "cell_type": "code",
   "execution_count": 99,
   "metadata": {},
   "outputs": [
    {
     "name": "stdout",
     "output_type": "stream",
     "text": [
      "(<tf.Tensor: shape=(1, 1, 7010), dtype=float32, numpy=\n",
      "array([[[-14.248196, -14.246702, -14.417333, ..., -14.38656 ,\n",
      "         -14.135096,  -8.067607]]], dtype=float32)>, <tf.Tensor: shape=(1, 1), dtype=int64, numpy=array([[76]])>)\n"
     ]
    }
   ],
   "source": [
    "sentence = \"este é um problema que temos que resolver.\"\n",
    "\n",
    "score = test_evaluate(sentence)\n",
    "print(score)"
   ]
  },
  {
   "cell_type": "code",
   "execution_count": 101,
   "metadata": {},
   "outputs": [],
   "source": [
    "def test_evaluate(sentence, max_length=400):\n",
    "    sentence = tf.convert_to_tensor([sentence])\n",
    "    sentence = tokenizers.pt.tokenize(sentence).to_tensor()\n",
    "\n",
    "    encoder_input = sentence\n",
    "    \n",
    "    start, end = tokenizers.en.tokenize([''])[0]\n",
    "    output = tf.convert_to_tensor([start])\n",
    "    #this line below just reshape tensor from (1,) => (1,1)\n",
    "    output = tf.expand_dims(output, 0)\n",
    "    \n",
    "    for i in range(max_length):\n",
    "        enc_padding_mask, combined_mask, dec_padding_mask = create_masks(\n",
    "        encoder_input, output)\n",
    "        \n",
    "        #predictions.shape == (batch_size, seq_len, vocab_size)\n",
    "        predictions, attention_weights = transformer(encoder_input, \n",
    "                                                     output,\n",
    "                                                     False,\n",
    "                                                     enc_padding_mask,\n",
    "                                                     combined_mask,\n",
    "                                                     dec_padding_mask)\n",
    "         # select the last word from the seq_len dimension\n",
    "        predictions = predictions[: ,-1:, :]  # (batch_size, 1, vocab_size)\n",
    "\n",
    "        predicted_id = tf.argmax(predictions, axis=-1)\n",
    "        \n",
    "        # concatentate the predicted_id to the output which is given to the decoder\n",
    "        # as its input.\n",
    "        output = tf.concat([output, predicted_id], axis=-1)\n",
    "\n",
    "        # return the result if the predicted_id is equal to the end token\n",
    "        if predicted_id == end:\n",
    "            break\n",
    "\n",
    "\n",
    "    \n",
    "    return output"
   ]
  },
  {
   "cell_type": "code",
   "execution_count": 102,
   "metadata": {},
   "outputs": [
    {
     "name": "stdout",
     "output_type": "stream",
     "text": [
      "tf.Tensor([[  2  76   9  55  37 199  74  37 199  74  71 143  15   3]], shape=(1, 14), dtype=int64)\n"
     ]
    }
   ],
   "source": [
    "sentence = \"este é um problema que temos que resolver.\"\n",
    "\n",
    "score = test_evaluate(sentence)\n",
    "print(score)"
   ]
  },
  {
   "cell_type": "code",
   "execution_count": 103,
   "metadata": {},
   "outputs": [],
   "source": [
    "def test_evaluate(sentence, max_length=400):\n",
    "    sentence = tf.convert_to_tensor([sentence])\n",
    "    sentence = tokenizers.pt.tokenize(sentence).to_tensor()\n",
    "\n",
    "    encoder_input = sentence\n",
    "    \n",
    "    start, end = tokenizers.en.tokenize([''])[0]\n",
    "    output = tf.convert_to_tensor([start])\n",
    "    #this line below just reshape tensor from (1,) => (1,1)\n",
    "    output = tf.expand_dims(output, 0)\n",
    "    \n",
    "    for i in range(max_length):\n",
    "        enc_padding_mask, combined_mask, dec_padding_mask = create_masks(\n",
    "        encoder_input, output)\n",
    "        \n",
    "        #predictions.shape == (batch_size, seq_len, vocab_size)\n",
    "        predictions, attention_weights = transformer(encoder_input, \n",
    "                                                     output,\n",
    "                                                     False,\n",
    "                                                     enc_padding_mask,\n",
    "                                                     combined_mask,\n",
    "                                                     dec_padding_mask)\n",
    "         # select the last word from the seq_len dimension\n",
    "        predictions = predictions[: ,-1:, :]  # (batch_size, 1, vocab_size)\n",
    "\n",
    "        predicted_id = tf.argmax(predictions, axis=-1)\n",
    "        \n",
    "        # concatentate the predicted_id to the output which is given to the decoder\n",
    "        # as its input.\n",
    "        output = tf.concat([output, predicted_id], axis=-1)\n",
    "\n",
    "        # return the result if the predicted_id is equal to the end token\n",
    "        if predicted_id == end:\n",
    "            break\n",
    "            \n",
    "    text = tokenizers.en.detokenize(output)[0] # shape: ()\n",
    "  \n",
    "    tokens = tokenizers.en.lookup(output)[0]\n",
    "  \n",
    "    return text, tokens, attention_weights\n",
    "\n",
    "\n",
    "    "
   ]
  },
  {
   "cell_type": "code",
   "execution_count": 104,
   "metadata": {},
   "outputs": [
    {
     "name": "stdout",
     "output_type": "stream",
     "text": [
      "(<tf.Tensor: shape=(), dtype=string, numpy=b\"it ' s a lot of a lot of the world .\">, <tf.Tensor: shape=(14,), dtype=string, numpy=\n",
      "array([b'[START]', b'it', b\"'\", b's', b'a', b'lot', b'of', b'a', b'lot',\n",
      "       b'of', b'the', b'world', b'.', b'[END]'], dtype=object)>, {'decoder_layer1_block1': <tf.Tensor: shape=(1, 8, 13, 13), dtype=float32, numpy=\n",
      "array([[[[1.        , 0.        , 0.        , ..., 0.        ,\n",
      "          0.        , 0.        ],\n",
      "         [0.2243137 , 0.77568626, 0.        , ..., 0.        ,\n",
      "          0.        , 0.        ],\n",
      "         [0.0731406 , 0.418002  , 0.5088574 , ..., 0.        ,\n",
      "          0.        , 0.        ],\n",
      "         ...,\n",
      "         [0.04863408, 0.04444667, 0.05559582, ..., 0.37201038,\n",
      "          0.        , 0.        ],\n",
      "         [0.01514036, 0.00557462, 0.00255277, ..., 0.3013325 ,\n",
      "          0.3489332 , 0.        ],\n",
      "         [0.06478968, 0.02279412, 0.00834258, ..., 0.15364769,\n",
      "          0.08758657, 0.45933867]],\n",
      "\n",
      "        [[1.        , 0.        , 0.        , ..., 0.        ,\n",
      "          0.        , 0.        ],\n",
      "         [0.6329487 , 0.36705136, 0.        , ..., 0.        ,\n",
      "          0.        , 0.        ],\n",
      "         [0.19565482, 0.2839128 , 0.52043235, ..., 0.        ,\n",
      "          0.        , 0.        ],\n",
      "         ...,\n",
      "         [0.0175293 , 0.05906056, 0.01952846, ..., 0.23134406,\n",
      "          0.        , 0.        ],\n",
      "         [0.23145697, 0.15109418, 0.08163811, ..., 0.08179417,\n",
      "          0.12141968, 0.        ],\n",
      "         [0.41831326, 0.15241274, 0.07797495, ..., 0.08018619,\n",
      "          0.03182148, 0.06455479]],\n",
      "\n",
      "        [[1.        , 0.        , 0.        , ..., 0.        ,\n",
      "          0.        , 0.        ],\n",
      "         [0.2976682 , 0.70233184, 0.        , ..., 0.        ,\n",
      "          0.        , 0.        ],\n",
      "         [0.21636793, 0.33333102, 0.45030105, ..., 0.        ,\n",
      "          0.        , 0.        ],\n",
      "         ...,\n",
      "         [0.09321143, 0.07479679, 0.0804316 , ..., 0.07755481,\n",
      "          0.        , 0.        ],\n",
      "         [0.0999983 , 0.07041916, 0.14680557, ..., 0.07234878,\n",
      "          0.05618522, 0.        ],\n",
      "         [0.11422948, 0.03693425, 0.1825469 , ..., 0.04552737,\n",
      "          0.03001321, 0.04748959]],\n",
      "\n",
      "        ...,\n",
      "\n",
      "        [[1.        , 0.        , 0.        , ..., 0.        ,\n",
      "          0.        , 0.        ],\n",
      "         [0.40247148, 0.5975285 , 0.        , ..., 0.        ,\n",
      "          0.        , 0.        ],\n",
      "         [0.08747935, 0.3744827 , 0.53803796, ..., 0.        ,\n",
      "          0.        , 0.        ],\n",
      "         ...,\n",
      "         [0.01669887, 0.02589747, 0.02744461, ..., 0.32620332,\n",
      "          0.        , 0.        ],\n",
      "         [0.00588979, 0.01156665, 0.01178642, ..., 0.24310605,\n",
      "          0.5003972 , 0.        ],\n",
      "         [0.04069627, 0.18831089, 0.3259869 , ..., 0.06713093,\n",
      "          0.07597312, 0.05615579]],\n",
      "\n",
      "        [[1.        , 0.        , 0.        , ..., 0.        ,\n",
      "          0.        , 0.        ],\n",
      "         [0.25623912, 0.7437609 , 0.        , ..., 0.        ,\n",
      "          0.        , 0.        ],\n",
      "         [0.13524604, 0.22562392, 0.63913006, ..., 0.        ,\n",
      "          0.        , 0.        ],\n",
      "         ...,\n",
      "         [0.06539714, 0.03320931, 0.06122454, ..., 0.15226498,\n",
      "          0.        , 0.        ],\n",
      "         [0.04920447, 0.01990047, 0.00704783, ..., 0.23784427,\n",
      "          0.30504364, 0.        ],\n",
      "         [0.0021901 , 0.00081053, 0.00084169, ..., 0.19150855,\n",
      "          0.08681409, 0.63437694]],\n",
      "\n",
      "        [[1.        , 0.        , 0.        , ..., 0.        ,\n",
      "          0.        , 0.        ],\n",
      "         [0.5280428 , 0.47195718, 0.        , ..., 0.        ,\n",
      "          0.        , 0.        ],\n",
      "         [0.21036372, 0.11549391, 0.6741424 , ..., 0.        ,\n",
      "          0.        , 0.        ],\n",
      "         ...,\n",
      "         [0.3852214 , 0.10966568, 0.18108778, ..., 0.05808583,\n",
      "          0.        , 0.        ],\n",
      "         [0.0994841 , 0.07371482, 0.04427101, ..., 0.10075229,\n",
      "          0.11539757, 0.        ],\n",
      "         [0.142129  , 0.09945178, 0.18668087, ..., 0.09742886,\n",
      "          0.10667387, 0.12603964]]]], dtype=float32)>, 'decoder_layer1_block2': <tf.Tensor: shape=(1, 8, 13, 11), dtype=float32, numpy=\n",
      "array([[[[0.10214913, 0.10229923, 0.09218127, ..., 0.08053923,\n",
      "          0.10004929, 0.08838785],\n",
      "         [0.08116028, 0.09330263, 0.08947723, ..., 0.09282286,\n",
      "          0.10353484, 0.09044474],\n",
      "         [0.09404822, 0.09311907, 0.09367077, ..., 0.08533371,\n",
      "          0.10696106, 0.09212968],\n",
      "         ...,\n",
      "         [0.08860627, 0.09377558, 0.08720013, ..., 0.09226774,\n",
      "          0.09047802, 0.0960117 ],\n",
      "         [0.08676031, 0.09564491, 0.09384458, ..., 0.08864959,\n",
      "          0.089093  , 0.08751946],\n",
      "         [0.09603027, 0.08904315, 0.0917426 , ..., 0.08950784,\n",
      "          0.08434922, 0.08779308]],\n",
      "\n",
      "        [[0.09051405, 0.09223814, 0.1016672 , ..., 0.07733824,\n",
      "          0.07801909, 0.08488045],\n",
      "         [0.08305845, 0.09235536, 0.0989306 , ..., 0.07630726,\n",
      "          0.07671784, 0.07937083],\n",
      "         [0.08675569, 0.09404211, 0.09824292, ..., 0.08573765,\n",
      "          0.07739004, 0.09136342],\n",
      "         ...,\n",
      "         [0.0927758 , 0.08433926, 0.08128171, ..., 0.10228743,\n",
      "          0.09749795, 0.09787139],\n",
      "         [0.0862528 , 0.08131328, 0.08052445, ..., 0.09943127,\n",
      "          0.09142747, 0.08934119],\n",
      "         [0.08573194, 0.08792234, 0.09214417, ..., 0.09151885,\n",
      "          0.08373006, 0.08664433]],\n",
      "\n",
      "        [[0.09360429, 0.09259304, 0.0944142 , ..., 0.09032295,\n",
      "          0.08402248, 0.08545263],\n",
      "         [0.09200972, 0.08947656, 0.08894427, ..., 0.09272514,\n",
      "          0.09020709, 0.0924761 ],\n",
      "         [0.08428682, 0.09343653, 0.09600412, ..., 0.08980289,\n",
      "          0.08369984, 0.08644807],\n",
      "         ...,\n",
      "         [0.08536873, 0.08917599, 0.09086636, ..., 0.0908627 ,\n",
      "          0.09294911, 0.09300674],\n",
      "         [0.09226505, 0.09678718, 0.09141052, ..., 0.09173565,\n",
      "          0.09919458, 0.09475293],\n",
      "         [0.09499253, 0.09065174, 0.08999448, ..., 0.09345309,\n",
      "          0.08977688, 0.09162613]],\n",
      "\n",
      "        ...,\n",
      "\n",
      "        [[0.08761867, 0.08856416, 0.08464064, ..., 0.09460218,\n",
      "          0.10246181, 0.09513004],\n",
      "         [0.09536814, 0.08197822, 0.08622753, ..., 0.09150083,\n",
      "          0.08956171, 0.0883983 ],\n",
      "         [0.08527407, 0.08289847, 0.08513266, ..., 0.09207187,\n",
      "          0.10600964, 0.09592405],\n",
      "         ...,\n",
      "         [0.08706805, 0.08925945, 0.08619767, ..., 0.09349149,\n",
      "          0.10389316, 0.09424371],\n",
      "         [0.0918114 , 0.09344777, 0.09127537, ..., 0.08835778,\n",
      "          0.09154437, 0.09086527],\n",
      "         [0.08667716, 0.09345744, 0.08921812, ..., 0.09085636,\n",
      "          0.10138883, 0.09270446]],\n",
      "\n",
      "        [[0.08840601, 0.09024963, 0.09950864, ..., 0.09495014,\n",
      "          0.08271114, 0.09204   ],\n",
      "         [0.09140941, 0.09767757, 0.09547111, ..., 0.08654267,\n",
      "          0.09046368, 0.08882809],\n",
      "         [0.09213717, 0.09706841, 0.09891749, ..., 0.08079369,\n",
      "          0.081308  , 0.08497442],\n",
      "         ...,\n",
      "         [0.09016578, 0.0955456 , 0.08971291, ..., 0.07910547,\n",
      "          0.0932789 , 0.08787887],\n",
      "         [0.09524559, 0.09550598, 0.08982297, ..., 0.08670017,\n",
      "          0.09765231, 0.09179071],\n",
      "         [0.09320407, 0.09009755, 0.08178148, ..., 0.09517652,\n",
      "          0.10005744, 0.09656255]],\n",
      "\n",
      "        [[0.09042404, 0.08270139, 0.08674146, ..., 0.09822109,\n",
      "          0.08559261, 0.08602094],\n",
      "         [0.0913475 , 0.08746433, 0.08576815, ..., 0.09676017,\n",
      "          0.09631351, 0.09084343],\n",
      "         [0.08870295, 0.08646668, 0.08455295, ..., 0.09812924,\n",
      "          0.09088046, 0.09134594],\n",
      "         ...,\n",
      "         [0.09064002, 0.09361185, 0.08350642, ..., 0.09463632,\n",
      "          0.0953835 , 0.09115478],\n",
      "         [0.09220977, 0.09724593, 0.0933431 , ..., 0.08627558,\n",
      "          0.10240721, 0.09327569],\n",
      "         [0.09433761, 0.09212178, 0.08999751, ..., 0.08515215,\n",
      "          0.1005477 , 0.09650028]]]], dtype=float32)>, 'decoder_layer2_block1': <tf.Tensor: shape=(1, 8, 13, 13), dtype=float32, numpy=\n",
      "array([[[[1.        , 0.        , 0.        , ..., 0.        ,\n",
      "          0.        , 0.        ],\n",
      "         [0.24166404, 0.758336  , 0.        , ..., 0.        ,\n",
      "          0.        , 0.        ],\n",
      "         [0.887201  , 0.03251199, 0.08028705, ..., 0.        ,\n",
      "          0.        , 0.        ],\n",
      "         ...,\n",
      "         [0.18286626, 0.08787165, 0.11479607, ..., 0.09911869,\n",
      "          0.        , 0.        ],\n",
      "         [0.0796012 , 0.12012194, 0.02248139, ..., 0.08703572,\n",
      "          0.28397202, 0.        ],\n",
      "         [0.03323851, 0.05895996, 0.03114948, ..., 0.04796161,\n",
      "          0.1636347 , 0.09528555]],\n",
      "\n",
      "        [[1.        , 0.        , 0.        , ..., 0.        ,\n",
      "          0.        , 0.        ],\n",
      "         [0.0714991 , 0.9285009 , 0.        , ..., 0.        ,\n",
      "          0.        , 0.        ],\n",
      "         [0.1749629 , 0.48854762, 0.3364895 , ..., 0.        ,\n",
      "          0.        , 0.        ],\n",
      "         ...,\n",
      "         [0.00365961, 0.30573213, 0.01638734, ..., 0.26388326,\n",
      "          0.        , 0.        ],\n",
      "         [0.01457739, 0.00802611, 0.03757453, ..., 0.08429192,\n",
      "          0.11399449, 0.        ],\n",
      "         [0.00014973, 0.00522018, 0.00599954, ..., 0.20285606,\n",
      "          0.11136235, 0.10490958]],\n",
      "\n",
      "        [[1.        , 0.        , 0.        , ..., 0.        ,\n",
      "          0.        , 0.        ],\n",
      "         [0.9130666 , 0.08693333, 0.        , ..., 0.        ,\n",
      "          0.        , 0.        ],\n",
      "         [0.12741177, 0.05149095, 0.82109725, ..., 0.        ,\n",
      "          0.        , 0.        ],\n",
      "         ...,\n",
      "         [0.02041354, 0.02101278, 0.03221067, ..., 0.1054554 ,\n",
      "          0.        , 0.        ],\n",
      "         [0.6017963 , 0.10608506, 0.03569108, ..., 0.0543106 ,\n",
      "          0.11520822, 0.        ],\n",
      "         [0.09197519, 0.18610357, 0.0589764 , ..., 0.05991019,\n",
      "          0.28460792, 0.02854601]],\n",
      "\n",
      "        ...,\n",
      "\n",
      "        [[1.        , 0.        , 0.        , ..., 0.        ,\n",
      "          0.        , 0.        ],\n",
      "         [0.8262644 , 0.17373562, 0.        , ..., 0.        ,\n",
      "          0.        , 0.        ],\n",
      "         [0.11057279, 0.07263816, 0.81678903, ..., 0.        ,\n",
      "          0.        , 0.        ],\n",
      "         ...,\n",
      "         [0.389426  , 0.04376439, 0.03543962, ..., 0.06359574,\n",
      "          0.        , 0.        ],\n",
      "         [0.67896044, 0.04088884, 0.04273139, ..., 0.01216802,\n",
      "          0.03768046, 0.        ],\n",
      "         [0.03588972, 0.04817667, 0.01938749, ..., 0.0700027 ,\n",
      "          0.18939725, 0.33537874]],\n",
      "\n",
      "        [[1.        , 0.        , 0.        , ..., 0.        ,\n",
      "          0.        , 0.        ],\n",
      "         [0.27386925, 0.7261307 , 0.        , ..., 0.        ,\n",
      "          0.        , 0.        ],\n",
      "         [0.0201478 , 0.93649   , 0.0433622 , ..., 0.        ,\n",
      "          0.        , 0.        ],\n",
      "         ...,\n",
      "         [0.0166467 , 0.01579067, 0.043093  , ..., 0.5446224 ,\n",
      "          0.        , 0.        ],\n",
      "         [0.3427917 , 0.01078023, 0.00537744, ..., 0.04227249,\n",
      "          0.06081316, 0.        ],\n",
      "         [0.06105816, 0.00887367, 0.03210973, ..., 0.11322953,\n",
      "          0.03144431, 0.1777863 ]],\n",
      "\n",
      "        [[1.        , 0.        , 0.        , ..., 0.        ,\n",
      "          0.        , 0.        ],\n",
      "         [0.4861011 , 0.5138989 , 0.        , ..., 0.        ,\n",
      "          0.        , 0.        ],\n",
      "         [0.01745262, 0.31987318, 0.6626742 , ..., 0.        ,\n",
      "          0.        , 0.        ],\n",
      "         ...,\n",
      "         [0.00393002, 0.0566378 , 0.08457964, ..., 0.15156193,\n",
      "          0.        , 0.        ],\n",
      "         [0.04747726, 0.01984075, 0.02657915, ..., 0.10602115,\n",
      "          0.04870254, 0.        ],\n",
      "         [0.02501226, 0.03585479, 0.08175083, ..., 0.09230439,\n",
      "          0.15064661, 0.03136693]]]], dtype=float32)>, 'decoder_layer2_block2': <tf.Tensor: shape=(1, 8, 13, 11), dtype=float32, numpy=\n",
      "array([[[[0.09302773, 0.09380538, 0.08982594, ..., 0.08608685,\n",
      "          0.09513775, 0.09256537],\n",
      "         [0.09243072, 0.09201022, 0.09010218, ..., 0.09053813,\n",
      "          0.09630141, 0.09127986],\n",
      "         [0.09708706, 0.08709782, 0.0898088 , ..., 0.09475409,\n",
      "          0.08431003, 0.09022734],\n",
      "         ...,\n",
      "         [0.08640642, 0.08689403, 0.09255327, ..., 0.09875009,\n",
      "          0.09637842, 0.09605632],\n",
      "         [0.08398543, 0.09074091, 0.08420089, ..., 0.09221593,\n",
      "          0.11012819, 0.09918111],\n",
      "         [0.08655107, 0.08996043, 0.08927184, ..., 0.09359556,\n",
      "          0.09410835, 0.09384049]],\n",
      "\n",
      "        [[0.09025736, 0.09240787, 0.0915878 , ..., 0.09367131,\n",
      "          0.08815179, 0.08682363],\n",
      "         [0.09657422, 0.08328824, 0.08633551, ..., 0.09534582,\n",
      "          0.08880466, 0.09084406],\n",
      "         [0.09223919, 0.09440875, 0.08934443, ..., 0.08962993,\n",
      "          0.09605437, 0.09326299],\n",
      "         ...,\n",
      "         [0.08370303, 0.09587263, 0.08617438, ..., 0.0911333 ,\n",
      "          0.10356742, 0.09176756],\n",
      "         [0.0946366 , 0.08471636, 0.09062237, ..., 0.09433532,\n",
      "          0.08420494, 0.09222599],\n",
      "         [0.09522222, 0.08535893, 0.09257077, ..., 0.08938212,\n",
      "          0.08924331, 0.08731029]],\n",
      "\n",
      "        [[0.09849665, 0.08937919, 0.09062774, ..., 0.08878989,\n",
      "          0.09304333, 0.09358829],\n",
      "         [0.08512875, 0.0879389 , 0.08095049, ..., 0.09259965,\n",
      "          0.10806944, 0.0937923 ],\n",
      "         [0.0993724 , 0.09285983, 0.09265555, ..., 0.09133112,\n",
      "          0.08102307, 0.08706388],\n",
      "         ...,\n",
      "         [0.08775747, 0.08602135, 0.0874358 , ..., 0.09482709,\n",
      "          0.091468  , 0.0901302 ],\n",
      "         [0.08093341, 0.09352692, 0.09218514, ..., 0.0868283 ,\n",
      "          0.09526645, 0.08976513],\n",
      "         [0.09198922, 0.09314159, 0.09606408, ..., 0.0903253 ,\n",
      "          0.08077669, 0.08688042]],\n",
      "\n",
      "        ...,\n",
      "\n",
      "        [[0.09547351, 0.09719987, 0.10159763, ..., 0.08011468,\n",
      "          0.07916084, 0.08289849],\n",
      "         [0.10076381, 0.09543888, 0.09034374, ..., 0.08613705,\n",
      "          0.09236931, 0.09365761],\n",
      "         [0.08785771, 0.09098111, 0.0918488 , ..., 0.09472022,\n",
      "          0.09073065, 0.09260064],\n",
      "         ...,\n",
      "         [0.08448993, 0.08465701, 0.08663943, ..., 0.09975637,\n",
      "          0.09167742, 0.09017926],\n",
      "         [0.08463293, 0.08597878, 0.0822812 , ..., 0.10286281,\n",
      "          0.09417707, 0.09800951],\n",
      "         [0.08487774, 0.08920904, 0.0937562 , ..., 0.09615621,\n",
      "          0.09133588, 0.09165968]],\n",
      "\n",
      "        [[0.08925514, 0.08808731, 0.0908873 , ..., 0.09434043,\n",
      "          0.09033798, 0.09811502],\n",
      "         [0.09042834, 0.08963022, 0.09024832, ..., 0.09025598,\n",
      "          0.08986721, 0.09324396],\n",
      "         [0.08777529, 0.08582774, 0.0935123 , ..., 0.08913695,\n",
      "          0.08491991, 0.08973756],\n",
      "         ...,\n",
      "         [0.08868541, 0.09419362, 0.09409437, ..., 0.08882063,\n",
      "          0.08903494, 0.08387905],\n",
      "         [0.08389977, 0.09372559, 0.08864662, ..., 0.0919009 ,\n",
      "          0.10355578, 0.09826093],\n",
      "         [0.08016981, 0.09581024, 0.0797386 , ..., 0.09365546,\n",
      "          0.12286808, 0.10523487]],\n",
      "\n",
      "        [[0.09434125, 0.08990908, 0.08781714, ..., 0.08802477,\n",
      "          0.09590486, 0.09444027],\n",
      "         [0.09662401, 0.08969972, 0.08764549, ..., 0.09493218,\n",
      "          0.09593652, 0.09533253],\n",
      "         [0.09112642, 0.08841486, 0.08574085, ..., 0.09362037,\n",
      "          0.09669659, 0.09343986],\n",
      "         ...,\n",
      "         [0.07957044, 0.09044148, 0.0833322 , ..., 0.09295208,\n",
      "          0.10405356, 0.0932717 ],\n",
      "         [0.10339258, 0.09140984, 0.09893172, ..., 0.09293851,\n",
      "          0.08860289, 0.08668653],\n",
      "         [0.09835777, 0.09370919, 0.09554438, ..., 0.08951088,\n",
      "          0.08810349, 0.089768  ]]]], dtype=float32)>, 'decoder_layer3_block1': <tf.Tensor: shape=(1, 8, 13, 13), dtype=float32, numpy=\n",
      "array([[[[1.        , 0.        , 0.        , ..., 0.        ,\n",
      "          0.        , 0.        ],\n",
      "         [0.7663778 , 0.23362221, 0.        , ..., 0.        ,\n",
      "          0.        , 0.        ],\n",
      "         [0.12497115, 0.07142584, 0.80360305, ..., 0.        ,\n",
      "          0.        , 0.        ],\n",
      "         ...,\n",
      "         [0.0182082 , 0.00250967, 0.1091964 , ..., 0.13128132,\n",
      "          0.        , 0.        ],\n",
      "         [0.03514333, 0.0015022 , 0.00039579, ..., 0.00087828,\n",
      "          0.08444109, 0.        ],\n",
      "         [0.09956717, 0.03056961, 0.00876591, ..., 0.1518819 ,\n",
      "          0.1535799 , 0.08576317]],\n",
      "\n",
      "        [[1.        , 0.        , 0.        , ..., 0.        ,\n",
      "          0.        , 0.        ],\n",
      "         [0.82469374, 0.17530626, 0.        , ..., 0.        ,\n",
      "          0.        , 0.        ],\n",
      "         [0.36831263, 0.44058987, 0.1910975 , ..., 0.        ,\n",
      "          0.        , 0.        ],\n",
      "         ...,\n",
      "         [0.04927542, 0.08602676, 0.04091855, ..., 0.32560423,\n",
      "          0.        , 0.        ],\n",
      "         [0.00688869, 0.03007746, 0.01540592, ..., 0.1357461 ,\n",
      "          0.34794003, 0.        ],\n",
      "         [0.01654238, 0.02773383, 0.09959604, ..., 0.1525679 ,\n",
      "          0.18683024, 0.04969139]],\n",
      "\n",
      "        [[1.        , 0.        , 0.        , ..., 0.        ,\n",
      "          0.        , 0.        ],\n",
      "         [0.00707977, 0.9929202 , 0.        , ..., 0.        ,\n",
      "          0.        , 0.        ],\n",
      "         [0.9004639 , 0.06931285, 0.03022321, ..., 0.        ,\n",
      "          0.        , 0.        ],\n",
      "         ...,\n",
      "         [0.31606275, 0.01234882, 0.03329135, ..., 0.00608605,\n",
      "          0.        , 0.        ],\n",
      "         [0.00212879, 0.08954707, 0.03508072, ..., 0.32288647,\n",
      "          0.41213772, 0.        ],\n",
      "         [0.00555276, 0.00053256, 0.00001914, ..., 0.00020722,\n",
      "          0.00009052, 0.99237615]],\n",
      "\n",
      "        ...,\n",
      "\n",
      "        [[1.        , 0.        , 0.        , ..., 0.        ,\n",
      "          0.        , 0.        ],\n",
      "         [0.06381591, 0.93618405, 0.        , ..., 0.        ,\n",
      "          0.        , 0.        ],\n",
      "         [0.02711335, 0.6020808 , 0.37080586, ..., 0.        ,\n",
      "          0.        , 0.        ],\n",
      "         ...,\n",
      "         [0.03176287, 0.02422285, 0.04950811, ..., 0.01817274,\n",
      "          0.        , 0.        ],\n",
      "         [0.03586572, 0.04064963, 0.11220679, ..., 0.09735379,\n",
      "          0.10426319, 0.        ],\n",
      "         [0.00650347, 0.00657206, 0.00648078, ..., 0.00853728,\n",
      "          0.03729092, 0.88664335]],\n",
      "\n",
      "        [[1.        , 0.        , 0.        , ..., 0.        ,\n",
      "          0.        , 0.        ],\n",
      "         [0.03996563, 0.96003443, 0.        , ..., 0.        ,\n",
      "          0.        , 0.        ],\n",
      "         [0.01329303, 0.13205588, 0.8546511 , ..., 0.        ,\n",
      "          0.        , 0.        ],\n",
      "         ...,\n",
      "         [0.14105463, 0.04786128, 0.08087374, ..., 0.09921576,\n",
      "          0.        , 0.        ],\n",
      "         [0.08661742, 0.04895684, 0.0106557 , ..., 0.05054655,\n",
      "          0.05256282, 0.        ],\n",
      "         [0.00661583, 0.00004333, 0.00231307, ..., 0.00133255,\n",
      "          0.00191377, 0.98475504]],\n",
      "\n",
      "        [[1.        , 0.        , 0.        , ..., 0.        ,\n",
      "          0.        , 0.        ],\n",
      "         [0.5515923 , 0.44840768, 0.        , ..., 0.        ,\n",
      "          0.        , 0.        ],\n",
      "         [0.03160128, 0.09128246, 0.8771162 , ..., 0.        ,\n",
      "          0.        , 0.        ],\n",
      "         ...,\n",
      "         [0.17173316, 0.02624092, 0.04464931, ..., 0.05282041,\n",
      "          0.        , 0.        ],\n",
      "         [0.00024168, 0.00021498, 0.00100976, ..., 0.6971168 ,\n",
      "          0.1586613 , 0.        ],\n",
      "         [0.00037677, 0.00221913, 0.0078052 , ..., 0.0580827 ,\n",
      "          0.10398816, 0.6812126 ]]]], dtype=float32)>, 'decoder_layer3_block2': <tf.Tensor: shape=(1, 8, 13, 11), dtype=float32, numpy=\n",
      "array([[[[0.09410869, 0.09697025, 0.09727093, ..., 0.08563065,\n",
      "          0.08857252, 0.08795945],\n",
      "         [0.09424221, 0.08631224, 0.08826764, ..., 0.09034348,\n",
      "          0.09076352, 0.09049111],\n",
      "         [0.08875804, 0.09054876, 0.093844  , ..., 0.08700144,\n",
      "          0.08503052, 0.08576766],\n",
      "         ...,\n",
      "         [0.08793646, 0.09227561, 0.08874803, ..., 0.08780428,\n",
      "          0.09188877, 0.08836169],\n",
      "         [0.0904372 , 0.08303408, 0.0887263 , ..., 0.0956061 ,\n",
      "          0.098639  , 0.09797942],\n",
      "         [0.09916601, 0.09380397, 0.09911963, ..., 0.08335613,\n",
      "          0.08537196, 0.09048641]],\n",
      "\n",
      "        [[0.08834735, 0.09357008, 0.09412181, ..., 0.08987778,\n",
      "          0.08549999, 0.08856638],\n",
      "         [0.09005925, 0.08925005, 0.09819133, ..., 0.08282734,\n",
      "          0.08535941, 0.08614851],\n",
      "         [0.09292436, 0.08560818, 0.08795139, ..., 0.08812592,\n",
      "          0.0884863 , 0.09010971],\n",
      "         ...,\n",
      "         [0.09216323, 0.08091565, 0.08403146, ..., 0.09262341,\n",
      "          0.08515103, 0.09201071],\n",
      "         [0.09310804, 0.08688585, 0.08932783, ..., 0.09015191,\n",
      "          0.0864637 , 0.08952262],\n",
      "         [0.08842721, 0.09449345, 0.09055784, ..., 0.09126132,\n",
      "          0.0883731 , 0.09231522]],\n",
      "\n",
      "        [[0.09218121, 0.09131916, 0.09672111, ..., 0.09285478,\n",
      "          0.08932877, 0.09007219],\n",
      "         [0.09565856, 0.08446825, 0.08523248, ..., 0.08992188,\n",
      "          0.08747236, 0.09211955],\n",
      "         [0.0992005 , 0.08839353, 0.08848402, ..., 0.08628751,\n",
      "          0.08293678, 0.08691637],\n",
      "         ...,\n",
      "         [0.10096837, 0.08493929, 0.08472802, ..., 0.09153086,\n",
      "          0.08962001, 0.0916964 ],\n",
      "         [0.08915111, 0.09532465, 0.08976773, ..., 0.09074719,\n",
      "          0.09050893, 0.0920128 ],\n",
      "         [0.08484627, 0.09439966, 0.09403443, ..., 0.0901956 ,\n",
      "          0.09942681, 0.09163656]],\n",
      "\n",
      "        ...,\n",
      "\n",
      "        [[0.09263174, 0.09149955, 0.09876679, ..., 0.08015072,\n",
      "          0.08604037, 0.08250403],\n",
      "         [0.09273151, 0.08915836, 0.08594137, ..., 0.08825763,\n",
      "          0.10349639, 0.09244815],\n",
      "         [0.08883169, 0.09352079, 0.09156337, ..., 0.08887508,\n",
      "          0.08092265, 0.08405709],\n",
      "         ...,\n",
      "         [0.08495422, 0.09026738, 0.08338062, ..., 0.09781429,\n",
      "          0.08790217, 0.08984609],\n",
      "         [0.09115254, 0.09007701, 0.07858028, ..., 0.10259134,\n",
      "          0.11124318, 0.10680994],\n",
      "         [0.09037149, 0.09208879, 0.0964063 , ..., 0.0888882 ,\n",
      "          0.08603296, 0.09118181]],\n",
      "\n",
      "        [[0.09846959, 0.09769529, 0.10865872, ..., 0.08541086,\n",
      "          0.06625264, 0.076974  ],\n",
      "         [0.09289089, 0.08660529, 0.08119728, ..., 0.09631695,\n",
      "          0.09104268, 0.09255119],\n",
      "         [0.09417538, 0.0888813 , 0.08804989, ..., 0.09107956,\n",
      "          0.09309331, 0.08636108],\n",
      "         ...,\n",
      "         [0.08894983, 0.08776721, 0.08792091, ..., 0.09657955,\n",
      "          0.1009872 , 0.09600395],\n",
      "         [0.08551067, 0.08328638, 0.07748811, ..., 0.09938017,\n",
      "          0.11177766, 0.100429  ],\n",
      "         [0.09311412, 0.09082723, 0.09245307, ..., 0.08613601,\n",
      "          0.09104143, 0.08873384]],\n",
      "\n",
      "        [[0.0991118 , 0.09169505, 0.09692333, ..., 0.08615591,\n",
      "          0.07909988, 0.08253609],\n",
      "         [0.08798575, 0.09735081, 0.10024552, ..., 0.09127422,\n",
      "          0.0833264 , 0.08978218],\n",
      "         [0.09078056, 0.09196853, 0.09286942, ..., 0.08858975,\n",
      "          0.09017917, 0.08948259],\n",
      "         ...,\n",
      "         [0.09155565, 0.09423602, 0.0887972 , ..., 0.09339743,\n",
      "          0.09451088, 0.09644497],\n",
      "         [0.0898865 , 0.0942874 , 0.09592838, ..., 0.09275447,\n",
      "          0.09496938, 0.10028248],\n",
      "         [0.09802006, 0.09272254, 0.09694947, ..., 0.08822841,\n",
      "          0.08127972, 0.08715284]]]], dtype=float32)>, 'decoder_layer4_block1': <tf.Tensor: shape=(1, 8, 13, 13), dtype=float32, numpy=\n",
      "array([[[[1.        , 0.        , 0.        , ..., 0.        ,\n",
      "          0.        , 0.        ],\n",
      "         [0.4488054 , 0.5511946 , 0.        , ..., 0.        ,\n",
      "          0.        , 0.        ],\n",
      "         [0.4246259 , 0.5527815 , 0.02259252, ..., 0.        ,\n",
      "          0.        , 0.        ],\n",
      "         ...,\n",
      "         [0.00019146, 0.00021111, 0.00094865, ..., 0.31397077,\n",
      "          0.        , 0.        ],\n",
      "         [0.01271249, 0.00546236, 0.00755761, ..., 0.00570238,\n",
      "          0.037342  , 0.        ],\n",
      "         [0.63048613, 0.01058914, 0.0189165 , ..., 0.00465783,\n",
      "          0.03397583, 0.07604524]],\n",
      "\n",
      "        [[1.        , 0.        , 0.        , ..., 0.        ,\n",
      "          0.        , 0.        ],\n",
      "         [0.38962582, 0.6103742 , 0.        , ..., 0.        ,\n",
      "          0.        , 0.        ],\n",
      "         [0.16126199, 0.82467264, 0.01406543, ..., 0.        ,\n",
      "          0.        , 0.        ],\n",
      "         ...,\n",
      "         [0.6452291 , 0.03910623, 0.07324111, ..., 0.01722853,\n",
      "          0.        , 0.        ],\n",
      "         [0.10568572, 0.04882175, 0.03311231, ..., 0.1623522 ,\n",
      "          0.07380743, 0.        ],\n",
      "         [0.03188438, 0.40487412, 0.00250015, ..., 0.00411123,\n",
      "          0.23581098, 0.03092217]],\n",
      "\n",
      "        [[1.        , 0.        , 0.        , ..., 0.        ,\n",
      "          0.        , 0.        ],\n",
      "         [0.04346775, 0.95653224, 0.        , ..., 0.        ,\n",
      "          0.        , 0.        ],\n",
      "         [0.23412119, 0.63789964, 0.12797919, ..., 0.        ,\n",
      "          0.        , 0.        ],\n",
      "         ...,\n",
      "         [0.14802633, 0.0484693 , 0.07261344, ..., 0.04430578,\n",
      "          0.        , 0.        ],\n",
      "         [0.05306381, 0.26783362, 0.01150426, ..., 0.0122425 ,\n",
      "          0.08368656, 0.        ],\n",
      "         [0.08109769, 0.00634293, 0.03513828, ..., 0.00353489,\n",
      "          0.02869365, 0.5596486 ]],\n",
      "\n",
      "        ...,\n",
      "\n",
      "        [[1.        , 0.        , 0.        , ..., 0.        ,\n",
      "          0.        , 0.        ],\n",
      "         [0.03489592, 0.96510404, 0.        , ..., 0.        ,\n",
      "          0.        , 0.        ],\n",
      "         [0.00853117, 0.15235646, 0.83911234, ..., 0.        ,\n",
      "          0.        , 0.        ],\n",
      "         ...,\n",
      "         [0.17494799, 0.06215438, 0.0949064 , ..., 0.01819499,\n",
      "          0.        , 0.        ],\n",
      "         [0.00240448, 0.0159054 , 0.00292267, ..., 0.07044034,\n",
      "          0.7826979 , 0.        ],\n",
      "         [0.03050674, 0.01800137, 0.03170235, ..., 0.19548762,\n",
      "          0.14547358, 0.08865973]],\n",
      "\n",
      "        [[1.        , 0.        , 0.        , ..., 0.        ,\n",
      "          0.        , 0.        ],\n",
      "         [0.71213883, 0.28786114, 0.        , ..., 0.        ,\n",
      "          0.        , 0.        ],\n",
      "         [0.05186814, 0.7539486 , 0.19418326, ..., 0.        ,\n",
      "          0.        , 0.        ],\n",
      "         ...,\n",
      "         [0.35699496, 0.04060353, 0.18427484, ..., 0.05828084,\n",
      "          0.        , 0.        ],\n",
      "         [0.02183945, 0.01604578, 0.46435848, ..., 0.07917023,\n",
      "          0.13119645, 0.        ],\n",
      "         [0.2036387 , 0.04709947, 0.14514627, ..., 0.10673684,\n",
      "          0.02370967, 0.04500086]],\n",
      "\n",
      "        [[1.        , 0.        , 0.        , ..., 0.        ,\n",
      "          0.        , 0.        ],\n",
      "         [0.7567072 , 0.24329278, 0.        , ..., 0.        ,\n",
      "          0.        , 0.        ],\n",
      "         [0.7323066 , 0.2240086 , 0.04368474, ..., 0.        ,\n",
      "          0.        , 0.        ],\n",
      "         ...,\n",
      "         [0.12077243, 0.0789642 , 0.0426895 , ..., 0.03833378,\n",
      "          0.        , 0.        ],\n",
      "         [0.08427953, 0.01816676, 0.00405883, ..., 0.00844841,\n",
      "          0.7229125 , 0.        ],\n",
      "         [0.3305591 , 0.02231522, 0.0165314 , ..., 0.04593879,\n",
      "          0.05406288, 0.19370927]]]], dtype=float32)>, 'decoder_layer4_block2': <tf.Tensor: shape=(1, 8, 13, 11), dtype=float32, numpy=\n",
      "array([[[[0.09073624, 0.08645427, 0.09628823, ..., 0.08721494,\n",
      "          0.09421243, 0.08243854],\n",
      "         [0.0899362 , 0.08758029, 0.09130514, ..., 0.09310629,\n",
      "          0.09228941, 0.09120202],\n",
      "         [0.09308308, 0.08470409, 0.08166543, ..., 0.08848356,\n",
      "          0.0970164 , 0.09759024],\n",
      "         ...,\n",
      "         [0.0861448 , 0.08968175, 0.09025235, ..., 0.09135074,\n",
      "          0.0974765 , 0.08831874],\n",
      "         [0.08896973, 0.09199242, 0.08144967, ..., 0.09694672,\n",
      "          0.09630322, 0.10028464],\n",
      "         [0.08977788, 0.08765756, 0.09565051, ..., 0.08874007,\n",
      "          0.08573682, 0.08462656]],\n",
      "\n",
      "        [[0.09441692, 0.09155108, 0.09423104, ..., 0.08404607,\n",
      "          0.0864788 , 0.08420854],\n",
      "         [0.09108498, 0.08245594, 0.0911846 , ..., 0.09352871,\n",
      "          0.07692574, 0.08762404],\n",
      "         [0.08874708, 0.09527147, 0.09230379, ..., 0.09743141,\n",
      "          0.09098486, 0.0954582 ],\n",
      "         ...,\n",
      "         [0.0876323 , 0.09007077, 0.08545606, ..., 0.09289352,\n",
      "          0.09781501, 0.09083002],\n",
      "         [0.08335043, 0.08937371, 0.09045824, ..., 0.09790526,\n",
      "          0.09330431, 0.09512412],\n",
      "         [0.08858179, 0.09011203, 0.08871325, ..., 0.08485115,\n",
      "          0.0929528 , 0.09540243]],\n",
      "\n",
      "        [[0.09058249, 0.09017784, 0.08997195, ..., 0.08285814,\n",
      "          0.08522329, 0.08768632],\n",
      "         [0.08185946, 0.09886841, 0.1007729 , ..., 0.08469854,\n",
      "          0.09073929, 0.08577824],\n",
      "         [0.07857356, 0.09128029, 0.09475036, ..., 0.0897602 ,\n",
      "          0.08831579, 0.08969501],\n",
      "         ...,\n",
      "         [0.0928642 , 0.09146415, 0.08668081, ..., 0.08421884,\n",
      "          0.08755023, 0.08613363],\n",
      "         [0.08415781, 0.09150693, 0.10066632, ..., 0.08693346,\n",
      "          0.07366454, 0.08396433],\n",
      "         [0.09592688, 0.09180675, 0.09082363, ..., 0.09251734,\n",
      "          0.09121811, 0.09060193]],\n",
      "\n",
      "        ...,\n",
      "\n",
      "        [[0.09614144, 0.0923897 , 0.09257013, ..., 0.08396298,\n",
      "          0.08074473, 0.08314044],\n",
      "         [0.09465984, 0.0912068 , 0.08249471, ..., 0.09530306,\n",
      "          0.10522176, 0.0964196 ],\n",
      "         [0.09258322, 0.08787119, 0.09046929, ..., 0.0911597 ,\n",
      "          0.08520319, 0.08827801],\n",
      "         ...,\n",
      "         [0.08199863, 0.09155221, 0.09323164, ..., 0.09108391,\n",
      "          0.08107078, 0.08699712],\n",
      "         [0.09131682, 0.08569413, 0.08665445, ..., 0.09502172,\n",
      "          0.09765576, 0.09258576],\n",
      "         [0.09517547, 0.0876619 , 0.09464264, ..., 0.08640604,\n",
      "          0.08004602, 0.08725269]],\n",
      "\n",
      "        [[0.0975803 , 0.0916824 , 0.09877595, ..., 0.08898257,\n",
      "          0.0834926 , 0.08688608],\n",
      "         [0.09281728, 0.09181993, 0.0823964 , ..., 0.09510058,\n",
      "          0.09384024, 0.09442238],\n",
      "         [0.08213365, 0.09375171, 0.09252008, ..., 0.08918888,\n",
      "          0.09498394, 0.09450762],\n",
      "         ...,\n",
      "         [0.09030247, 0.08493332, 0.08523038, ..., 0.09302647,\n",
      "          0.09867964, 0.09285854],\n",
      "         [0.08938856, 0.08719724, 0.09107134, ..., 0.08925237,\n",
      "          0.08860483, 0.08579279],\n",
      "         [0.09609716, 0.09192058, 0.08676612, ..., 0.0919073 ,\n",
      "          0.09206208, 0.09288146]],\n",
      "\n",
      "        [[0.09261762, 0.08825777, 0.10247143, ..., 0.08768228,\n",
      "          0.07604884, 0.08020781],\n",
      "         [0.09252834, 0.08854254, 0.09639259, ..., 0.09469737,\n",
      "          0.0908986 , 0.09680199],\n",
      "         [0.08893937, 0.08865923, 0.08906174, ..., 0.08515619,\n",
      "          0.08825857, 0.08823112],\n",
      "         ...,\n",
      "         [0.07610899, 0.08011558, 0.08084009, ..., 0.09393238,\n",
      "          0.10005526, 0.10230064],\n",
      "         [0.08792449, 0.09240264, 0.08789436, ..., 0.09293007,\n",
      "          0.10406711, 0.1010142 ],\n",
      "         [0.09598137, 0.08806112, 0.08619795, ..., 0.08888993,\n",
      "          0.09199697, 0.09310488]]]], dtype=float32)>})\n"
     ]
    }
   ],
   "source": [
    "sentence = \"este é um problema que temos que resolver.\"\n",
    "\n",
    "score = test_evaluate(sentence)\n",
    "print(score)"
   ]
  },
  {
   "cell_type": "code",
   "execution_count": null,
   "metadata": {},
   "outputs": [],
   "source": []
  },
  {
   "cell_type": "code",
   "execution_count": null,
   "metadata": {},
   "outputs": [],
   "source": []
  },
  {
   "cell_type": "code",
   "execution_count": null,
   "metadata": {},
   "outputs": [],
   "source": []
  },
  {
   "cell_type": "code",
   "execution_count": 68,
   "metadata": {
    "execution": {
     "iopub.execute_input": "2021-02-04T02:39:34.305106Z",
     "iopub.status.busy": "2021-02-04T02:39:34.304418Z",
     "iopub.status.idle": "2021-02-04T02:39:34.306541Z",
     "shell.execute_reply": "2021-02-04T02:39:34.306078Z"
    },
    "id": "5buvMlnvyrFm"
   },
   "outputs": [],
   "source": [
    "def evaluate(sentence, max_length=40):\n",
    "    # inp sentence is portuguese, hence adding the start and end token\n",
    "    sentence = tf.convert_to_tensor([sentence])\n",
    "    sentence = tokenizers.pt.tokenize(sentence).to_tensor()\n",
    "\n",
    "    encoder_input = sentence\n",
    "  \n",
    "    # as the target is english, the first word to the transformer should be the\n",
    "    # english start token.\n",
    "    start, end = tokenizers.en.tokenize([''])[0]\n",
    "    output = tf.convert_to_tensor([start])\n",
    "    output = tf.expand_dims(output, 0)\n",
    "    \n",
    "    for i in range(max_length):\n",
    "        enc_padding_mask, combined_mask, dec_padding_mask = create_masks(\n",
    "        encoder_input, output)\n",
    "      \n",
    "        # predictions.shape == (batch_size, seq_len, vocab_size)\n",
    "        predictions, attention_weights = transformer(encoder_input, \n",
    "                                                     output,\n",
    "                                                     False,\n",
    "                                                     enc_padding_mask,\n",
    "                                                     combined_mask,\n",
    "                                                     dec_padding_mask)\n",
    "\n",
    "        # select the last word from the seq_len dimension\n",
    "        predictions = predictions[: ,-1:, :]  # (batch_size, 1, vocab_size)\n",
    "\n",
    "        predicted_id = tf.argmax(predictions, axis=-1)\n",
    "\n",
    "        # concatentate the predicted_id to the output which is given to the decoder\n",
    "        # as its input.\n",
    "        output = tf.concat([output, predicted_id], axis=-1)\n",
    "\n",
    "        # return the result if the predicted_id is equal to the end token\n",
    "        if predicted_id == end:\n",
    "            break\n",
    "\n",
    "  # output.shape (1, tokens)\n",
    "    text = tokenizers.en.detokenize(output)[0] # shape: ()\n",
    "  \n",
    "    tokens = tokenizers.en.lookup(output)[0]\n",
    "  \n",
    "    return text, tokens, attention_weights"
   ]
  },
  {
   "cell_type": "code",
   "execution_count": 69,
   "metadata": {
    "execution": {
     "iopub.execute_input": "2021-02-04T02:39:34.310804Z",
     "iopub.status.busy": "2021-02-04T02:39:34.310172Z",
     "iopub.status.idle": "2021-02-04T02:39:34.312477Z",
     "shell.execute_reply": "2021-02-04T02:39:34.312070Z"
    },
    "id": "lU2_yG_vBGza"
   },
   "outputs": [],
   "source": [
    "def print_translation(sentence, tokens, ground_truth):\n",
    "    print(f'{\"Input:\":15s}: {sentence}')\n",
    "    print(f'{\"Prediction\":15s}: {tokens.numpy().decode(\"utf-8\")}')\n",
    "    print(f'{\"Ground truth\":15s}: {ground_truth}')\n",
    "  "
   ]
  },
  {
   "cell_type": "code",
   "execution_count": 72,
   "metadata": {
    "execution": {
     "iopub.execute_input": "2021-02-04T02:39:34.317525Z",
     "iopub.status.busy": "2021-02-04T02:39:34.316406Z",
     "iopub.status.idle": "2021-02-04T02:39:35.976121Z",
     "shell.execute_reply": "2021-02-04T02:39:35.975584Z"
    },
    "id": "YsxrAlvFG8SZ"
   },
   "outputs": [
    {
     "name": "stdout",
     "output_type": "stream",
     "text": [
      "Input:         : este é um problema que temos que resolver.\n",
      "Prediction     : it ' s a lot of a lot of the world .\n",
      "Ground truth   : this is a problem we have to solve .\n"
     ]
    }
   ],
   "source": [
    "sentence = \"este é um problema que temos que resolver.\"\n",
    "ground_truth = \"this is a problem we have to solve .\"\n",
    "\n",
    "translated_text, translated_tokens, attention_weights = evaluate(sentence)\n",
    "print_translation(sentence, translated_text, ground_truth)"
   ]
  },
  {
   "cell_type": "code",
   "execution_count": 66,
   "metadata": {
    "execution": {
     "iopub.execute_input": "2021-02-04T02:39:35.980908Z",
     "iopub.status.busy": "2021-02-04T02:39:35.979974Z",
     "iopub.status.idle": "2021-02-04T02:39:36.841973Z",
     "shell.execute_reply": "2021-02-04T02:39:36.841460Z"
    },
    "id": "7EH5y_aqI4t1"
   },
   "outputs": [
    {
     "name": "stdout",
     "output_type": "stream",
     "text": [
      "Input:         : os meus vizinhos ouviram sobre esta ideia.\n",
      "Prediction     : i ' m a little bit the first .\n",
      "Ground truth   : and my neighboring homes heard about this idea .\n"
     ]
    }
   ],
   "source": [
    "sentence = \"os meus vizinhos ouviram sobre esta ideia.\"\n",
    "ground_truth = \"and my neighboring homes heard about this idea .\"\n",
    "\n",
    "translated_text, translated_tokens, attention_weights = evaluate(sentence)\n",
    "print_translation(sentence, translated_text, ground_truth)"
   ]
  },
  {
   "cell_type": "code",
   "execution_count": 67,
   "metadata": {
    "execution": {
     "iopub.execute_input": "2021-02-04T02:39:36.847205Z",
     "iopub.status.busy": "2021-02-04T02:39:36.846309Z",
     "iopub.status.idle": "2021-02-04T02:39:38.882353Z",
     "shell.execute_reply": "2021-02-04T02:39:38.881840Z"
    },
    "id": "J-hVCTSUMlkb"
   },
   "outputs": [
    {
     "name": "stdout",
     "output_type": "stream",
     "text": [
      "Input:         : vou então muito rapidamente partilhar convosco algumas histórias de algumas coisas mágicas que aconteceram.\n",
      "Prediction     : i ' m going to be a lot of the first thing that i ' m going to be a lot of the world .\n",
      "Ground truth   : so i 'll just share with you some stories very quickly of some magical things that have happened .\n"
     ]
    }
   ],
   "source": [
    "sentence = \"vou então muito rapidamente partilhar convosco algumas histórias de algumas coisas mágicas que aconteceram.\"\n",
    "ground_truth = \"so i \\'ll just share with you some stories very quickly of some magical things that have happened .\"\n",
    "\n",
    "translated_text, translated_tokens, attention_weights = evaluate(sentence)\n",
    "print_translation(sentence, translated_text, ground_truth)"
   ]
  },
  {
   "cell_type": "markdown",
   "metadata": {
    "id": "_1MxkSZvz0jX"
   },
   "source": [
    "You can pass different layers and attention blocks of the decoder to the `plot` parameter."
   ]
  },
  {
   "cell_type": "markdown",
   "metadata": {
    "id": "S3EQiFUC--Ds"
   },
   "source": [
    "## Attention plots"
   ]
  },
  {
   "cell_type": "markdown",
   "metadata": {
    "id": "hHV2pdXHGz-0"
   },
   "source": [
    "The `evaluate` function also returns a dictionary of attention maps you can use to visualize the internal working of the model:"
   ]
  },
  {
   "cell_type": "code",
   "execution_count": 62,
   "metadata": {
    "execution": {
     "iopub.execute_input": "2021-02-04T02:39:38.887671Z",
     "iopub.status.busy": "2021-02-04T02:39:38.886693Z",
     "iopub.status.idle": "2021-02-04T02:39:39.832813Z",
     "shell.execute_reply": "2021-02-04T02:39:39.832327Z"
    },
    "id": "t-kFyiOLH0xg"
   },
   "outputs": [
    {
     "name": "stdout",
     "output_type": "stream",
     "text": [
      "Input:         : este é o primeiro livro que eu fiz.\n",
      "Prediction     : this is the first book i did .\n",
      "Ground truth   : this is the first book i've ever done.\n"
     ]
    }
   ],
   "source": [
    "sentence = \"este é o primeiro livro que eu fiz.\"\n",
    "ground_truth = \"this is the first book i've ever done.\"\n",
    "\n",
    "translated_text, translated_tokens, attention_weights = evaluate(sentence)\n",
    "print_translation(sentence, translated_text, ground_truth)"
   ]
  },
  {
   "cell_type": "code",
   "execution_count": 63,
   "metadata": {
    "execution": {
     "iopub.execute_input": "2021-02-04T02:39:39.838254Z",
     "iopub.status.busy": "2021-02-04T02:39:39.837661Z",
     "iopub.status.idle": "2021-02-04T02:39:39.839958Z",
     "shell.execute_reply": "2021-02-04T02:39:39.839502Z"
    },
    "id": "CcI4DxAK5EHY"
   },
   "outputs": [],
   "source": [
    "def plot_attention_head(in_tokens, translated_tokens, attention):\n",
    "  # The plot is of the attention when a token was generated.\n",
    "  # The model didn't generate `<START>` in the output. Skip it. \n",
    "  translated_tokens = translated_tokens[1:]\n",
    "\n",
    "  ax = plt.gca()\n",
    "  ax.matshow(attention)\n",
    "  ax.set_xticks(range(len(in_tokens)))\n",
    "  ax.set_yticks(range(len(translated_tokens)))\n",
    "\n",
    "  \n",
    "  labels = [label.decode('utf-8') for label in in_tokens.numpy()]\n",
    "  ax.set_xticklabels(\n",
    "      labels, rotation=90)\n",
    "  \n",
    "  labels = [label.decode('utf-8') for label in translated_tokens.numpy()]\n",
    "  ax.set_yticklabels(labels)"
   ]
  },
  {
   "cell_type": "code",
   "execution_count": 64,
   "metadata": {
    "execution": {
     "iopub.execute_input": "2021-02-04T02:39:39.843896Z",
     "iopub.status.busy": "2021-02-04T02:39:39.843277Z",
     "iopub.status.idle": "2021-02-04T02:39:39.846540Z",
     "shell.execute_reply": "2021-02-04T02:39:39.846948Z"
    },
    "id": "_KY4c2cryuxY"
   },
   "outputs": [
    {
     "data": {
      "text/plain": [
       "TensorShape([9, 11])"
      ]
     },
     "execution_count": 1,
     "metadata": {},
     "output_type": "execute_result"
    }
   ],
   "source": [
    "head = 0\n",
    "# shape: (batch=1, num_heads, seq_len_q, seq_len_k)\n",
    "attention_heads = tf.squeeze(\n",
    "  attention_weights['decoder_layer4_block2'], 0)\n",
    "attention = attention_heads[head]\n",
    "attention.shape  "
   ]
  },
  {
   "cell_type": "code",
   "execution_count": 65,
   "metadata": {
    "execution": {
     "iopub.execute_input": "2021-02-04T02:39:39.851785Z",
     "iopub.status.busy": "2021-02-04T02:39:39.850800Z",
     "iopub.status.idle": "2021-02-04T02:39:39.870136Z",
     "shell.execute_reply": "2021-02-04T02:39:39.869618Z"
    },
    "id": "XdxmakWE6Om3"
   },
   "outputs": [
    {
     "data": {
      "text/plain": [
       "<tf.Tensor: shape=(11,), dtype=string, numpy=\n",
       "array([b'[START]', b'este', b'e', b'o', b'primeiro', b'livro', b'que',\n",
       "       b'eu', b'fiz', b'.', b'[END]'], dtype=object)>"
      ]
     },
     "execution_count": 1,
     "metadata": {},
     "output_type": "execute_result"
    }
   ],
   "source": [
    "in_tokens = tf.convert_to_tensor([sentence])\n",
    "in_tokens = tokenizers.pt.tokenize(in_tokens).to_tensor()\n",
    "in_tokens = tokenizers.pt.lookup(in_tokens)[0]\n",
    "in_tokens"
   ]
  },
  {
   "cell_type": "code",
   "execution_count": 66,
   "metadata": {
    "execution": {
     "iopub.execute_input": "2021-02-04T02:39:39.874725Z",
     "iopub.status.busy": "2021-02-04T02:39:39.873972Z",
     "iopub.status.idle": "2021-02-04T02:39:39.876879Z",
     "shell.execute_reply": "2021-02-04T02:39:39.877309Z"
    },
    "id": "hVdPSfecmrpj"
   },
   "outputs": [
    {
     "data": {
      "text/plain": [
       "<tf.Tensor: shape=(10,), dtype=string, numpy=\n",
       "array([b'[START]', b'this', b'is', b'the', b'first', b'book', b'i',\n",
       "       b'did', b'.', b'[END]'], dtype=object)>"
      ]
     },
     "execution_count": 1,
     "metadata": {},
     "output_type": "execute_result"
    }
   ],
   "source": [
    "translated_tokens"
   ]
  },
  {
   "cell_type": "code",
   "execution_count": 67,
   "metadata": {
    "execution": {
     "iopub.execute_input": "2021-02-04T02:39:39.881622Z",
     "iopub.status.busy": "2021-02-04T02:39:39.880666Z",
     "iopub.status.idle": "2021-02-04T02:39:40.115448Z",
     "shell.execute_reply": "2021-02-04T02:39:40.114807Z"
    },
    "id": "XtzyKCFamm4N"
   },
   "outputs": [
    {
     "data": {
      "image/png": "[encoded data removed]",
      "text/plain": [
       "<Figure size 432x288 with 1 Axes>"
      ]
     },
     "metadata": {
      "needs_background": "light"
     },
     "output_type": "display_data"
    }
   ],
   "source": [
    "plot_attention_head(in_tokens, translated_tokens, attention)"
   ]
  },
  {
   "cell_type": "code",
   "execution_count": 68,
   "metadata": {
    "execution": {
     "iopub.execute_input": "2021-02-04T02:39:40.121798Z",
     "iopub.status.busy": "2021-02-04T02:39:40.121127Z",
     "iopub.status.idle": "2021-02-04T02:39:40.123676Z",
     "shell.execute_reply": "2021-02-04T02:39:40.123200Z"
    },
    "id": "MBliB-PCzNK3"
   },
   "outputs": [],
   "source": [
    "def plot_attention_weights(sentence, translated_tokens, attention_heads):\n",
    "  in_tokens = tf.convert_to_tensor([sentence])\n",
    "  in_tokens = tokenizers.pt.tokenize(in_tokens).to_tensor()\n",
    "  in_tokens = tokenizers.pt.lookup(in_tokens)[0]\n",
    "  in_tokens\n",
    "  \n",
    "  fig = plt.figure(figsize=(16, 8))\n",
    "  \n",
    "  for h, head in enumerate(attention_heads):\n",
    "    ax = fig.add_subplot(2, 4, h+1)\n",
    "    \n",
    "    plot_attention_head(in_tokens, translated_tokens, head)\n",
    "    \n",
    "    ax.set_xlabel('Head {}'.format(h+1))\n",
    "  \n",
    "  plt.tight_layout()\n",
    "  plt.show()"
   ]
  },
  {
   "cell_type": "code",
   "execution_count": 69,
   "metadata": {
    "execution": {
     "iopub.execute_input": "2021-02-04T02:39:40.128618Z",
     "iopub.status.busy": "2021-02-04T02:39:40.127738Z",
     "iopub.status.idle": "2021-02-04T02:39:41.444542Z",
     "shell.execute_reply": "2021-02-04T02:39:41.444963Z"
    },
    "id": "pyRQi7944wru"
   },
   "outputs": [
    {
     "data": {
      "image/png": "[encoded data removed]",
      "text/plain": [
       "<Figure size 1152x576 with 8 Axes>"
      ]
     },
     "metadata": {
      "needs_background": "light"
     },
     "output_type": "display_data"
    }
   ],
   "source": [
    "plot_attention_weights(sentence, translated_tokens,\n",
    "                       attention_weights['decoder_layer4_block2'][0])"
   ]
  },
  {
   "cell_type": "markdown",
   "metadata": {
    "id": "MZJirKUtikTt"
   },
   "source": [
    "The model does okay on unfamiliar words. Neither \"triceratops\" or \"encyclopedia\" are in the input dataset and the model almost learns to transliterare them, even withoput a shared vocabulary:"
   ]
  },
  {
   "cell_type": "code",
   "execution_count": 70,
   "metadata": {
    "execution": {
     "iopub.execute_input": "2021-02-04T02:39:41.450413Z",
     "iopub.status.busy": "2021-02-04T02:39:41.449440Z",
     "iopub.status.idle": "2021-02-04T02:39:45.089463Z",
     "shell.execute_reply": "2021-02-04T02:39:45.089973Z"
    },
    "id": "9cxysY7uh3jg"
   },
   "outputs": [
    {
     "name": "stdout",
     "output_type": "stream",
     "text": [
      "Input:         : Eu li sobre triceratops na enciclopédia.\n",
      "Prediction     : i read about tariopates in eelevada .\n",
      "Ground truth   : I read about triceratops in the encyclopedia.\n"
     ]
    },
    {
     "data": {
      "image/png": "[encoded data removed]",
      "text/plain": [
       "<Figure size 1152x576 with 8 Axes>"
      ]
     },
     "metadata": {
      "needs_background": "light"
     },
     "output_type": "display_data"
    }
   ],
   "source": [
    "sentence = \"Eu li sobre triceratops na enciclopédia.\"\n",
    "ground_truth = \"I read about triceratops in the encyclopedia.\"\n",
    "\n",
    "translated_text, translated_tokens, attention_weights = evaluate(sentence)\n",
    "print_translation(sentence, translated_text, ground_truth)\n",
    "\n",
    "plot_attention_weights(sentence, translated_tokens,\n",
    "                       attention_weights['decoder_layer4_block2'][0])"
   ]
  },
  {
   "cell_type": "markdown",
   "metadata": {
    "id": "RqQ1fIsLwkGE"
   },
   "source": [
    "## Summary\n",
    "\n",
    "In this tutorial, you learned about positional encoding, multi-head attention, the importance of masking and how to create a transformer.\n",
    "\n",
    "Try using a different dataset to train the transformer. You can also create the base transformer or transformer XL by changing the hyperparameters above. You can also use the layers defined here to create [BERT](https://arxiv.org/abs/1810.04805) and train state of the art models. Furthermore, you can implement beam search to get better predictions."
   ]
  }
 ],
 "metadata": {
  "accelerator": "GPU",
  "colab": {
   "collapsed_sections": [],
   "name": "transformer.ipynb",
   "toc_visible": true
  },
  "kernelspec": {
   "display_name": "Python 3",
   "language": "python",
   "name": "python3"
  },
  "language_info": {
   "codemirror_mode": {
    "name": "ipython",
    "version": 3
   },
   "file_extension": ".py",
   "mimetype": "text/x-python",
   "name": "python",
   "nbconvert_exporter": "python",
   "pygments_lexer": "ipython3",
   "version": "3.8.5"
  }
 },
 "nbformat": 4,
 "nbformat_minor": 1
}
